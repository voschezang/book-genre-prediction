{
 "cells": [
  {
   "cell_type": "code",
   "execution_count": 9,
   "metadata": {
    "collapsed": true
   },
   "outputs": [],
   "source": [
    "import os, csv, re\n",
    "import pandas as pd\n",
    "import matplotlib.pyplot as plt\n"
   ]
  },
  {
   "cell_type": "markdown",
   "metadata": {},
   "source": [
    "First we create an empty CSV file with the colums to fill."
   ]
  },
  {
   "cell_type": "code",
   "execution_count": 33,
   "metadata": {
    "collapsed": true
   },
   "outputs": [],
   "source": [
    "def create_empty_csv(filename):\n",
    "    csvfile = open('data/output/{0}.csv'.format(filename), \"w\")\n",
    "    writer = csv.writer(csvfile)\n",
    "    columns = ['filename', 'title', 'author', 'release year', 'pos score', 'neg score', 'neu score', 'comp score', 'amt pos', 'amt neg']\n",
    "    writer.writerow(columns)\n",
    "\n",
    "create_empty_csv('tard')\n"
   ]
  },
  {
   "cell_type": "markdown",
   "metadata": {},
   "source": [
    "We want to be able to extract the filename, title, author and release year from every book and save it to a CSV file. "
   ]
  },
  {
   "cell_type": "code",
   "execution_count": 34,
   "metadata": {},
   "outputs": [
    {
     "name": "stdout",
     "output_type": "stream",
     "text": [
      "['9915.txt', 'An Appeal to the Christian Women of the South', 'Angelina Emily Grimke', 2006]\n",
      "['9914.txt', 'The Babylonian Legends of the Creation', 'British Museum', 2006]\n",
      "['9916.txt', \"Spalding's Baseball Guide and Official League Book for 1895\", 'Various', 2006]\n",
      "['9915-8.txt', 'An Appeal to the Christian Women of the South', 'Angelina Emily Grimk�', 2006]\n",
      "['9917-8.txt', 'Your Child: Today and Tomorrow', 'Sidonie Matzner Gruenberg', 2006]\n",
      "['9916-8.txt', \"Spalding's Baseball Guide and Official League Book for 1895\", 'Various', 2006]\n"
     ]
    }
   ],
   "source": [
    "def obtain_data_from_books(directory):\n",
    "    \n",
    "    # initiate CSV file \n",
    "    csvfile = open('data/output/tard.csv', \"a\")\n",
    "    writer = csv.writer(csvfile)\n",
    "  \n",
    "    for book in os.listdir(directory):\n",
    "        if not book.startswith(\".\"):\n",
    "            with open(directory + book, errors='replace') as f:\n",
    "                text = f.read().splitlines()\n",
    "        \n",
    "        author = \"NULL\"\n",
    "        title = \"NULL\"\n",
    "        release_date = \"NULL\"\n",
    "        \n",
    "        # for line in text, check if title, author or release date are stored there\n",
    "        for i in range(80):\n",
    "            # error handling since some texts are <80 lines\n",
    "            try:\n",
    "                if \"Title: \" in text[i]:\n",
    "                    title = text[i][7:]\n",
    "                if \"Author: \" in text[i]:\n",
    "                    author = text[i][8:]\n",
    "                if \"Release Date: \" in text[i]:\n",
    "                    release_date = list(map(int, re.findall('(\\d{4})', text[i][14:].split('[')[0])))[0]\n",
    "                # if they have both been found, do not waste extra time iterating \n",
    "                if title != \"NULL\" and author != \"NULL\" and release_date != \"NULL\":\n",
    "                    title_author_rd_triple = (title, author, release_date)\n",
    "                    pass\n",
    "            except:\n",
    "                pass\n",
    "            \n",
    "        data = [book, title, author, release_date]\n",
    "        if not 'NULL' in data:\n",
    "            writer.writerow(data)\n",
    "            print (data)\n",
    "\n",
    "    \n",
    "directory = \"data/test/\"\n",
    "obtain_data_from_books(directory)\n"
   ]
  },
  {
   "cell_type": "markdown",
   "metadata": {},
   "source": [
    "Delete header and legal stuff at the beginning and end of the books. Books from the gutenberg project have certain sentences that mark the start and the end of a book. This can be exploited to extract only the content from the books that is relevant to our research. The function below does this for all books in the given directory and puts the stripped books in a new directory. The unstripped books are kept because some useful information is found in the headers (author, title, release date)"
   ]
  },
  {
   "cell_type": "code",
   "execution_count": 35,
   "metadata": {},
   "outputs": [
    {
     "name": "stdout",
     "output_type": "stream",
     "text": [
      ".DS_Store\n",
      "9915.txt\n",
      "9914.txt\n",
      "9916.txt\n",
      "9915-8.txt\n",
      "9917-8.txt\n",
      "9916-8.txt\n"
     ]
    }
   ],
   "source": [
    "def remove_unwanted_text(directory, outputdir):\n",
    "\n",
    "    # lists with sentences that either mark the end or the beginning of a book\n",
    "    start_list = (\"*** START OF\", \"***START OF\")\n",
    "    stop_list = (\"*** END OF\", \"***END OF\", \"End of the Project\")\n",
    "\n",
    "    for book in os.listdir(directory):\n",
    "        print(book)\n",
    "        if not book.startswith(\".\"):\n",
    "            with open(directory + book, errors='replace') as f:\n",
    "                content = f.readlines()\n",
    "                \n",
    "                start_index = 1\n",
    "                stop_index = len(content) - 1\n",
    "\n",
    "                for line in range(len(content)):\n",
    "\n",
    "                    if any(item in content[line] for item in start_list):\n",
    "                        start_index = line + 1\n",
    "                    #if stop1 or stop2 or stop3 in content[line]:\n",
    "                    if any(item in content[line] for item in stop_list):\n",
    "                        stop_index = line - 2\n",
    "\n",
    "                book_content = content[start_index:stop_index]\n",
    "                outfile = open(outputdir + '/' + book, 'w')\n",
    "                outfile.writelines(book_content)\n",
    "                outfile.close()\n",
    "        \n",
    "\n",
    "directory = \"data/test/\"\n",
    "outputdir = \"data/output/\"\n",
    "remove_unwanted_text(directory, outputdir)\n",
    "   "
   ]
  },
  {
   "cell_type": "code",
   "execution_count": 24,
   "metadata": {},
   "outputs": [
    {
     "data": {
      "image/png": "[encoded data removed]",
      "text/plain": [
       "<matplotlib.figure.Figure at 0x1078e9a90>"
      ]
     },
     "metadata": {},
     "output_type": "display_data"
    }
   ],
   "source": [
    "data = pd.read_csv('data/output/tard.csv', index_col=0)\n",
    "data['release year'].plot.hist(alpha=0.5, bins=100, range=[1900,2020])\n",
    "plt.show()"
   ]
  },
  {
   "cell_type": "code",
   "execution_count": null,
   "metadata": {
    "collapsed": true
   },
   "outputs": [],
   "source": []
  }
 ],
 "metadata": {
  "kernelspec": {
   "display_name": "Python 3",
   "language": "python",
   "name": "python3"
  },
  "language_info": {
   "codemirror_mode": {
    "name": "ipython",
    "version": 3
   },
   "file_extension": ".py",
   "mimetype": "text/x-python",
   "name": "python",
   "nbconvert_exporter": "python",
   "pygments_lexer": "ipython3",
   "version": "3.6.3"
  }
 },
 "nbformat": 4,
 "nbformat_minor": 2
}
