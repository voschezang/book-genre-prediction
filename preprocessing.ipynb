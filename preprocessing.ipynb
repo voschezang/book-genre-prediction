{
 "cells": [
  {
   "cell_type": "code",
   "execution_count": 33,
   "metadata": {
    "collapsed": true
   },
   "outputs": [],
   "source": [
    "import os, csv"
   ]
  },
  {
   "cell_type": "markdown",
   "metadata": {},
   "source": [
    "We want to be able to extract the title, author and release year from every book and save it to a CSV file. "
   ]
  },
  {
   "cell_type": "code",
   "execution_count": 51,
   "metadata": {},
   "outputs": [
    {
     "name": "stdout",
     "output_type": "stream",
     "text": [
      "['LOC Workshop on Electronic Texts', 'Library of Congress', 'February, 1993']\n",
      "['The Wonderful Wizard of Oz', 'L. Frank Baum', 'July 1, 2008 [EBook #55]']\n",
      "['The Marvellous Land of Oz', 'L. Frank Baum', 'February, 1993']\n",
      "['NREN for All: Insurmountable Opportunity', 'Jean Armour Polly', 'March, 1993']\n",
      "['Aladdin and the Magic Lamp', 'Unknown', 'June 12, 2008 [EBook #57]']\n",
      "['A Discourse on Method', 'Ren� Descartes', 'July 1, 2008 [EBook #59]']\n",
      "['Paradise Regained', 'John Milton', 'June 20, 2008 [EBook #58]']\n",
      "['The Scarlet Pimpernel', 'Baroness Orczy', 'March 7, 2006 [EBook #60]']\n"
     ]
    }
   ],
   "source": [
    "def get_title_author(directory):\n",
    "    \n",
    "    csvfile = open('/Users/Tristan/Downloads/Project Gutenberg Text E-Books as of January 2018/test/tard.csv', \"w\")\n",
    "    writer = csv.writer(csvfile)\n",
    "\n",
    "    for book in os.listdir(directory):\n",
    "        if not book.startswith(\".\"):\n",
    "            with open(directory + book, errors='replace') as f:\n",
    "                text = f.read().splitlines()\n",
    "        \n",
    "        author = \"NULL\"\n",
    "        title = \"NULL\"\n",
    "        release_date = \"NULL\"\n",
    "        \n",
    "        #for line in text, check if title, author or release date are stored there\n",
    "        for i in range(80):\n",
    "            #error handling since some texts are <80 lines\n",
    "            try:\n",
    "                if \"Title: \" in text[i]:\n",
    "                    title = text[i][7:]\n",
    "                if \"Author: \" in text[i]:\n",
    "                    author = text[i][8:]\n",
    "                if \"Release Date: \" in text[i]:\n",
    "                    release_date = text[i][14:]\n",
    "                #if they have both been found, do not waste extra time iterating \n",
    "                if title != \"NULL\" and author != \"NULL\" and release_date != \"NULL\":\n",
    "                    title_author_rd_triple = (title, author, release_date)\n",
    "                    pass\n",
    "            except:\n",
    "                pass\n",
    "            \n",
    "        title_author_rd_triple = [title, author, release_date]\n",
    "        if not 'NULL' in title_author_rd_triple:\n",
    "            writer.writerow(title_author_rd_triple)\n",
    "            print (title_author_rd_triple)\n",
    "\n",
    "    \n",
    "directory = \"/Users/Tristan/Downloads/Project Gutenberg Text E-Books as of January 2018/test/\"\n",
    "get_title_author(directory)\n"
   ]
  },
  {
   "cell_type": "markdown",
   "metadata": {},
   "source": [
    "Delete header and legal stuff at the beginning and end of the books. Books from the gutenberg project have certain sentences that mark the start and the end of a book. This can be exploited to extract only the content from the books that is relevant to our research. The function below does this for all books in the given directory and puts the stripped books in a new directory. The unstripped books are kept because some useful information is found in the headers (author, title, release date)"
   ]
  },
  {
   "cell_type": "code",
   "execution_count": 19,
   "metadata": {},
   "outputs": [
    {
     "name": "stdout",
     "output_type": "stream",
     "text": [
      ".DS_Store\n"
     ]
    },
    {
     "ename": "UnboundLocalError",
     "evalue": "local variable 'content' referenced before assignment",
     "output_type": "error",
     "traceback": [
      "\u001b[0;31m---------------------------------------------------------------------------\u001b[0m",
      "\u001b[0;31mUnboundLocalError\u001b[0m                         Traceback (most recent call last)",
      "\u001b[0;32m<ipython-input-19-836f62b449e6>\u001b[0m in \u001b[0;36m<module>\u001b[0;34m()\u001b[0m\n\u001b[1;32m     32\u001b[0m         \u001b[0moutfile\u001b[0m\u001b[0;34m.\u001b[0m\u001b[0mclose\u001b[0m\u001b[0;34m(\u001b[0m\u001b[0;34m)\u001b[0m\u001b[0;34m\u001b[0m\u001b[0m\n\u001b[1;32m     33\u001b[0m \u001b[0;34m\u001b[0m\u001b[0m\n\u001b[0;32m---> 34\u001b[0;31m \u001b[0mremove_unwanted_text\u001b[0m\u001b[0;34m(\u001b[0m\u001b[0;34m)\u001b[0m\u001b[0;34m\u001b[0m\u001b[0m\n\u001b[0m\u001b[1;32m     35\u001b[0m \u001b[0;34m\u001b[0m\u001b[0m\n",
      "\u001b[0;32m<ipython-input-19-836f62b449e6>\u001b[0m in \u001b[0;36mremove_unwanted_text\u001b[0;34m()\u001b[0m\n\u001b[1;32m     15\u001b[0m         \u001b[0;31m# start and stop indices\u001b[0m\u001b[0;34m\u001b[0m\u001b[0;34m\u001b[0m\u001b[0m\n\u001b[1;32m     16\u001b[0m         \u001b[0mstart_index\u001b[0m \u001b[0;34m=\u001b[0m \u001b[0;36m1\u001b[0m\u001b[0;34m\u001b[0m\u001b[0m\n\u001b[0;32m---> 17\u001b[0;31m         \u001b[0mend_index\u001b[0m \u001b[0;34m=\u001b[0m \u001b[0mlen\u001b[0m\u001b[0;34m(\u001b[0m\u001b[0mcontent\u001b[0m\u001b[0;34m)\u001b[0m \u001b[0;34m-\u001b[0m \u001b[0;36m1\u001b[0m\u001b[0;34m\u001b[0m\u001b[0m\n\u001b[0m\u001b[1;32m     18\u001b[0m \u001b[0;34m\u001b[0m\u001b[0m\n\u001b[1;32m     19\u001b[0m         \u001b[0;32mfor\u001b[0m \u001b[0mline\u001b[0m \u001b[0;32min\u001b[0m \u001b[0mrange\u001b[0m\u001b[0;34m(\u001b[0m\u001b[0mlen\u001b[0m\u001b[0;34m(\u001b[0m\u001b[0mcontent\u001b[0m\u001b[0;34m)\u001b[0m\u001b[0;34m)\u001b[0m\u001b[0;34m:\u001b[0m\u001b[0;34m\u001b[0m\u001b[0m\n",
      "\u001b[0;31mUnboundLocalError\u001b[0m: local variable 'content' referenced before assignment"
     ]
    }
   ],
   "source": [
    "def remove_unwanted_text(directory, outputdir):\n",
    "\n",
    "    # lists with sentences that either mark the end or the beginning of a book\n",
    "    start_list = (\"*** START OF\", \"***START OF\")\n",
    "    stop_list = (\"*** END OF\", \"***END OF\", \"End of the Project\")\n",
    "\n",
    "    for book in os.listdir(directory):\n",
    "        print(book)\n",
    "        if not book.startswith(\".\"):\n",
    "            with open(directory + book, errors='replace') as f:\n",
    "                content = f.readlines()\n",
    "        start_index = 1\n",
    "        stop_index = len(content) - 1\n",
    "        \n",
    "        for line in range(len(content)):\n",
    "        \n",
    "          if any(item in content[line] for item in start_list):\n",
    "            start_index = line + 1\n",
    "          #if stop1 or stop2 or stop3 in content[line]:\n",
    "          if any(item in content[line] for item in stop_list):\n",
    "            stop_index = line - 2\n",
    "            \n",
    "        book_content = content[start_index:stop_index]\n",
    "        outfile = open(outputdir + '/' + book, 'w')\n",
    "        outfile.writelines(book_content)\n",
    "        outfile.close()\n",
    "\n",
    "    end_time = time.clock()\n",
    "    total_time = end_time - start_time\n",
    "    print (\"The total time: \", total_time)\n",
    "\n",
    "directory = \"/Users/Tristan/Downloads/Project Gutenberg Text E-Books as of January 2018/test/\"\n",
    "outputdir = \"/Users/Tristan/Downloads/Project Gutenberg Text E-Books as of January 2018/output/\"\n",
    "# remove_unwanted_text(directory, outputdir)\n",
    "   "
   ]
  },
  {
   "cell_type": "code",
   "execution_count": null,
   "metadata": {
    "collapsed": true
   },
   "outputs": [],
   "source": []
  }
 ],
 "metadata": {
  "kernelspec": {
   "display_name": "Python 3",
   "language": "python",
   "name": "python3"
  },
  "language_info": {
   "codemirror_mode": {
    "name": "ipython",
    "version": 3
   },
   "file_extension": ".py",
   "mimetype": "text/x-python",
   "name": "python",
   "nbconvert_exporter": "python",
   "pygments_lexer": "ipython3",
   "version": "3.6.3"
  }
 },
 "nbformat": 4,
 "nbformat_minor": 2
}
