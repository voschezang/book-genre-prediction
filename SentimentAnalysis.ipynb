{
 "cells": [
  {
   "cell_type": "code",
   "execution_count": 14,
   "metadata": {
    "collapsed": true
   },
   "outputs": [],
   "source": [
    "from vaderSentiment.vaderSentiment import SentimentIntensityAnalyzer\n",
    "import os\n",
    "from nltk.tokenize import sent_tokenize"
   ]
  },
  {
   "cell_type": "markdown",
   "metadata": {},
   "source": [
    ".....\n"
   ]
  },
  {
   "cell_type": "code",
   "execution_count": 23,
   "metadata": {},
   "outputs": [
    {
     "name": "stdout",
     "output_type": "stream",
     "text": [
      "{'neg': 0.029, 'neu': 0.888, 'pos': 0.083, 'compound': 1.0}\n",
      "{'neg': 0.0, 'neu': 1.0, 'pos': 0.0, 'compound': 0.0}\n",
      "{'neg': 0.102, 'neu': 0.77, 'pos': 0.128, 'compound': 1.0}\n",
      "{'neg': 0.092, 'neu': 0.776, 'pos': 0.133, 'compound': 1.0}\n",
      "{'neg': 0.029, 'neu': 0.869, 'pos': 0.103, 'compound': 0.9999}\n",
      "{'neg': 0.092, 'neu': 0.795, 'pos': 0.113, 'compound': 0.9993}\n",
      "{'neg': 0.054, 'neu': 0.8, 'pos': 0.146, 'compound': 1.0}\n",
      "{'neg': 0.102, 'neu': 0.711, 'pos': 0.188, 'compound': 1.0}\n",
      "{'neg': 0.106, 'neu': 0.745, 'pos': 0.149, 'compound': 1.0}\n"
     ]
    }
   ],
   "source": [
    "def return_sentiment_scores(sentence):\n",
    "    # return just the sentiment scores\n",
    "    snt = analyser.polarity_scores(sentence)\n",
    "    print(snt)    \n",
    "\n",
    "def sentiment_analysis(directory):\n",
    "    # returns the sentiment of every sentence in the given amount of positive and negative reviews\n",
    "    for filename in os.listdir(directory):\n",
    "        if filename.endswith(\".txt\"):\n",
    "            text = open(os.path.join(directory, filename), 'r', errors='replace')\n",
    "            return_sentiment_scores(text.read())\n",
    "#             print(sent_tokenize(text.read())\n",
    "            #sentiment_dict = return_sentiment_scores(concat2(text_in_sents))\n",
    "        \n",
    "analyser = SentimentIntensityAnalyzer()                    \n",
    "sentiment_analysis('data/output/')"
   ]
  },
  {
   "cell_type": "code",
   "execution_count": null,
   "metadata": {
    "collapsed": true
   },
   "outputs": [],
   "source": []
  }
 ],
 "metadata": {
  "kernelspec": {
   "display_name": "Python 3",
   "language": "python",
   "name": "python3"
  },
  "language_info": {
   "codemirror_mode": {
    "name": "ipython",
    "version": 3
   },
   "file_extension": ".py",
   "mimetype": "text/x-python",
   "name": "python",
   "nbconvert_exporter": "python",
   "pygments_lexer": "ipython3",
   "version": "3.6.3"
  }
 },
 "nbformat": 4,
 "nbformat_minor": 2
}
