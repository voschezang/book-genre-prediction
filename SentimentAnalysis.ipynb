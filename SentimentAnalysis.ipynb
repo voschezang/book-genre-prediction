{
 "cells": [
  {
   "cell_type": "code",
   "execution_count": 33,
   "metadata": {
    "collapsed": true
   },
   "outputs": [],
   "source": [
    "from vaderSentiment.vaderSentiment import SentimentIntensityAnalyzer\n",
    "import os\n",
    "from nltk.tokenize import sent_tokenize\n",
    "import pandas as pd"
   ]
  },
  {
   "cell_type": "markdown",
   "metadata": {},
   "source": [
    "Sentiment analysis. Analysis is performed for each sentence and the sentiment scores kept in lists. Sentiment scores are calculated by averaging the sentiment scores for all sentences."
   ]
  },
  {
   "cell_type": "code",
   "execution_count": 63,
   "metadata": {},
   "outputs": [
    {
     "name": "stdout",
     "output_type": "stream",
     "text": [
      "8\n",
      "Index(['00053.txt', '00055.txt', '00054.txt', '00056.txt', '00057.txt',\n",
      "       '00059.txt', '00058.txt', '00060.txt'],\n",
      "      dtype='object', name='filename')\n",
      "8 8 8 8\n"
     ]
    }
   ],
   "source": [
    "def return_sentiment_scores(sentence):\n",
    "    # return just the sentiment scores\n",
    "    snt = analyser.polarity_scores(sentence)\n",
    "    return snt\n",
    "\n",
    "def sentiment_analysis(directory):\n",
    "    # returns the sentiment of every book in the directory\n",
    "    data = pd.read_csv('data/output/tard.csv', index_col=0)\n",
    "    print(len(data.index))\n",
    "    print(data.index)\n",
    "    pos_list = []\n",
    "    neg_list = []\n",
    "    neu_list = []\n",
    "    comp_list = []\n",
    "    \n",
    "    # for every book\n",
    "    for filename in os.listdir(directory):\n",
    "        \n",
    "        sub_pos_list = []\n",
    "        sub_neg_list = []\n",
    "        sub_neu_list = []\n",
    "        sub_comp_list = []\n",
    "        \n",
    "        # if file is a textfile\n",
    "        if filename.endswith(\".txt\"):\n",
    "            text = open(os.path.join(directory, filename), 'r', errors='replace')\n",
    "            # for every line in the text\n",
    "            for line in text.readlines():\n",
    "                scores = return_sentiment_scores(line)\n",
    "                # save sentiment scores \n",
    "                sub_neg_list.append(scores['neg'])\n",
    "                sub_neu_list.append(scores['neu'])\n",
    "                sub_pos_list.append(scores['pos'])\n",
    "                sub_comp_list.append(scores['compound'])\n",
    "            \n",
    "            # then save average sentiment scores for each book\n",
    "            neg_list.append((sum(sub_neg_list) / float(len(sub_neg_list))))\n",
    "            pos_list.append((sum(sub_pos_list) / float(len(sub_pos_list))))\n",
    "            neu_list.append((sum(sub_neu_list) / float(len(sub_neu_list))))\n",
    "            comp_list.append((sum(sub_comp_list) / float(len(sub_comp_list))))\n",
    "            \n",
    "    # convert scores to pandas compatible list\n",
    "    neg = pd.Series(neg_list)\n",
    "    pos = pd.Series(pos_list)\n",
    "    neu = pd.Series(neu_list)\n",
    "    com = pd.Series(comp_list)\n",
    "\n",
    "    print(len(neg), len(pos), len(neu), len(com))\n",
    "    # fill the right columns with the right data\n",
    "    data['neg score'] = neg.values\n",
    "    data['pos score'] = pos.values\n",
    "    data['neu score'] = neu.values\n",
    "    data['comp score'] = com.values\n",
    "\n",
    "    data.to_csv('data/output/tard.csv')\n",
    "    \n",
    "analyser = SentimentIntensityAnalyzer()                    \n",
    "sentiment_analysis('data/output/')"
   ]
  },
  {
   "cell_type": "code",
   "execution_count": null,
   "metadata": {
    "collapsed": true
   },
   "outputs": [],
   "source": []
  }
 ],
 "metadata": {
  "kernelspec": {
   "display_name": "Python 3",
   "language": "python",
   "name": "python3"
  },
  "language_info": {
   "codemirror_mode": {
    "name": "ipython",
    "version": 3
   },
   "file_extension": ".py",
   "mimetype": "text/x-python",
   "name": "python",
   "nbconvert_exporter": "python",
   "pygments_lexer": "ipython3",
   "version": "3.6.3"
  }
 },
 "nbformat": 4,
 "nbformat_minor": 2
}
