{
 "cells": [
  {
   "cell_type": "code",
   "execution_count": 1,
   "metadata": {},
   "outputs": [],
   "source": [
    "from SPARQLWrapper import SPARQLWrapper, JSON, XML, N3, RDF\n",
    "import json\n",
    "from collections import namedtuple"
   ]
  },
  {
   "cell_type": "code",
   "execution_count": 2,
   "metadata": {},
   "outputs": [],
   "source": [
    "# local modules\n",
    "import sparql"
   ]
  },
  {
   "cell_type": "markdown",
   "metadata": {},
   "source": [
    "An example query"
   ]
  },
  {
   "cell_type": "code",
   "execution_count": 8,
   "metadata": {},
   "outputs": [
    {
     "name": "stdout",
     "output_type": "stream",
     "text": [
      "keys: ['s', 'author']\n",
      "first result:\n"
     ]
    },
    {
     "data": {
      "text/plain": [
       "{'author': {'type': 'uri',\n",
       "  'value': 'http://dbpedia.org/resource/R._J._Yeatman'},\n",
       " 's': {'type': 'uri',\n",
       "  'value': 'http://dbpedia.org/resource/1066_and_All_That'}}"
      ]
     },
     "execution_count": 8,
     "metadata": {},
     "output_type": "execute_result"
    }
   ],
   "source": [
    "query = sparql.query\n",
    "keys, results = sparql.search(query)\n",
    "print('keys:',keys)\n",
    "print('first result:')\n",
    "results[0]"
   ]
  },
  {
   "cell_type": "code",
   "execution_count": 15,
   "metadata": {},
   "outputs": [
    {
     "data": {
      "text/plain": [
       "{'author': {'type': 'uri',\n",
       "  'value': 'http://dbpedia.org/resource/L._Frank_Baum'},\n",
       " 'birthDate': {'datatype': 'http://www.w3.org/2001/XMLSchema#date',\n",
       "  'type': 'typed-literal',\n",
       "  'value': '1856-05-15'},\n",
       " 'book': {'type': 'uri',\n",
       "  'value': 'http://dbpedia.org/resource/The_Wonderful_Wizard_of_Oz'},\n",
       " 'date': {'datatype': 'http://www.w3.org/2001/XMLSchema#date',\n",
       "  'type': 'typed-literal',\n",
       "  'value': '1900-05-17'},\n",
       " 'genre': {'type': 'uri',\n",
       "  'value': \"http://dbpedia.org/resource/Children's_literature\"}}"
      ]
     },
     "execution_count": 15,
     "metadata": {},
     "output_type": "execute_result"
    }
   ],
   "source": [
    "keys, results = sparql.book_info()\n",
    "results[0]"
   ]
  },
  {
   "cell_type": "code",
   "execution_count": null,
   "metadata": {},
   "outputs": [],
   "source": []
  }
 ],
 "metadata": {
  "kernelspec": {
   "display_name": "Python 3",
   "language": "python",
   "name": "python3"
  },
  "language_info": {
   "codemirror_mode": {
    "name": "ipython",
    "version": 3
   },
   "file_extension": ".py",
   "mimetype": "text/x-python",
   "name": "python",
   "nbconvert_exporter": "python",
   "pygments_lexer": "ipython3",
   "version": "3.6.4"
  }
 },
 "nbformat": 4,
 "nbformat_minor": 2
}
