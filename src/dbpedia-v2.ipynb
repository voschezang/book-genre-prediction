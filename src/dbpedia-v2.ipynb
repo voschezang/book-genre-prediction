{
 "cells": [
  {
   "cell_type": "code",
   "execution_count": 2,
   "metadata": {},
   "outputs": [],
   "source": [
    "from SPARQLWrapper import SPARQLWrapper, JSON, XML, N3, RDF\n",
    "import json\n",
    "from collections import namedtuple"
   ]
  },
  {
   "cell_type": "markdown",
   "metadata": {},
   "source": [
    "An example query"
   ]
  },
  {
   "cell_type": "code",
   "execution_count": 3,
   "metadata": {},
   "outputs": [],
   "source": [
    "def search(query):\n",
    "    # results :: dict\n",
    "    sparql = SPARQLWrapper(\"http://dbpedia.org/sparql\")\n",
    "    sparql.setQuery(query)\n",
    "    sparql.setReturnFormat(JSON)\n",
    "    results = sparql.query().convert()\n",
    "    return results"
   ]
  },
  {
   "cell_type": "code",
   "execution_count": 4,
   "metadata": {},
   "outputs": [],
   "source": [
    "query = \"\"\"\n",
    "PREFIX rdf: <http://www.w3.org/1999/02/22-rdf-syntax-ns#>\n",
    "PREFIX rdfs: <http://www.w3.org/2000/01/rdf-schema#>\n",
    "PREFIX dbpedia: <http://dbpedia.org/resource/>\n",
    "PREFIX ontology: <http://dbpedia.org/ontology/>\n",
    "\n",
    "SELECT distinct ?s  ?author \n",
    "WHERE {\n",
    "?s rdf:type ontology:Book;\n",
    "  ontology:author ?author .\n",
    "\n",
    "\n",
    "}\n",
    "LIMIT 10\n",
    "\"\"\""
   ]
  },
  {
   "cell_type": "code",
   "execution_count": 13,
   "metadata": {
    "scrolled": true
   },
   "outputs": [
    {
     "data": {
      "text/plain": [
       "{'author': {'type': 'uri',\n",
       "  'value': 'http://dbpedia.org/resource/R._J._Yeatman'},\n",
       " 's': {'type': 'uri',\n",
       "  'value': 'http://dbpedia.org/resource/1066_and_All_That'}}"
      ]
     },
     "execution_count": 13,
     "metadata": {},
     "output_type": "execute_result"
    }
   ],
   "source": [
    "results = search(query)\n",
    "results['results'].keys()\n",
    "results['results']['bindings'][0]"
   ]
  },
  {
   "cell_type": "code",
   "execution_count": 44,
   "metadata": {},
   "outputs": [],
   "source": [
    "def book_info(title='The_Wonderful_Wizard_of_Oz'):\n",
    "    query = \"\"\"\n",
    "PREFIX rdf: <http://www.w3.org/1999/02/22-rdf-syntax-ns#>\n",
    "PREFIX rdfs: <http://www.w3.org/2000/01/rdf-schema#>\n",
    "PREFIX dbp: <http://dbpedia.org/resource/>\n",
    "PREFIX dbo: <http://dbpedia.org/ontology/>\n",
    "\n",
    "SELECT ?book ?title ?author ?genre ?date ?birthDate\n",
    "WHERE {\n",
    "    ?book rdf:type dbo:Book;\n",
    "        dbo:author ?author.\n",
    "    FILTER regex(str(?book), \"%s\").\n",
    "    OPTIONAL { ?book dbo:releaseDate ?date. }\n",
    "    OPTIONAL { ?book dbo:literaryGenre ?genre. }\n",
    "    OPTIONAL { ?author dbo:birthDate ?birthDate. }\n",
    "}\n",
    "LIMIT 3\n",
    "\"\"\" % title\n",
    "    return search(query)"
   ]
  },
  {
   "cell_type": "code",
   "execution_count": 45,
   "metadata": {},
   "outputs": [
    {
     "data": {
      "text/plain": [
       "{'author': {'type': 'uri',\n",
       "  'value': 'http://dbpedia.org/resource/L._Frank_Baum'},\n",
       " 'birthDate': {'datatype': 'http://www.w3.org/2001/XMLSchema#date',\n",
       "  'type': 'typed-literal',\n",
       "  'value': '1856-05-15'},\n",
       " 'book': {'type': 'uri',\n",
       "  'value': 'http://dbpedia.org/resource/The_Wonderful_Wizard_of_Oz'},\n",
       " 'date': {'datatype': 'http://www.w3.org/2001/XMLSchema#date',\n",
       "  'type': 'typed-literal',\n",
       "  'value': '1900-05-17'},\n",
       " 'genre': {'type': 'uri',\n",
       "  'value': \"http://dbpedia.org/resource/Children's_literature\"}}"
      ]
     },
     "execution_count": 45,
     "metadata": {},
     "output_type": "execute_result"
    }
   ],
   "source": [
    "results = book_info()\n",
    "# show first result\n",
    "results['results']['bindings'][0]"
   ]
  },
  {
   "cell_type": "code",
   "execution_count": 16,
   "metadata": {},
   "outputs": [],
   "source": [
    "def author_info(name='L._Frank_Baum'):\n",
    "    query = \"\"\"\n",
    "PREFIX rdf: <http://www.w3.org/1999/02/22-rdf-syntax-ns#>\n",
    "PREFIX rdfs: <http://www.w3.org/2000/01/rdf-schema#>\n",
    "PREFIX dbpedia: <http://dbpedia.org/resource/>\n",
    "PREFIX dbo: <http://dbpedia.org/ontology/>\n",
    "PREFIX dbpedia-owl: <http://dbpedia.org/ontology/>\n",
    "\n",
    "SELECT ?author ?date\n",
    "WHERE {\n",
    "    ?author dbo:child ?child\n",
    "    FILTER regex(str(?child), \"%s\") .\n",
    "     \n",
    "    ?author dbo:birthDate ?date .\n",
    "    \n",
    "}\n",
    "LIMIT 10\n",
    "\"\"\" % name\n",
    "    return search(query)"
   ]
  },
  {
   "cell_type": "code",
   "execution_count": 17,
   "metadata": {
    "scrolled": true
   },
   "outputs": [
    {
     "data": {
      "text/plain": [
       "{'head': {'link': [], 'vars': ['author', 'date']},\n",
       " 'results': {'bindings': [{'author': {'type': 'uri',\n",
       "     'value': 'http://dbpedia.org/resource/Aaron_Burr'},\n",
       "    'date': {'datatype': 'http://www.w3.org/2001/XMLSchema#date',\n",
       "     'type': 'typed-literal',\n",
       "     'value': '1756-02-06'}},\n",
       "   {'author': {'type': 'uri',\n",
       "     'value': 'http://dbpedia.org/resource/Aaron_Burr'},\n",
       "    'date': {'datatype': 'http://www.w3.org/2001/XMLSchema#date',\n",
       "     'type': 'typed-literal',\n",
       "     'value': '1756-2-6'}},\n",
       "   {'author': {'type': 'uri',\n",
       "     'value': 'http://dbpedia.org/resource/Alice_Walker'},\n",
       "    'date': {'datatype': 'http://www.w3.org/2001/XMLSchema#date',\n",
       "     'type': 'typed-literal',\n",
       "     'value': '1944-02-09'}},\n",
       "   {'author': {'type': 'uri',\n",
       "     'value': 'http://dbpedia.org/resource/Alice_Walker'},\n",
       "    'date': {'datatype': 'http://www.w3.org/2001/XMLSchema#date',\n",
       "     'type': 'typed-literal',\n",
       "     'value': '1944-0-0'}},\n",
       "   {'author': {'type': 'uri',\n",
       "     'value': 'http://dbpedia.org/resource/Allen_G._Thurman'},\n",
       "    'date': {'datatype': 'http://www.w3.org/2001/XMLSchema#date',\n",
       "     'type': 'typed-literal',\n",
       "     'value': '1813-11-13'}},\n",
       "   {'author': {'type': 'uri',\n",
       "     'value': 'http://dbpedia.org/resource/Andie_MacDowell'},\n",
       "    'date': {'datatype': 'http://www.w3.org/2001/XMLSchema#date',\n",
       "     'type': 'typed-literal',\n",
       "     'value': '1958-04-21'}},\n",
       "   {'author': {'type': 'uri',\n",
       "     'value': 'http://dbpedia.org/resource/Andie_MacDowell'},\n",
       "    'date': {'datatype': 'http://www.w3.org/2001/XMLSchema#date',\n",
       "     'type': 'typed-literal',\n",
       "     'value': '1958-4-21'}},\n",
       "   {'author': {'type': 'uri',\n",
       "     'value': 'http://dbpedia.org/resource/Andrew_Lloyd_Webber'},\n",
       "    'date': {'datatype': 'http://www.w3.org/2001/XMLSchema#date',\n",
       "     'type': 'typed-literal',\n",
       "     'value': '1948-03-22'}},\n",
       "   {'author': {'type': 'uri',\n",
       "     'value': 'http://dbpedia.org/resource/Andrew_Lloyd_Webber'},\n",
       "    'date': {'datatype': 'http://www.w3.org/2001/XMLSchema#date',\n",
       "     'type': 'typed-literal',\n",
       "     'value': '1948-3-22'}},\n",
       "   {'author': {'type': 'uri',\n",
       "     'value': 'http://dbpedia.org/resource/Antonio_Stradivari'},\n",
       "    'date': {'datatype': 'http://www.w3.org/2001/XMLSchema#date',\n",
       "     'type': 'typed-literal',\n",
       "     'value': '1644-1-1'}}],\n",
       "  'distinct': False,\n",
       "  'ordered': True}}"
      ]
     },
     "execution_count": 17,
     "metadata": {},
     "output_type": "execute_result"
    }
   ],
   "source": [
    "author_info('a')"
   ]
  },
  {
   "cell_type": "code",
   "execution_count": null,
   "metadata": {},
   "outputs": [],
   "source": []
  },
  {
   "cell_type": "code",
   "execution_count": null,
   "metadata": {},
   "outputs": [],
   "source": []
  }
 ],
 "metadata": {
  "kernelspec": {
   "display_name": "Python 3",
   "language": "python",
   "name": "python3"
  },
  "language_info": {
   "codemirror_mode": {
    "name": "ipython",
    "version": 3
   },
   "file_extension": ".py",
   "mimetype": "text/x-python",
   "name": "python",
   "nbconvert_exporter": "python",
   "pygments_lexer": "ipython3",
   "version": "3.6.4"
  }
 },
 "nbformat": 4,
 "nbformat_minor": 2
}
