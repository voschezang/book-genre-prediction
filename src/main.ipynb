{
 "cells": [
  {
   "cell_type": "code",
   "execution_count": 1,
   "metadata": {},
   "outputs": [
    {
     "name": "stderr",
     "output_type": "stream",
     "text": [
      "/Library/Frameworks/Python.framework/Versions/3.6/lib/python3.6/site-packages/h5py/__init__.py:36: FutureWarning: Conversion of the second argument of issubdtype from `float` to `np.floating` is deprecated. In future, it will be treated as `np.float64 == np.dtype(float).type`.\n",
      "  from ._conv import register_converters as _register_converters\n",
      "Using TensorFlow backend.\n"
     ]
    }
   ],
   "source": [
    "import pandas, os, numpy as np, collections\n",
    "import os, sklearn, pandas, numpy as np\n",
    "from sklearn import svm\n",
    "import skimage\n",
    "from skimage import io, filters\n",
    "from utils import utils # custom functions, in local environment\n",
    "import matplotlib.pyplot as plt\n",
    "from keras.callbacks import TensorBoard\n",
    "%matplotlib inline\n",
    "\n",
    "## NN libs\n",
    "import keras\n",
    "from sklearn.decomposition import PCA\n",
    "from keras.utils import to_categorical\n",
    "from keras.layers import Dense, Activation\n",
    "from keras.optimizers import SGD, Adam\n",
    "from keras.models import Sequential\n",
    "from keras.layers import Dense, Activation, Conv2D, Conv3D, MaxPool2D, Dropout, Flatten"
   ]
  },
  {
   "cell_type": "code",
   "execution_count": 2,
   "metadata": {},
   "outputs": [
    {
     "name": "stdout",
     "output_type": "stream",
     "text": [
      " Dataset :: namedtuple(\n",
      "  'info': pandas.df\n",
      "  'labels': pandas.df('filename.txt': 'genre')\n",
      "  'genres': ['genre'] # unique genres\n",
      "  'label_dataset': SubDataset\n",
      "  'sentiment_dataset': SubDataset\n",
      "  'book_sentiment_words_list': ['filename']\n",
      "\n",
      " SubDataset :: namedtuple(\n",
      "   'dict_index_to_label' = dict to convert label_index -> label_name\n",
      "   'dict_label_to_index'= dict to convert label_name -> label_index\n",
      "\n"
     ]
    }
   ],
   "source": [
    "import data, config, tfidf, models, sentimentanalysis\n",
    "from utils import io"
   ]
  },
  {
   "cell_type": "code",
   "execution_count": 3,
   "metadata": {},
   "outputs": [
    {
     "data": {
      "text/plain": [
       "Index(['title', 'filename', 'title.1', 'author', 'release year', 'genre',\n",
       "       'pos score', 'neg score', 'neu score', 'comp score', 'amt pos',\n",
       "       'amt neg'],\n",
       "      dtype='object')"
      ]
     },
     "execution_count": 3,
     "metadata": {},
     "output_type": "execute_result"
    }
   ],
   "source": [
    "# info = pandas.read_csv(config.dataset_dir + 'final_data.csv')\n",
    "dataset = data.init_dataset()\n",
    "dataset.info.keys()"
   ]
  },
  {
   "cell_type": "code",
   "execution_count": 4,
   "metadata": {},
   "outputs": [
    {
     "name": "stdout",
     "output_type": "stream",
     "text": [
      "Loaded model from disk\n",
      "compiled model\n"
     ]
    }
   ],
   "source": [
    "m = config.dataset_dir + 'models/default_model.json'\n",
    "w = config.dataset_dir + 'models/default_model_w.h5'\n",
    "model = models.load_model(m,w)"
   ]
  },
  {
   "cell_type": "code",
   "execution_count": 5,
   "metadata": {},
   "outputs": [
    {
     "data": {
      "text/plain": [
       "<keras.models.Sequential at 0x1196eb160>"
      ]
     },
     "execution_count": 5,
     "metadata": {},
     "output_type": "execute_result"
    }
   ],
   "source": [
    "model"
   ]
  },
  {
   "cell_type": "code",
   "execution_count": 6,
   "metadata": {},
   "outputs": [],
   "source": [
    "filename = config.dataset_dir + 'test/12.txt'"
   ]
  },
  {
   "cell_type": "code",
   "execution_count": 7,
   "metadata": {},
   "outputs": [],
   "source": [
    "tokens, lines = io.read_book3(filename)"
   ]
  },
  {
   "cell_type": "code",
   "execution_count": 8,
   "metadata": {
    "scrolled": true
   },
   "outputs": [
    {
     "data": {
      "text/plain": [
       "4306"
      ]
     },
     "execution_count": 8,
     "metadata": {},
     "output_type": "execute_result"
    }
   ],
   "source": [
    "len(lines)"
   ]
  },
  {
   "cell_type": "code",
   "execution_count": 9,
   "metadata": {},
   "outputs": [
    {
     "data": {
      "text/plain": [
       "'The Project Gutenberg EBook of Through the Looking-Glass, by\\n'"
      ]
     },
     "execution_count": 9,
     "metadata": {},
     "output_type": "execute_result"
    }
   ],
   "source": [
    "lines[0]"
   ]
  },
  {
   "cell_type": "code",
   "execution_count": 10,
   "metadata": {},
   "outputs": [
    {
     "data": {
      "text/plain": [
       "['the', 'project', 'gutenberg', 'ebook']"
      ]
     },
     "execution_count": 10,
     "metadata": {},
     "output_type": "execute_result"
    }
   ],
   "source": [
    "tokens[:4]"
   ]
  },
  {
   "cell_type": "code",
   "execution_count": 11,
   "metadata": {},
   "outputs": [],
   "source": [
    "v1 = data.tokenlist_to_vector(tokens, dataset.sentiment_dataset)\n",
    "v2 = np.array(sentimentanalysis.per_book(lines))\n",
    "x = np.append(v1,v2)\n",
    "x_test = np.stack([x])"
   ]
  },
  {
   "cell_type": "code",
   "execution_count": 12,
   "metadata": {},
   "outputs": [
    {
     "data": {
      "text/plain": [
       "(1, 113)"
      ]
     },
     "execution_count": 12,
     "metadata": {},
     "output_type": "execute_result"
    }
   ],
   "source": [
    "model.predict(x_test).shape"
   ]
  },
  {
   "cell_type": "code",
   "execution_count": 13,
   "metadata": {},
   "outputs": [],
   "source": [
    "y_test = model.predict(x_test)[0]"
   ]
  },
  {
   "cell_type": "code",
   "execution_count": 14,
   "metadata": {},
   "outputs": [],
   "source": [
    "results, best = data.decode_y(dataset, y_test, 1)"
   ]
  },
  {
   "cell_type": "code",
   "execution_count": 23,
   "metadata": {},
   "outputs": [
    {
     "name": "stdout",
     "output_type": "stream",
     "text": [
      "Predicted genre: \"young adult\" with a score of 13.84%\n"
     ]
    }
   ],
   "source": [
    "v = round(results[best[0]] * 100,2)\n",
    "print('Predicted genre: \"%s\" with a score of %s%s' % (best[0], v, '%') )"
   ]
  },
  {
   "cell_type": "code",
   "execution_count": 16,
   "metadata": {},
   "outputs": [],
   "source": [
    "results2, best = data.decode_y(dataset, y_test, 6)"
   ]
  },
  {
   "cell_type": "code",
   "execution_count": 17,
   "metadata": {},
   "outputs": [
    {
     "name": "stdout",
     "output_type": "stream",
     "text": [
      "1: young adult\n",
      "2: adventur\n",
      "3: tragedi\n",
      "4: sword and sorceri\n",
      "5: histor\n",
      "6: satir\n"
     ]
    }
   ],
   "source": [
    "for i,v in enumerate(best):\n",
    "    print('%i: %s' % (i+1,v) )"
   ]
  },
  {
   "cell_type": "code",
   "execution_count": 18,
   "metadata": {},
   "outputs": [
    {
     "data": {
      "text/plain": [
       "['young adult', 'adventur', 'tragedi', 'sword and sorceri', 'histor', 'satir']"
      ]
     },
     "execution_count": 18,
     "metadata": {},
     "output_type": "execute_result"
    }
   ],
   "source": [
    "best"
   ]
  },
  {
   "cell_type": "code",
   "execution_count": 19,
   "metadata": {},
   "outputs": [],
   "source": [
    "dict_ = results\n",
    "ls = list(dict_.items())\n",
    "ls.sort(key=lambda x: x[1], reverse=True)\n",
    "selected = ls[:5]"
   ]
  },
  {
   "cell_type": "code",
   "execution_count": 20,
   "metadata": {},
   "outputs": [
    {
     "data": {
      "text/plain": [
       "[('young adult', 0.13841757),\n",
       " ('adventur', 0.08993133),\n",
       " ('tragedi', 0.08365248),\n",
       " ('sword and sorceri', 0.055733968),\n",
       " ('histor', 0.050287463),\n",
       " ('satir', 0.045559965),\n",
       " ('captiv narr', 0.03283493),\n",
       " ('bush poetri', 0.031957846),\n",
       " ('natur write', 0.031080721),\n",
       " ('textbook', 0.02514451),\n",
       " ('epistolari', 0.024493687),\n",
       " ('thriller', 0.024071176),\n",
       " ('bildungsroman', 0.023193855),\n",
       " ('poetri magazin', 0.019278247),\n",
       " ('drama', 0.017490538),\n",
       " ('social commentari', 0.016139176),\n",
       " ('feministscienc', 0.015549175),\n",
       " ('spiritu autobiographi', 0.014971533),\n",
       " ('dystopia', 0.01481873),\n",
       " ('militari histori', 0.012560144),\n",
       " ('fantasyethn', 0.011540026),\n",
       " ('militariscienc', 0.010606985),\n",
       " ('cryptozoolog', 0.010333052),\n",
       " ('tragicomedi', 0.010269784),\n",
       " ('poem', 0.00920145),\n",
       " ('polit', 0.009146688),\n",
       " ('utopiananddystopian', 0.008720625),\n",
       " ('hindi', 0.008609294),\n",
       " ('famili saga', 0.008470377),\n",
       " ('war', 0.008040619),\n",
       " ('busi', 0.0074672992),\n",
       " ('literari', 0.006315459),\n",
       " ('planetari romanc', 0.006274579),\n",
       " ('biograph', 0.0059440127),\n",
       " ('biographiin', 0.005714967),\n",
       " ('dystopian', 0.0056408886),\n",
       " ('refer work', 0.005544754),\n",
       " ('selfhelp', 0.005339398),\n",
       " ('decad movement', 0.005218824),\n",
       " ('sensat', 0.0048535005),\n",
       " ('novella', 0.00418562),\n",
       " ('essay', 0.004038787),\n",
       " ('philosophi', 0.003947401),\n",
       " ('cookbook', 0.0037566465),\n",
       " ('nonfict', 0.003726796),\n",
       " ('science', 0.0033090585),\n",
       " ('literari realism', 0.0032890758),\n",
       " ('sketch stori', 0.0030843213),\n",
       " ('fiction', 0.0029788336),\n",
       " ('knstlerroman', 0.002928005),\n",
       " ('slave narr', 0.0029111379),\n",
       " ('children', 0.002844592),\n",
       " ('mysteri', 0.0026122564),\n",
       " ('canadian', 0.002563993),\n",
       " ('horror', 0.0024950984),\n",
       " ('black comedi', 0.0021688708),\n",
       " ('contemporari romanc', 0.0021566357),\n",
       " ('poetri', 0.0020562597),\n",
       " ('comic', 0.0020216012),\n",
       " ('fairi tale', 0.0018773808),\n",
       " ('detect stori', 0.0017617171),\n",
       " ('world war ii', 0.0016278031),\n",
       " ('psycholog', 0.0015650943),\n",
       " ('theodici', 0.0013871939),\n",
       " ('memoir', 0.0013632698),\n",
       " ('novel of manner', 0.0013358961),\n",
       " ('detect', 0.0012884979),\n",
       " ('interior design', 0.0012186666),\n",
       " ('apocalyptandpostapocalypt', 0.0011834266),\n",
       " ('chivalr romanc', 0.00092777424),\n",
       " ('altern histori', 0.0009108708),\n",
       " ('nonprofit', 0.0008817894),\n",
       " ('humor', 0.00062976475),\n",
       " ('lost world genr', 0.00062107376),\n",
       " ('comedi', 0.0005807842),\n",
       " ('folklor', 0.0005304812),\n",
       " ('prose poetri', 0.0004735587),\n",
       " ('biographi', 0.00046140834),\n",
       " ('unknown', 0.00045813233),\n",
       " ('frame stori', 0.00044299554),\n",
       " ('wuxia', 0.0003057035),\n",
       " ('crime', 0.0002424217),\n",
       " ('travel write', 0.00017168792),\n",
       " ('roman clef', 0.0001213096),\n",
       " ('fantasi', 5.3058895e-05),\n",
       " ('pictur book', 6.08836e-06),\n",
       " ('autobiographi', 3.8681337e-06),\n",
       " ('diariand', 3.8009146e-06),\n",
       " ('gaucho', 3.7735554e-06),\n",
       " ('short stori', 3.464051e-06),\n",
       " ('temper movement', 3.4343445e-06),\n",
       " ('western', 3.410333e-06),\n",
       " ('autobiograph', 3.1805475e-06),\n",
       " ('christian', 3.1337502e-06),\n",
       " ('vers', 3.0340896e-06),\n",
       " ('nonsens poetri', 3.0259264e-06),\n",
       " ('encyclopedia', 2.96426e-06),\n",
       " ('romantic', 2.9306866e-06),\n",
       " ('novel', 2.8778993e-06),\n",
       " ('spi', 2.818731e-06),\n",
       " ('victorian', 2.7887972e-06),\n",
       " ('ruritanian romanc', 2.6833363e-06),\n",
       " ('science fiction', 2.623718e-06),\n",
       " ('monograph', 2.6171706e-06),\n",
       " ('photographi', 2.5719182e-06),\n",
       " ('gothic', 2.5474196e-06),\n",
       " ('histori of idea', 2.5206507e-06),\n",
       " ('syair', 2.481496e-06),\n",
       " ('romance', 2.4492315e-06),\n",
       " ('econom', 2.3498296e-06),\n",
       " ('utopian', 2.2666943e-06),\n",
       " ('travel', 1.9388842e-06),\n",
       " ('juvenil', 1.9222532e-06)]"
      ]
     },
     "execution_count": 20,
     "metadata": {},
     "output_type": "execute_result"
    }
   ],
   "source": [
    "ls"
   ]
  },
  {
   "cell_type": "code",
   "execution_count": 21,
   "metadata": {},
   "outputs": [
    {
     "data": {
      "text/plain": [
       "[('young adult', 0.13841757),\n",
       " ('adventur', 0.08993133),\n",
       " ('tragedi', 0.08365248),\n",
       " ('sword and sorceri', 0.055733968),\n",
       " ('histor', 0.050287463)]"
      ]
     },
     "execution_count": 21,
     "metadata": {},
     "output_type": "execute_result"
    }
   ],
   "source": [
    "selected"
   ]
  },
  {
   "cell_type": "code",
   "execution_count": 22,
   "metadata": {},
   "outputs": [
    {
     "data": {
      "text/plain": [
       "True"
      ]
     },
     "execution_count": 22,
     "metadata": {},
     "output_type": "execute_result"
    }
   ],
   "source": [
    "results == results2"
   ]
  },
  {
   "cell_type": "code",
   "execution_count": null,
   "metadata": {},
   "outputs": [],
   "source": []
  },
  {
   "cell_type": "code",
   "execution_count": null,
   "metadata": {},
   "outputs": [],
   "source": []
  }
 ],
 "metadata": {
  "kernelspec": {
   "display_name": "Python 3",
   "language": "python",
   "name": "python3"
  },
  "language_info": {
   "codemirror_mode": {
    "name": "ipython",
    "version": 3
   },
   "file_extension": ".py",
   "mimetype": "text/x-python",
   "name": "python",
   "nbconvert_exporter": "python",
   "pygments_lexer": "ipython3",
   "version": "3.6.4"
  }
 },
 "nbformat": 4,
 "nbformat_minor": 2
}
