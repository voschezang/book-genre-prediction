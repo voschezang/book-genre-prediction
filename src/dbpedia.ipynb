{
 "cells": [
  {
   "cell_type": "code",
   "execution_count": 2,
   "metadata": {},
   "outputs": [],
   "source": [
    "from SPARQLWrapper import SPARQLWrapper, JSON, XML, N3, RDF\n",
    "import json\n",
    "from collections import namedtuple"
   ]
  },
  {
   "cell_type": "markdown",
   "metadata": {},
   "source": [
    "An example query"
   ]
  },
  {
   "cell_type": "code",
   "execution_count": 3,
   "metadata": {},
   "outputs": [
    {
     "name": "stdout",
     "output_type": "stream",
     "text": [
      "Asturias\n",
      "منطقة أستورياس\n",
      "Asturien\n",
      "Asturias\n",
      "Asturies\n",
      "Asturie\n",
      "アストゥリアス州\n",
      "Asturië (regio)\n",
      "Asturia\n",
      "Astúrias\n",
      "Астурия\n",
      "阿斯图里亚斯\n"
     ]
    }
   ],
   "source": [
    "query = \"\"\"\n",
    "PREFIX rdfs: <http://www.w3.org/2000/01/rdf-schema#>\n",
    "SELECT ?label\n",
    "WHERE { <http://dbpedia.org/resource/Asturias> rdfs:label ?label }\n",
    "\"\"\"\n",
    "sparql = SPARQLWrapper(\"http://dbpedia.org/sparql\")\n",
    "sparql.setQuery(query)\n",
    "sparql.setReturnFormat(JSON)\n",
    "results = sparql.query().convert()\n",
    "\n",
    "for result in results[\"results\"][\"bindings\"]:\n",
    "    print(result[\"label\"][\"value\"])"
   ]
  },
  {
   "cell_type": "code",
   "execution_count": 4,
   "metadata": {},
   "outputs": [],
   "source": [
    "def search(query):\n",
    "    # results :: dict\n",
    "    sparql = SPARQLWrapper(\"http://dbpedia.org/sparql\")\n",
    "    sparql.setQuery(query)\n",
    "    sparql.setReturnFormat(JSON)\n",
    "    results = sparql.query().convert()\n",
    "    return results"
   ]
  },
  {
   "cell_type": "code",
   "execution_count": 5,
   "metadata": {},
   "outputs": [],
   "source": [
    "query = \"\"\"\n",
    "PREFIX rdf: <http://www.w3.org/1999/02/22-rdf-syntax-ns#>\n",
    "PREFIX rdfs: <http://www.w3.org/2000/01/rdf-schema#>\n",
    "PREFIX dbpedia: <http://dbpedia.org/resource/>\n",
    "PREFIX ontology: <http://dbpedia.org/ontology/>\n",
    "\n",
    "SELECT distinct ?s  ?author \n",
    "WHERE {\n",
    "?s rdf:type ontology:Book;\n",
    "  ontology:author ?author .\n",
    "\n",
    "\n",
    "}\n",
    "LIMIT 10\n",
    "\"\"\""
   ]
  },
  {
   "cell_type": "code",
   "execution_count": 6,
   "metadata": {
    "scrolled": true
   },
   "outputs": [
    {
     "data": {
      "text/plain": [
       "{'head': {'link': [], 'vars': ['s', 'author']},\n",
       " 'results': {'bindings': [{'author': {'type': 'uri',\n",
       "     'value': 'http://dbpedia.org/resource/R._J._Yeatman'},\n",
       "    's': {'type': 'uri',\n",
       "     'value': 'http://dbpedia.org/resource/1066_and_All_That'}},\n",
       "   {'author': {'type': 'uri',\n",
       "     'value': 'http://dbpedia.org/resource/W._C._Sellar'},\n",
       "    's': {'type': 'uri',\n",
       "     'value': 'http://dbpedia.org/resource/1066_and_All_That'}},\n",
       "   {'author': {'type': 'uri',\n",
       "     'value': 'http://dbpedia.org/resource/Arthur_C._Clarke'},\n",
       "    's': {'type': 'uri',\n",
       "     'value': 'http://dbpedia.org/resource/2010:_Odyssey_Two'}},\n",
       "   {'author': {'type': 'uri',\n",
       "     'value': 'http://dbpedia.org/resource/Robert_Jordan'},\n",
       "    's': {'type': 'uri',\n",
       "     'value': 'http://dbpedia.org/resource/A_Crown_of_Swords'}},\n",
       "   {'author': {'type': 'uri',\n",
       "     'value': 'http://dbpedia.org/resource/Samuel_Johnson'},\n",
       "    's': {'type': 'uri',\n",
       "     'value': 'http://dbpedia.org/resource/A_Dictionary_of_the_English_Language'}},\n",
       "   {'author': {'type': 'uri',\n",
       "     'value': 'http://dbpedia.org/resource/Lewis_Carroll'},\n",
       "    's': {'type': 'uri',\n",
       "     'value': \"http://dbpedia.org/resource/Alice's_Adventures_in_Wonderland\"}},\n",
       "   {'author': {'type': 'uri',\n",
       "     'value': 'http://dbpedia.org/resource/Lucy_Maud_Montgomery'},\n",
       "    's': {'type': 'uri',\n",
       "     'value': 'http://dbpedia.org/resource/Anne_of_Green_Gables'}},\n",
       "   {'author': {'type': 'uri',\n",
       "     'value': 'http://dbpedia.org/resource/Jules_Verne'},\n",
       "    's': {'type': 'uri',\n",
       "     'value': 'http://dbpedia.org/resource/Around_the_World_in_Eighty_Days'}},\n",
       "   {'author': {'type': 'uri',\n",
       "     'value': 'http://dbpedia.org/resource/Robert_A._Heinlein'},\n",
       "    's': {'type': 'uri',\n",
       "     'value': 'http://dbpedia.org/resource/Between_Planets'}},\n",
       "   {'author': {'type': 'uri',\n",
       "     'value': 'http://dbpedia.org/resource/Robert_A._Heinlein'},\n",
       "    's': {'type': 'uri',\n",
       "     'value': 'http://dbpedia.org/resource/Beyond_This_Horizon'}}],\n",
       "  'distinct': False,\n",
       "  'ordered': True}}"
      ]
     },
     "execution_count": 6,
     "metadata": {},
     "output_type": "execute_result"
    }
   ],
   "source": [
    "results = search(query)\n",
    "results.keys()\n",
    "results"
   ]
  },
  {
   "cell_type": "code",
   "execution_count": 7,
   "metadata": {},
   "outputs": [
    {
     "data": {
      "text/plain": [
       "{'link': [], 'vars': ['s', 'author']}"
      ]
     },
     "execution_count": 7,
     "metadata": {},
     "output_type": "execute_result"
    }
   ],
   "source": [
    "results['head']"
   ]
  },
  {
   "cell_type": "code",
   "execution_count": 8,
   "metadata": {
    "scrolled": true
   },
   "outputs": [
    {
     "data": {
      "text/plain": [
       "dict_keys(['distinct', 'ordered', 'bindings'])"
      ]
     },
     "execution_count": 8,
     "metadata": {},
     "output_type": "execute_result"
    }
   ],
   "source": [
    "results['results'].keys()"
   ]
  },
  {
   "cell_type": "code",
   "execution_count": 9,
   "metadata": {
    "scrolled": true
   },
   "outputs": [
    {
     "data": {
      "text/plain": [
       "[{'author': {'type': 'uri',\n",
       "   'value': 'http://dbpedia.org/resource/R._J._Yeatman'},\n",
       "  's': {'type': 'uri',\n",
       "   'value': 'http://dbpedia.org/resource/1066_and_All_That'}},\n",
       " {'author': {'type': 'uri',\n",
       "   'value': 'http://dbpedia.org/resource/W._C._Sellar'},\n",
       "  's': {'type': 'uri',\n",
       "   'value': 'http://dbpedia.org/resource/1066_and_All_That'}},\n",
       " {'author': {'type': 'uri',\n",
       "   'value': 'http://dbpedia.org/resource/Arthur_C._Clarke'},\n",
       "  's': {'type': 'uri',\n",
       "   'value': 'http://dbpedia.org/resource/2010:_Odyssey_Two'}},\n",
       " {'author': {'type': 'uri',\n",
       "   'value': 'http://dbpedia.org/resource/Robert_Jordan'},\n",
       "  's': {'type': 'uri',\n",
       "   'value': 'http://dbpedia.org/resource/A_Crown_of_Swords'}},\n",
       " {'author': {'type': 'uri',\n",
       "   'value': 'http://dbpedia.org/resource/Samuel_Johnson'},\n",
       "  's': {'type': 'uri',\n",
       "   'value': 'http://dbpedia.org/resource/A_Dictionary_of_the_English_Language'}},\n",
       " {'author': {'type': 'uri',\n",
       "   'value': 'http://dbpedia.org/resource/Lewis_Carroll'},\n",
       "  's': {'type': 'uri',\n",
       "   'value': \"http://dbpedia.org/resource/Alice's_Adventures_in_Wonderland\"}},\n",
       " {'author': {'type': 'uri',\n",
       "   'value': 'http://dbpedia.org/resource/Lucy_Maud_Montgomery'},\n",
       "  's': {'type': 'uri',\n",
       "   'value': 'http://dbpedia.org/resource/Anne_of_Green_Gables'}},\n",
       " {'author': {'type': 'uri',\n",
       "   'value': 'http://dbpedia.org/resource/Jules_Verne'},\n",
       "  's': {'type': 'uri',\n",
       "   'value': 'http://dbpedia.org/resource/Around_the_World_in_Eighty_Days'}},\n",
       " {'author': {'type': 'uri',\n",
       "   'value': 'http://dbpedia.org/resource/Robert_A._Heinlein'},\n",
       "  's': {'type': 'uri',\n",
       "   'value': 'http://dbpedia.org/resource/Between_Planets'}},\n",
       " {'author': {'type': 'uri',\n",
       "   'value': 'http://dbpedia.org/resource/Robert_A._Heinlein'},\n",
       "  's': {'type': 'uri',\n",
       "   'value': 'http://dbpedia.org/resource/Beyond_This_Horizon'}}]"
      ]
     },
     "execution_count": 9,
     "metadata": {},
     "output_type": "execute_result"
    }
   ],
   "source": [
    "results['results']['bindings']"
   ]
  },
  {
   "cell_type": "code",
   "execution_count": 10,
   "metadata": {},
   "outputs": [
    {
     "data": {
      "text/plain": [
       "[{'author': {'type': 'uri',\n",
       "   'value': 'http://dbpedia.org/resource/L._Frank_Baum'},\n",
       "  'book': {'type': 'uri',\n",
       "   'value': 'http://dbpedia.org/resource/The_Wonderful_Wizard_of_Oz'}}]"
      ]
     },
     "execution_count": 10,
     "metadata": {},
     "output_type": "execute_result"
    }
   ],
   "source": [
    "query = \"\"\"\n",
    "PREFIX rdf: <http://www.w3.org/1999/02/22-rdf-syntax-ns#>\n",
    "PREFIX rdfs: <http://www.w3.org/2000/01/rdf-schema#>\n",
    "PREFIX dbpedia: <http://dbpedia.org/resource/>\n",
    "PREFIX ontology: <http://dbpedia.org/ontology/>\n",
    "PREFIX dbpedia-owl: <http://dbpedia.org/ontology/>\n",
    "\n",
    "SELECT ?book ?title ?author ?date ?country\n",
    "WHERE {\n",
    "    ?book rdf:type ontology:Book;\n",
    "        ontology:author ?author.\n",
    "    FILTER regex(str(?book), \"The_Wonderful_Wizard_of_Oz\").\n",
    "    OPTIONAL {\n",
    "      ?book ontology:releaseDate ?date;\n",
    "          dbpedia:country ?country .\n",
    "    }\n",
    "}\n",
    "LIMIT 10\n",
    "\"\"\"\n",
    "\"\"\"OPTIONAL \n",
    "\n",
    "\n",
    "  dbpedia:country ?country .\n",
    "  FILTER regex(?book, \"The_Wonderful_Wizard_of_Oz\").\n",
    "\n",
    "\"\"\"\n",
    "result = search(query)\n",
    "result['results']['bindings']"
   ]
  },
  {
   "cell_type": "code",
   "execution_count": 11,
   "metadata": {},
   "outputs": [],
   "source": [
    "def book_info(title='The_Wonderful_Wizard_of_Oz'):\n",
    "    query = \"\"\"\n",
    "PREFIX rdf: <http://www.w3.org/1999/02/22-rdf-syntax-ns#>\n",
    "PREFIX rdfs: <http://www.w3.org/2000/01/rdf-schema#>\n",
    "PREFIX dbpedia: <http://dbpedia.org/resource/>\n",
    "PREFIX ontology: <http://dbpedia.org/ontology/>\n",
    "PREFIX dbpedia-owl: <http://dbpedia.org/ontology/>\n",
    "\n",
    "SELECT ?book ?title ?author ?date ?country\n",
    "WHERE {\n",
    "    ?book rdf:type ontology:Book;\n",
    "        ontology:author ?author.\n",
    "    FILTER regex(str(?book), \"%s\").\n",
    "    OPTIONAL {\n",
    "      ?book ontology:releaseDate ?date;\n",
    "          dbpedia:country ?country .\n",
    "    }\n",
    "}\n",
    "LIMIT 10\n",
    "\"\"\" % title\n",
    "    return search(query)"
   ]
  },
  {
   "cell_type": "code",
   "execution_count": 12,
   "metadata": {},
   "outputs": [
    {
     "data": {
      "text/plain": [
       "{'head': {'link': [], 'vars': ['book', 'title', 'author', 'date', 'country']},\n",
       " 'results': {'bindings': [{'author': {'type': 'uri',\n",
       "     'value': 'http://dbpedia.org/resource/L._Frank_Baum'},\n",
       "    'book': {'type': 'uri',\n",
       "     'value': 'http://dbpedia.org/resource/The_Wonderful_Wizard_of_Oz'}}],\n",
       "  'distinct': False,\n",
       "  'ordered': True}}"
      ]
     },
     "execution_count": 12,
     "metadata": {},
     "output_type": "execute_result"
    }
   ],
   "source": [
    "book_info()"
   ]
  },
  {
   "cell_type": "code",
   "execution_count": 13,
   "metadata": {},
   "outputs": [],
   "source": [
    "def book_info_alt(title='The_Wonderful_Wizard_of_Oz'):\n",
    "    query = \"\"\"\n",
    "PREFIX rdf: <http://www.w3.org/1999/02/22-rdf-syntax-ns#>\n",
    "PREFIX rdfs: <http://www.w3.org/2000/01/rdf-schema#>\n",
    "PREFIX dbpedia: <http://dbpedia.org/resource/>\n",
    "PREFIX ontology: <http://dbpedia.org/ontology/>\n",
    "PREFIX dbpedia-owl: <http://dbpedia.org/ontology/>\n",
    "\n",
    "SELECT ?book ?title ?author ?date ?country\n",
    "WHERE {\n",
    "    ?book rdf:type ontology:Book;\n",
    "        ontology:author ?author .\n",
    "    FILTER regex(str(?book), \"%s\") .\n",
    "    OPTIONAL {\n",
    "        ?author ontology:birthDate ?date .\n",
    "        ?book dbpedia:country ?country .\n",
    "    }\n",
    "}\n",
    "LIMIT 10\n",
    "\"\"\" % title\n",
    "    return search(query)"
   ]
  },
  {
   "cell_type": "code",
   "execution_count": 14,
   "metadata": {},
   "outputs": [
    {
     "data": {
      "text/plain": [
       "{'head': {'link': [], 'vars': ['book', 'title', 'author', 'date', 'country']},\n",
       " 'results': {'bindings': [{'author': {'type': 'uri',\n",
       "     'value': 'http://dbpedia.org/resource/L._Frank_Baum'},\n",
       "    'book': {'type': 'uri',\n",
       "     'value': 'http://dbpedia.org/resource/The_Wonderful_Wizard_of_Oz'}}],\n",
       "  'distinct': False,\n",
       "  'ordered': True}}"
      ]
     },
     "execution_count": 14,
     "metadata": {},
     "output_type": "execute_result"
    }
   ],
   "source": [
    "book_info_alt()"
   ]
  },
  {
   "cell_type": "code",
   "execution_count": 15,
   "metadata": {},
   "outputs": [],
   "source": [
    "def author_info(name='L._Frank_Baum'):\n",
    "    query = \"\"\"\n",
    "PREFIX rdf: <http://www.w3.org/1999/02/22-rdf-syntax-ns#>\n",
    "PREFIX rdfs: <http://www.w3.org/2000/01/rdf-schema#>\n",
    "PREFIX dbpedia: <http://dbpedia.org/resource/>\n",
    "PREFIX dbo: <http://dbpedia.org/ontology/>\n",
    "PREFIX dbpedia-owl: <http://dbpedia.org/ontology/>\n",
    "\n",
    "SELECT ?author\n",
    "WHERE {\n",
    "    ?author dbo:child ?child\n",
    "    FILTER regex(str(?child), \"%s\") .\n",
    "}\n",
    "LIMIT 10\n",
    "\"\"\" % name\n",
    "    return search(query)"
   ]
  },
  {
   "cell_type": "code",
   "execution_count": 16,
   "metadata": {},
   "outputs": [
    {
     "data": {
      "text/plain": [
       "{'head': {'link': [], 'vars': ['author']},\n",
       " 'results': {'bindings': [{'author': {'type': 'uri',\n",
       "     'value': 'http://dbpedia.org/resource/Esther_Edwards_Burr'}},\n",
       "   {'author': {'type': 'uri',\n",
       "     'value': 'http://dbpedia.org/resource/Paul_de_Leeuw'}},\n",
       "   {'author': {'type': 'uri',\n",
       "     'value': 'http://dbpedia.org/resource/Sarathi_Baba'}},\n",
       "   {'author': {'type': 'uri',\n",
       "     'value': 'http://dbpedia.org/resource/Thomas_Boleyn,_1st_Earl_of_Wiltshire'}},\n",
       "   {'author': {'type': 'uri',\n",
       "     'value': 'http://dbpedia.org/resource/Nigel_Powers'}},\n",
       "   {'author': {'type': 'uri',\n",
       "     'value': 'http://dbpedia.org/resource/Lewis_Elton'}},\n",
       "   {'author': {'type': 'uri',\n",
       "     'value': 'http://dbpedia.org/resource/Benzion_Netanyahu'}},\n",
       "   {'author': {'type': 'uri',\n",
       "     'value': 'http://dbpedia.org/resource/Lee_Hoi-chuen'}},\n",
       "   {'author': {'type': 'uri',\n",
       "     'value': 'http://dbpedia.org/resource/Joe_Keaton'}},\n",
       "   {'author': {'type': 'uri',\n",
       "     'value': 'http://dbpedia.org/resource/Myra_Keaton'}}],\n",
       "  'distinct': False,\n",
       "  'ordered': True}}"
      ]
     },
     "execution_count": 16,
     "metadata": {},
     "output_type": "execute_result"
    }
   ],
   "source": [
    "author_info('a')"
   ]
  },
  {
   "cell_type": "code",
   "execution_count": null,
   "metadata": {},
   "outputs": [],
   "source": []
  },
  {
   "cell_type": "code",
   "execution_count": null,
   "metadata": {},
   "outputs": [],
   "source": []
  },
  {
   "cell_type": "markdown",
   "metadata": {},
   "source": [
    "### (unused) Convert json to dict\n",
    "Dit doet sparql automatisch"
   ]
  },
  {
   "cell_type": "code",
   "execution_count": 17,
   "metadata": {},
   "outputs": [
    {
     "name": "stdout",
     "output_type": "stream",
     "text": [
      "John Smith New York 123\n"
     ]
    }
   ],
   "source": [
    "# from https://stackoverflow.com/questions/6578986/how-to-convert-json-data-into-a-python-object\n",
    "\n",
    "data = '{\"name\": \"John Smith\", \"hometown\": {\"name\": \"New York\", \"id\": 123}}'\n",
    "\n",
    "# Parse JSON into an object with attributes corresponding to dict keys.\n",
    "x = json.loads(data, object_hook=lambda d: namedtuple('X', d.keys())(*d.values()))\n",
    "print(x.name, x.hometown.name, x.hometown.id)"
   ]
  },
  {
   "cell_type": "code",
   "execution_count": 18,
   "metadata": {},
   "outputs": [
    {
     "data": {
      "text/plain": [
       "X(name='John Smith', hometown=X(name='New York', id=123))"
      ]
     },
     "execution_count": 18,
     "metadata": {},
     "output_type": "execute_result"
    }
   ],
   "source": [
    "def _json_object_hook(d): \n",
    "    return namedtuple('X', d.keys())(*d.values())\n",
    "\n",
    "def json2obj(data): \n",
    "    return json.loads(data, object_hook=_json_object_hook)\n",
    "\n",
    "x = json2obj(data)\n",
    "x"
   ]
  },
  {
   "cell_type": "code",
   "execution_count": 19,
   "metadata": {},
   "outputs": [
    {
     "ename": "TypeError",
     "evalue": "the JSON object must be str, bytes or bytearray, not 'dict'",
     "output_type": "error",
     "traceback": [
      "\u001b[0;31m---------------------------------------------------------------------------\u001b[0m",
      "\u001b[0;31mTypeError\u001b[0m                                 Traceback (most recent call last)",
      "\u001b[0;32m<ipython-input-19-122cd9f84e79>\u001b[0m in \u001b[0;36m<module>\u001b[0;34m()\u001b[0m\n\u001b[0;32m----> 1\u001b[0;31m \u001b[0mjson2obj\u001b[0m\u001b[0;34m(\u001b[0m\u001b[0mresults\u001b[0m\u001b[0;34m)\u001b[0m\u001b[0;34m\u001b[0m\u001b[0m\n\u001b[0m",
      "\u001b[0;32m<ipython-input-18-69cde552c962>\u001b[0m in \u001b[0;36mjson2obj\u001b[0;34m(data)\u001b[0m\n\u001b[1;32m      3\u001b[0m \u001b[0;34m\u001b[0m\u001b[0m\n\u001b[1;32m      4\u001b[0m \u001b[0;32mdef\u001b[0m \u001b[0mjson2obj\u001b[0m\u001b[0;34m(\u001b[0m\u001b[0mdata\u001b[0m\u001b[0;34m)\u001b[0m\u001b[0;34m:\u001b[0m\u001b[0;34m\u001b[0m\u001b[0m\n\u001b[0;32m----> 5\u001b[0;31m     \u001b[0;32mreturn\u001b[0m \u001b[0mjson\u001b[0m\u001b[0;34m.\u001b[0m\u001b[0mloads\u001b[0m\u001b[0;34m(\u001b[0m\u001b[0mdata\u001b[0m\u001b[0;34m,\u001b[0m \u001b[0mobject_hook\u001b[0m\u001b[0;34m=\u001b[0m\u001b[0m_json_object_hook\u001b[0m\u001b[0;34m)\u001b[0m\u001b[0;34m\u001b[0m\u001b[0m\n\u001b[0m\u001b[1;32m      6\u001b[0m \u001b[0;34m\u001b[0m\u001b[0m\n\u001b[1;32m      7\u001b[0m \u001b[0mx\u001b[0m \u001b[0;34m=\u001b[0m \u001b[0mjson2obj\u001b[0m\u001b[0;34m(\u001b[0m\u001b[0mdata\u001b[0m\u001b[0;34m)\u001b[0m\u001b[0;34m\u001b[0m\u001b[0m\n",
      "\u001b[0;32m/Library/Frameworks/Python.framework/Versions/3.6/lib/python3.6/json/__init__.py\u001b[0m in \u001b[0;36mloads\u001b[0;34m(s, encoding, cls, object_hook, parse_float, parse_int, parse_constant, object_pairs_hook, **kw)\u001b[0m\n\u001b[1;32m    346\u001b[0m         \u001b[0;32mif\u001b[0m \u001b[0;32mnot\u001b[0m \u001b[0misinstance\u001b[0m\u001b[0;34m(\u001b[0m\u001b[0ms\u001b[0m\u001b[0;34m,\u001b[0m \u001b[0;34m(\u001b[0m\u001b[0mbytes\u001b[0m\u001b[0;34m,\u001b[0m \u001b[0mbytearray\u001b[0m\u001b[0;34m)\u001b[0m\u001b[0;34m)\u001b[0m\u001b[0;34m:\u001b[0m\u001b[0;34m\u001b[0m\u001b[0m\n\u001b[1;32m    347\u001b[0m             raise TypeError('the JSON object must be str, bytes or bytearray, '\n\u001b[0;32m--> 348\u001b[0;31m                             'not {!r}'.format(s.__class__.__name__))\n\u001b[0m\u001b[1;32m    349\u001b[0m         \u001b[0ms\u001b[0m \u001b[0;34m=\u001b[0m \u001b[0ms\u001b[0m\u001b[0;34m.\u001b[0m\u001b[0mdecode\u001b[0m\u001b[0;34m(\u001b[0m\u001b[0mdetect_encoding\u001b[0m\u001b[0;34m(\u001b[0m\u001b[0ms\u001b[0m\u001b[0;34m)\u001b[0m\u001b[0;34m,\u001b[0m \u001b[0;34m'surrogatepass'\u001b[0m\u001b[0;34m)\u001b[0m\u001b[0;34m\u001b[0m\u001b[0m\n\u001b[1;32m    350\u001b[0m \u001b[0;34m\u001b[0m\u001b[0m\n",
      "\u001b[0;31mTypeError\u001b[0m: the JSON object must be str, bytes or bytearray, not 'dict'"
     ]
    }
   ],
   "source": [
    "json2obj(results)"
   ]
  },
  {
   "cell_type": "code",
   "execution_count": null,
   "metadata": {},
   "outputs": [],
   "source": []
  }
 ],
 "metadata": {
  "kernelspec": {
   "display_name": "Python 3",
   "language": "python",
   "name": "python3"
  },
  "language_info": {
   "codemirror_mode": {
    "name": "ipython",
    "version": 3
   },
   "file_extension": ".py",
   "mimetype": "text/x-python",
   "name": "python",
   "nbconvert_exporter": "python",
   "pygments_lexer": "ipython3",
   "version": "3.6.4"
  }
 },
 "nbformat": 4,
 "nbformat_minor": 2
}
