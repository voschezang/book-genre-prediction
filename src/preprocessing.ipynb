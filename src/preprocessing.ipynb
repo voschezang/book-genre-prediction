{
 "cells": [
  {
   "cell_type": "code",
   "execution_count": 6,
   "metadata": {},
   "outputs": [
    {
     "data": {
      "text/plain": [
       "'/Users/mark/src/books/src'"
      ]
     },
     "execution_count": 6,
     "metadata": {},
     "output_type": "execute_result"
    }
   ],
   "source": [
    "import os, csv, time\n",
    "import config\n",
    "os.getcwd()"
   ]
  },
  {
   "cell_type": "markdown",
   "metadata": {},
   "source": [
    "First we create an empty CSV file with the colums to fill."
   ]
  },
  {
   "cell_type": "code",
   "execution_count": 2,
   "metadata": {},
   "outputs": [],
   "source": [
    "def create_empty_csv(filename):\n",
    "    csvfile = open(config.dataset_dir + 'output/{0}.csv'.format(filename), \"w\")\n",
    "    writer = csv.writer(csvfile)\n",
    "    columns = ['filename', 'title', 'author', 'release year', 'pos score', 'neg score', 'neu score', 'comp score']\n",
    "    writer.writerow(columns)\n",
    "\n",
    "create_empty_csv('tard')\n"
   ]
  },
  {
   "cell_type": "markdown",
   "metadata": {},
   "source": [
    "We want to be able to extract the filename, title, author and release year from every book and save it to a CSV file. "
   ]
  },
  {
   "cell_type": "code",
   "execution_count": 3,
   "metadata": {},
   "outputs": [
    {
     "name": "stdout",
     "output_type": "stream",
     "text": [
      "['00053.txt', 'LOC Workshop on Electronic Texts', 'Library of Congress', 'February, 1993']\n",
      "['00054.txt', 'The Marvellous Land of Oz', 'L. Frank Baum', 'February, 1993']\n",
      "['00055.txt', 'The Wonderful Wizard of Oz', 'L. Frank Baum', 'July 1, 2008 ']\n",
      "['00056.txt', 'NREN for All: Insurmountable Opportunity', 'Jean Armour Polly', 'March, 1993']\n",
      "['00057.txt', 'Aladdin and the Magic Lamp', 'Unknown', 'June 12, 2008 ']\n",
      "['00058.txt', 'Paradise Regained', 'John Milton', 'June 20, 2008 ']\n",
      "['00059.txt', 'A Discourse on Method', 'Ren� Descartes', 'July 1, 2008 ']\n",
      "['00060.txt', 'The Scarlet Pimpernel', 'Baroness Orczy', 'March 7, 2006 ']\n"
     ]
    }
   ],
   "source": [
    "def obtain_data_from_books(directory):\n",
    "    \n",
    "    # initiate CSV file \n",
    "    csvfile = open(config.dataset_dir + 'output/tard.csv', \"a\")\n",
    "    writer = csv.writer(csvfile)\n",
    "  \n",
    "    for book in os.listdir(directory):\n",
    "        if not book.startswith(\".\"):\n",
    "            with open(directory + book, errors='replace') as f:\n",
    "                text = f.read().splitlines()\n",
    "        \n",
    "        author = \"NULL\"\n",
    "        title = \"NULL\"\n",
    "        release_date = \"NULL\"\n",
    "        \n",
    "        # for line in text, check if title, author or release date are stored there\n",
    "        for i in range(80):\n",
    "            # error handling since some texts are <80 lines\n",
    "            try:\n",
    "                if \"Title: \" in text[i]:\n",
    "                    title = text[i][7:]\n",
    "                if \"Author: \" in text[i]:\n",
    "                    author = text[i][8:]\n",
    "                if \"Release Date: \" in text[i]:\n",
    "                    release_date = text[i][14:].split('[')[0]\n",
    "                # if they have both been found, do not waste extra time iterating \n",
    "                if title != \"NULL\" and author != \"NULL\" and release_date != \"NULL\":\n",
    "                    title_author_rd_triple = (title, author, release_date)\n",
    "                    pass\n",
    "            except:\n",
    "                pass\n",
    "            \n",
    "        data = [book, title, author, release_date]\n",
    "        if not 'NULL' in data:\n",
    "            writer.writerow(data)\n",
    "            print (data)\n",
    "\n",
    "    \n",
    "directory = config.dataset_dir + \"test/\"\n",
    "obtain_data_from_books(directory)\n"
   ]
  },
  {
   "cell_type": "markdown",
   "metadata": {},
   "source": [
    "Delete header and legal stuff at the beginning and end of the books. Books from the gutenberg project have certain sentences that mark the start and the end of a book. This can be exploited to extract only the content from the books that is relevant to our research. The function below does this for all books in the given directory and puts the stripped books in a new directory. The unstripped books are kept because some useful information is found in the headers (author, title, release date)"
   ]
  },
  {
   "cell_type": "code",
   "execution_count": 7,
   "metadata": {},
   "outputs": [
    {
     "name": "stdout",
     "output_type": "stream",
     "text": [
      "00052.txt\n",
      "00053.txt\n",
      "00054.txt\n",
      "00055.txt\n",
      "00056.txt\n",
      "00057.txt\n",
      "00058.txt\n",
      "00059.txt\n",
      "00060.txt\n"
     ]
    },
    {
     "ename": "NameError",
     "evalue": "name 'start_time' is not defined",
     "output_type": "error",
     "traceback": [
      "\u001b[0;31m---------------------------------------------------------------------------\u001b[0m",
      "\u001b[0;31mNameError\u001b[0m                                 Traceback (most recent call last)",
      "\u001b[0;32m<ipython-input-7-5c462a8681f3>\u001b[0m in \u001b[0;36m<module>\u001b[0;34m()\u001b[0m\n\u001b[1;32m     33\u001b[0m \u001b[0mdirectory\u001b[0m \u001b[0;34m=\u001b[0m \u001b[0mconfig\u001b[0m\u001b[0;34m.\u001b[0m\u001b[0mdataset_dir\u001b[0m \u001b[0;34m+\u001b[0m \u001b[0;34m\"test/\"\u001b[0m\u001b[0;34m\u001b[0m\u001b[0m\n\u001b[1;32m     34\u001b[0m \u001b[0moutputdir\u001b[0m \u001b[0;34m=\u001b[0m \u001b[0mconfig\u001b[0m\u001b[0;34m.\u001b[0m\u001b[0mdataset_dir\u001b[0m \u001b[0;34m+\u001b[0m \u001b[0;34m\"output/\"\u001b[0m\u001b[0;34m\u001b[0m\u001b[0m\n\u001b[0;32m---> 35\u001b[0;31m \u001b[0mremove_unwanted_text\u001b[0m\u001b[0;34m(\u001b[0m\u001b[0mdirectory\u001b[0m\u001b[0;34m,\u001b[0m \u001b[0moutputdir\u001b[0m\u001b[0;34m)\u001b[0m\u001b[0;34m\u001b[0m\u001b[0m\n\u001b[0m\u001b[1;32m     36\u001b[0m \u001b[0;34m\u001b[0m\u001b[0m\n",
      "\u001b[0;32m<ipython-input-7-5c462a8681f3>\u001b[0m in \u001b[0;36mremove_unwanted_text\u001b[0;34m(directory, outputdir)\u001b[0m\n\u001b[1;32m     28\u001b[0m \u001b[0;34m\u001b[0m\u001b[0m\n\u001b[1;32m     29\u001b[0m     \u001b[0mend_time\u001b[0m \u001b[0;34m=\u001b[0m \u001b[0mtime\u001b[0m\u001b[0;34m.\u001b[0m\u001b[0mclock\u001b[0m\u001b[0;34m(\u001b[0m\u001b[0;34m)\u001b[0m\u001b[0;34m\u001b[0m\u001b[0m\n\u001b[0;32m---> 30\u001b[0;31m     \u001b[0mtotal_time\u001b[0m \u001b[0;34m=\u001b[0m \u001b[0mend_time\u001b[0m \u001b[0;34m-\u001b[0m \u001b[0mstart_time\u001b[0m\u001b[0;34m\u001b[0m\u001b[0m\n\u001b[0m\u001b[1;32m     31\u001b[0m     \u001b[0mprint\u001b[0m \u001b[0;34m(\u001b[0m\u001b[0;34m\"The total time: \"\u001b[0m\u001b[0;34m,\u001b[0m \u001b[0mtotal_time\u001b[0m\u001b[0;34m)\u001b[0m\u001b[0;34m\u001b[0m\u001b[0m\n\u001b[1;32m     32\u001b[0m \u001b[0;34m\u001b[0m\u001b[0m\n",
      "\u001b[0;31mNameError\u001b[0m: name 'start_time' is not defined"
     ]
    }
   ],
   "source": [
    "def remove_unwanted_text(directory, outputdir):\n",
    "\n",
    "    # lists with sentences that either mark the end or the beginning of a book\n",
    "    start_list = (\"*** START OF\", \"***START OF\")\n",
    "    stop_list = (\"*** END OF\", \"***END OF\", \"End of the Project\")\n",
    "\n",
    "    for book in os.listdir(directory):\n",
    "        print(book)\n",
    "        if not book.startswith(\".\"):\n",
    "            with open(directory + book, errors='replace') as f:\n",
    "                content = f.readlines()\n",
    "                \n",
    "        start_index = 1\n",
    "        stop_index = len(content) - 1\n",
    "        \n",
    "        for line in range(len(content)):\n",
    "        \n",
    "          if any(item in content[line] for item in start_list):\n",
    "            start_index = line + 1\n",
    "          #if stop1 or stop2 or stop3 in content[line]:\n",
    "          if any(item in content[line] for item in stop_list):\n",
    "            stop_index = line - 2\n",
    "            \n",
    "        book_content = content[start_index:stop_index]\n",
    "        outfile = open(outputdir + '/' + book, 'w')\n",
    "        outfile.writelines(book_content)\n",
    "        outfile.close()\n",
    "\n",
    "    end_time = time.clock()\n",
    "    total_time = end_time - start_time\n",
    "    print (\"The total time: \", total_time)\n",
    "\n",
    "directory = config.dataset_dir + \"test/\"\n",
    "outputdir = config.dataset_dir + \"output/\"\n",
    "remove_unwanted_text(directory, outputdir)\n",
    "   "
   ]
  },
  {
   "cell_type": "code",
   "execution_count": null,
   "metadata": {},
   "outputs": [],
   "source": []
  }
 ],
 "metadata": {
  "kernelspec": {
   "display_name": "Python 3",
   "language": "python",
   "name": "python3"
  },
  "language_info": {
   "codemirror_mode": {
    "name": "ipython",
    "version": 3
   },
   "file_extension": ".py",
   "mimetype": "text/x-python",
   "name": "python",
   "nbconvert_exporter": "python",
   "pygments_lexer": "ipython3",
   "version": "3.6.4"
  }
 },
 "nbformat": 4,
 "nbformat_minor": 2
}
