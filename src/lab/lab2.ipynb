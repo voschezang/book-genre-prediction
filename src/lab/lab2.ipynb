{
 "cells": [
  {
   "cell_type": "code",
   "execution_count": 1,
   "metadata": {},
   "outputs": [],
   "source": [
    "text =\"\"\"\n",
    "When juggling busy careers and lives, it's not always easy to find the time to hit the gym or prepare a healthy meal. For inspiration, we're asking influential women in a variety of industries to share a typical day of eats and fitness, to see just how they balance a healthy lifestyle with their jam-packed schedules. Today, meet Amanda Chantal Bacon, founder and owner of Moon Juice—the Los Angeles destination that serves beautifying herbal powder blends, tonics, and treats to A-list fans like Gwyneth Paltrow and Shailene Woodley. (Remember that Goop newsletter that included a recipe for Sex truffles?) From ho shou wu to cordyceps and more fantastical-sounding superfoods we'd never even heard of, Bacon's diet is certainly at the more exotic end of the spectrum, but it's a fascinating one. Here, her complete routine, from diet to meditation and everything in between. (Including lots of juice. Of course.)\n",
    "\n",
    "\"I usually wake up at 6:30am, and start with some Kundalini meditation and a 23-minute breath set—along with a copper cup of silver needle and calendula tea—before my son Rohan wakes.\"\n",
    "\n",
    "\"At 8am, I had a warm, morning chi drink on my way to the school drop off, drunk in the car! It contains more than 25 grams of plant protein, thanks to vanilla mushroom protein and stone ground almond butter, and also has the super endocrine, brain, immunity, and libido- boosting powers of Brain Dust, cordyceps, reishi, maca, and Shilajit resin. I throw ho shou wu and pearl in as part of my beauty regime. I chase it with three quinton shots for mineralization and two lipospheric vitamin B-complex packets for energy.\"\n",
    "\n",
    "\"At 9:30am, I drink 16 ounces of unsweetened, strong green juice, which is my alkalizer, hydrator, energizer, source of protein and calcium, and overall mood balancer. It's also my easy, 'lazy,' and delicious skin regime. I also take three tablespoons of bee pollen. I love Moon Juice's soft and chewy bee pollen—it's a creamy, candy-like treat that gives me my daily B-vitamin blast, and also helps feed my skin and aids hormone production. I'll also grab a handful of activated cashews. I try to get these in every day for their brain chemistry magic. I chase this with a shot of pressed turmeric root in freshly squeezed grapefruit juice.\"\n",
    "\n",
    "\"For lunch, I had zucchini ribbons with basil, pine nuts, sun-cured olives, and lemon, with green tea on the side. This is such an easy, elegant, and light meal. I made this while on a phone meeting before heading out for the rest of the work day. I often alternate this with my other lunch staple: a nori roll with umeboshi paste, avocado, cultured sea vegetables, and pea sprouts. This is my version of a taco, and it's insanely delicious. These ingredients are all pantry staples, so I eat some version of this everyday. It's probiotic-rich with the cultured veggies, and deeply mineralizing thanks to the sea vegetables, and the avocado nourishes the brain and hormones. It's awesomely satiating and takes 45 seconds to compile. I usually make this while standing, working with someone, simultaneously emailing and definitely texting. I know the right answer would be to sit down and take 10 minutes to eat, but that doesn't happen for lunch, ever.\"\n",
    "\n",
    "\"If I'm home around 3pm, I always reach for coconut yogurt with cardamom, dried figs, walnuts, and apricots from a weekend farm visit—and a chunk of raw dark chocolate. I ferment big batches of coconut yogurt and make big batches of raw chocolate spiked with maca and any other medicinal herb I'm focusing on. It's easy to do, and makes for potent, fast snack food throughout the month.\"\n",
    "\n",
    "\"Today I also called into Moon Juice and got some 'drive through.' Work doesn't keep me in the shop like it used to. Sadly I'm always on the go and running late, so I usually call in a mid-workday curbside pick-up. I grabbed a mint chip hemp milk with double servings of maca and sprouted brown rice protein, sweetened with stevia, as well as two Goodness Greens juices.\"\n",
    "\n",
    "\"I had an early, pre-yoga dinner at Shima on Abbot Kinney, which is my 3-year-old's favorite restaurant. I had a seaweed salad with micro cilantro and daikon, and a delicate broth of mushrooms and herbs.\"\n",
    "\n",
    "\"From 7 to 9pm, I went to my Kundalini yoga class at Rama Yoga in Venice, with my go-to teacher, Harijiwan.\"\n",
    "\n",
    "\"My son and I make a batch of almond milk and vanilla chia pudding for the next morning at bedtime. We like to have cups of it before it's totally done, when it's more like chia milk.\"\n",
    "\n",
    "\"At 11pm, I had a nightcap of heart tonic and raw chocolate made from one of my big batches—this one was made with our Moon Pantry heirloom raw cacao, reishi and Chaga mushroom, sprouted brown rice protein, and coconut oil. I love chocolate—and on some evenings, I don't want to deny the indulgence—so I've devised a million low glycemic recipes.\"\n",
    "\n",
    "\"\"\""
   ]
  },
  {
   "cell_type": "code",
   "execution_count": 7,
   "metadata": {},
   "outputs": [],
   "source": [
    "import nltk, re"
   ]
  },
  {
   "cell_type": "code",
   "execution_count": 22,
   "metadata": {},
   "outputs": [],
   "source": [
    "gold_standard = {'Amanda Chantal Bacon': 'PERSON',\n",
    "'Moon Juice':'ORGANIZATION',\n",
    "'Los Angeles': 'LOCATION',\n",
    "'Gwyneth Paltrow': 'PERSON',\n",
    "'Shailene Woodley': 'PERSON',\n",
    "'Bacon': 'PERSON',\n",
    "'GOOP':'ORGANIZATION',\n",
    "'6:30 am':'TIME',\n",
    "'23-minute':'TIME',\n",
    "'8 am':'TIME',\n",
    "'25 grams':'QUANTITY',\n",
    "'ROHAN':'PERSON',\n",
    "'9:30 am':'TIME',\n",
    "'Shima':'ORGANIZATION',\n",
    "'Abbot Kinney':'LOCATION',\n",
    "'my 3-year-old':'PERSON',\n",
    "'16 ounces':'QUANTITY',\n",
    "'Goodness Greens':'ORGANIZATION',\n",
    "'Rama Yoga':'ORGANIZATION',\n",
    "'Venice':'LOCATION',\n",
    "'45 seconds':'TIME',\n",
    "'7 to 9 pm':'TIME',\n",
    "'Harijiwan':'PERSON',\n",
    "'11 pm':'TIME'\n",
    "}"
   ]
  },
  {
   "cell_type": "code",
   "execution_count": 23,
   "metadata": {},
   "outputs": [
    {
     "data": {
      "text/plain": [
       "{'11 pm': 'TIME',\n",
       " '16 ounces': 'QUANTITY',\n",
       " '23-minute': 'TIME',\n",
       " '25 grams': 'QUANTITY',\n",
       " '45 seconds': 'TIME',\n",
       " '6:30 am': 'TIME',\n",
       " '7 to 9 pm': 'TIME',\n",
       " '8 am': 'TIME',\n",
       " '9:30 am': 'TIME',\n",
       " 'Abbot Kinney': 'LOCATION',\n",
       " 'Amanda Chantal Bacon': 'PERSON',\n",
       " 'Bacon': 'PERSON',\n",
       " 'GOOP': 'ORGANIZATION',\n",
       " 'Goodness Greens': 'ORGANIZATION',\n",
       " 'Gwyneth Paltrow': 'PERSON',\n",
       " 'Harijiwan': 'PERSON',\n",
       " 'Los Angeles': 'LOCATION',\n",
       " 'Moon Juice': 'ORGANIZATION',\n",
       " 'ROHAN': 'PERSON',\n",
       " 'Rama Yoga': 'ORGANIZATION',\n",
       " 'Shailene Woodley': 'PERSON',\n",
       " 'Shima': 'ORGANIZATION',\n",
       " 'Venice': 'LOCATION',\n",
       " 'my 3-year-old': 'PERSON'}"
      ]
     },
     "execution_count": 23,
     "metadata": {},
     "output_type": "execute_result"
    }
   ],
   "source": [
    "gold_standard"
   ]
  },
  {
   "cell_type": "code",
   "execution_count": 24,
   "metadata": {},
   "outputs": [],
   "source": [
    "tokenized_text = nltk.word_tokenize(text)\n",
    "default_standard = {k:'O' for k in nltk.word_tokenize(text)}\n",
    "for k,label in gold_standard.items():\n",
    "    for sub_key in k.split():\n",
    "        default_standard[sub_key] = label\n",
    "gold_standard = default_standard"
   ]
  },
  {
   "cell_type": "code",
   "execution_count": 25,
   "metadata": {},
   "outputs": [],
   "source": [
    "# gold_standard"
   ]
  },
  {
   "cell_type": "code",
   "execution_count": 26,
   "metadata": {},
   "outputs": [],
   "source": [
    "from nltk.metrics import precision, recall, f_measure\n",
    "import collections"
   ]
  },
  {
   "cell_type": "code",
   "execution_count": 27,
   "metadata": {},
   "outputs": [],
   "source": [
    "dir_ = '../../datasets/stanford-ner-2018-02-27/'"
   ]
  },
  {
   "cell_type": "code",
   "execution_count": 28,
   "metadata": {},
   "outputs": [
    {
     "name": "stderr",
     "output_type": "stream",
     "text": [
      "/Library/Frameworks/Python.framework/Versions/3.6/lib/python3.6/site-packages/nltk/tag/stanford.py:183: DeprecationWarning: \n",
      "The StanfordTokenizer will be deprecated in version 3.2.5.\n",
      "Please use \u001b[91mnltk.tag.corenlp.CoreNLPPOSTagger\u001b[0m or \u001b[91mnltk.tag.corenlp.CoreNLPNERTagger\u001b[0m instead.\n",
      "  super(StanfordNERTagger, self).__init__(*args, **kwargs)\n"
     ]
    }
   ],
   "source": [
    "import nltk.tag.stanford as st\n",
    "tagger = st.StanfordNERTagger(dir_ + 'classifiers/english.all.3class.distsim.crf.ser.gz',dir_ + 'stanford-ner.jar')"
   ]
  },
  {
   "cell_type": "code",
   "execution_count": 29,
   "metadata": {},
   "outputs": [
    {
     "name": "stderr",
     "output_type": "stream",
     "text": [
      "/Library/Frameworks/Python.framework/Versions/3.6/lib/python3.6/site-packages/nltk/tag/stanford.py:183: DeprecationWarning: \n",
      "The StanfordTokenizer will be deprecated in version 3.2.5.\n",
      "Please use \u001b[91mnltk.tag.corenlp.CoreNLPPOSTagger\u001b[0m or \u001b[91mnltk.tag.corenlp.CoreNLPNERTagger\u001b[0m instead.\n",
      "  super(StanfordNERTagger, self).__init__(*args, **kwargs)\n"
     ]
    },
    {
     "name": "stdout",
     "output_type": "stream",
     "text": [
      "[('When', 'O'), ('juggling', 'O'), ('busy', 'O'), ('careers', 'O'), ('and', 'O'), ('lives', 'O'), (',', 'O'), ('it', 'O'), (\"'s\", 'O'), ('not', 'O'), ('always', 'O'), ('easy', 'O'), ('to', 'O'), ('find', 'O'), ('the', 'O'), ('time', 'O'), ('to', 'O'), ('hit', 'O'), ('the', 'O'), ('gym', 'O'), ('or', 'O'), ('prepare', 'O'), ('a', 'O'), ('healthy', 'O'), ('meal', 'O'), ('.', 'O'), ('For', 'O'), ('inspiration', 'O'), (',', 'O'), ('we', 'O'), (\"'re\", 'O'), ('asking', 'O'), ('influential', 'O'), ('women', 'O'), ('in', 'O'), ('a', 'O'), ('variety', 'O'), ('of', 'O'), ('industries', 'O'), ('to', 'O'), ('share', 'O'), ('a', 'O'), ('typical', 'O'), ('day', 'O'), ('of', 'O'), ('eats', 'O'), ('and', 'O'), ('fitness', 'O'), (',', 'O'), ('to', 'O'), ('see', 'O'), ('just', 'O'), ('how', 'O'), ('they', 'O'), ('balance', 'O'), ('a', 'O'), ('healthy', 'O'), ('lifestyle', 'O'), ('with', 'O'), ('their', 'O'), ('jam-packed', 'O'), ('schedules', 'O'), ('.', 'O'), ('Today', 'O'), (',', 'O'), ('meet', 'O'), ('Amanda', 'PERSON'), ('Chantal', 'PERSON'), ('Bacon', 'PERSON'), (',', 'O'), ('founder', 'O'), ('and', 'O'), ('owner', 'O'), ('of', 'O'), ('Moon', 'O'), ('Juice—the', 'O'), ('Los', 'LOCATION'), ('Angeles', 'LOCATION'), ('destination', 'O'), ('that', 'O'), ('serves', 'O'), ('beautifying', 'O'), ('herbal', 'O'), ('powder', 'O'), ('blends', 'O'), (',', 'O'), ('tonics', 'O'), (',', 'O'), ('and', 'O'), ('treats', 'O'), ('to', 'O'), ('A-list', 'O'), ('fans', 'O'), ('like', 'O'), ('Gwyneth', 'LOCATION'), ('Paltrow', 'LOCATION'), ('and', 'O'), ('Shailene', 'PERSON'), ('Woodley', 'PERSON'), ('.', 'O'), ('(', 'O'), ('Remember', 'O'), ('that', 'O'), ('Goop', 'O'), ('newsletter', 'O'), ('that', 'O'), ('included', 'O'), ('a', 'O'), ('recipe', 'O'), ('for', 'O'), ('Sex', 'O'), ('truffles', 'O'), ('?', 'O'), (')', 'O'), ('From', 'O'), ('ho', 'O'), ('shou', 'O'), ('wu', 'O'), ('to', 'O'), ('cordyceps', 'O'), ('and', 'O'), ('more', 'O'), ('fantastical-sounding', 'O'), ('superfoods', 'O'), ('we', 'O'), (\"'d\", 'O'), ('never', 'O'), ('even', 'O'), ('heard', 'O'), ('of', 'O'), (',', 'O'), ('Bacon', 'PERSON'), (\"'s\", 'O'), ('diet', 'O'), ('is', 'O'), ('certainly', 'O'), ('at', 'O'), ('the', 'O'), ('more', 'O'), ('exotic', 'O'), ('end', 'O'), ('of', 'O'), ('the', 'O'), ('spectrum', 'O'), (',', 'O'), ('but', 'O'), ('it', 'O'), (\"'s\", 'O'), ('a', 'O'), ('fascinating', 'O'), ('one', 'O'), ('.', 'O'), ('Here', 'O'), (',', 'O'), ('her', 'O'), ('complete', 'O'), ('routine', 'O'), (',', 'O'), ('from', 'O'), ('diet', 'O'), ('to', 'O'), ('meditation', 'O'), ('and', 'O'), ('everything', 'O'), ('in', 'O'), ('between', 'O'), ('.', 'O'), ('(', 'O'), ('Including', 'O'), ('lots', 'O'), ('of', 'O'), ('juice', 'O'), ('.', 'O'), ('Of', 'O'), ('course', 'O'), ('.', 'O'), (')', 'O'), ('``', 'O'), ('I', 'O'), ('usually', 'O'), ('wake', 'O'), ('up', 'O'), ('at', 'O'), ('6:30am', 'O'), (',', 'O'), ('and', 'O'), ('start', 'O'), ('with', 'O'), ('some', 'O'), ('Kundalini', 'ORGANIZATION'), ('meditation', 'ORGANIZATION'), ('and', 'O'), ('a', 'O'), ('23-minute', 'O'), ('breath', 'O'), ('set—along', 'O'), ('with', 'O'), ('a', 'O'), ('copper', 'O'), ('cup', 'O'), ('of', 'O'), ('silver', 'O'), ('needle', 'O'), ('and', 'O'), ('calendula', 'O'), ('tea—before', 'O'), ('my', 'O'), ('son', 'O'), ('Rohan', 'O'), ('wakes', 'O'), ('.', 'O'), (\"''\", 'O'), ('``', 'O'), ('At', 'O'), ('8am', 'O'), (',', 'O'), ('I', 'O'), ('had', 'O'), ('a', 'O'), ('warm', 'O'), (',', 'O'), ('morning', 'O'), ('chi', 'O'), ('drink', 'O'), ('on', 'O'), ('my', 'O'), ('way', 'O'), ('to', 'O'), ('the', 'O'), ('school', 'O'), ('drop', 'O'), ('off', 'O'), (',', 'O'), ('drunk', 'O'), ('in', 'O'), ('the', 'O'), ('car', 'O'), ('!', 'O'), ('It', 'O'), ('contains', 'O'), ('more', 'O'), ('than', 'O'), ('25', 'O'), ('grams', 'O'), ('of', 'O'), ('plant', 'O'), ('protein', 'O'), (',', 'O'), ('thanks', 'O'), ('to', 'O'), ('vanilla', 'O'), ('mushroom', 'O'), ('protein', 'O'), ('and', 'O'), ('stone', 'O'), ('ground', 'O'), ('almond', 'O'), ('butter', 'O'), (',', 'O'), ('and', 'O'), ('also', 'O'), ('has', 'O'), ('the', 'O'), ('super', 'O'), ('endocrine', 'O'), (',', 'O'), ('brain', 'O'), (',', 'O'), ('immunity', 'O'), (',', 'O'), ('and', 'O'), ('libido-', 'O'), ('boosting', 'O'), ('powers', 'O'), ('of', 'O'), ('Brain', 'O'), ('Dust', 'O'), (',', 'O'), ('cordyceps', 'O'), (',', 'O'), ('reishi', 'O'), (',', 'O'), ('maca', 'O'), (',', 'O'), ('and', 'O'), ('Shilajit', 'O'), ('resin', 'O'), ('.', 'O'), ('I', 'O'), ('throw', 'O'), ('ho', 'O'), ('shou', 'O'), ('wu', 'O'), ('and', 'O'), ('pearl', 'O'), ('in', 'O'), ('as', 'O'), ('part', 'O'), ('of', 'O'), ('my', 'O'), ('beauty', 'O'), ('regime', 'O'), ('.', 'O'), ('I', 'O'), ('chase', 'O'), ('it', 'O'), ('with', 'O'), ('three', 'O'), ('quinton', 'O'), ('shots', 'O'), ('for', 'O'), ('mineralization', 'O'), ('and', 'O'), ('two', 'O'), ('lipospheric', 'O'), ('vitamin', 'O'), ('B-complex', 'O'), ('packets', 'O'), ('for', 'O'), ('energy', 'O'), ('.', 'O'), (\"''\", 'O'), ('``', 'O'), ('At', 'O'), ('9:30am', 'O'), (',', 'O'), ('I', 'O'), ('drink', 'O'), ('16', 'O'), ('ounces', 'O'), ('of', 'O'), ('unsweetened', 'O'), (',', 'O'), ('strong', 'O'), ('green', 'O'), ('juice', 'O'), (',', 'O'), ('which', 'O'), ('is', 'O'), ('my', 'O'), ('alkalizer', 'O'), (',', 'O'), ('hydrator', 'O'), (',', 'O'), ('energizer', 'O'), (',', 'O'), ('source', 'O'), ('of', 'O'), ('protein', 'O'), ('and', 'O'), ('calcium', 'O'), (',', 'O'), ('and', 'O'), ('overall', 'O'), ('mood', 'O'), ('balancer', 'O'), ('.', 'O'), ('It', 'O'), (\"'s\", 'O'), ('also', 'O'), ('my', 'O'), ('easy', 'O'), (',', 'O'), (\"'lazy\", 'O'), (',', 'O'), (\"'\", 'O'), ('and', 'O'), ('delicious', 'O'), ('skin', 'O'), ('regime', 'O'), ('.', 'O'), ('I', 'O'), ('also', 'O'), ('take', 'O'), ('three', 'O'), ('tablespoons', 'O'), ('of', 'O'), ('bee', 'O'), ('pollen', 'O'), ('.', 'O'), ('I', 'O'), ('love', 'O'), ('Moon', 'LOCATION'), ('Juice', 'LOCATION'), (\"'s\", 'O'), ('soft', 'O'), ('and', 'O'), ('chewy', 'O'), ('bee', 'O'), ('pollen—it', 'O'), (\"'s\", 'O'), ('a', 'O'), ('creamy', 'O'), (',', 'O'), ('candy-like', 'O'), ('treat', 'O'), ('that', 'O'), ('gives', 'O'), ('me', 'O'), ('my', 'O'), ('daily', 'O'), ('B-vitamin', 'O'), ('blast', 'O'), (',', 'O'), ('and', 'O'), ('also', 'O'), ('helps', 'O'), ('feed', 'O'), ('my', 'O'), ('skin', 'O'), ('and', 'O'), ('aids', 'O'), ('hormone', 'O'), ('production', 'O'), ('.', 'O'), ('I', 'O'), (\"'ll\", 'O'), ('also', 'O'), ('grab', 'O'), ('a', 'O'), ('handful', 'O'), ('of', 'O'), ('activated', 'O'), ('cashews', 'O'), ('.', 'O'), ('I', 'O'), ('try', 'O'), ('to', 'O'), ('get', 'O'), ('these', 'O'), ('in', 'O'), ('every', 'O'), ('day', 'O'), ('for', 'O'), ('their', 'O'), ('brain', 'O'), ('chemistry', 'O'), ('magic', 'O'), ('.', 'O'), ('I', 'O'), ('chase', 'O'), ('this', 'O'), ('with', 'O'), ('a', 'O'), ('shot', 'O'), ('of', 'O'), ('pressed', 'O'), ('turmeric', 'O'), ('root', 'O'), ('in', 'O'), ('freshly', 'O'), ('squeezed', 'O'), ('grapefruit', 'O'), ('juice', 'O'), ('.', 'O'), (\"''\", 'O'), ('``', 'O'), ('For', 'O'), ('lunch', 'O'), (',', 'O'), ('I', 'O'), ('had', 'O'), ('zucchini', 'O'), ('ribbons', 'O'), ('with', 'O'), ('basil', 'O'), (',', 'O'), ('pine', 'O'), ('nuts', 'O'), (',', 'O'), ('sun-cured', 'O'), ('olives', 'O'), (',', 'O'), ('and', 'O'), ('lemon', 'O'), (',', 'O'), ('with', 'O'), ('green', 'O'), ('tea', 'O'), ('on', 'O'), ('the', 'O'), ('side', 'O'), ('.', 'O'), ('This', 'O'), ('is', 'O'), ('such', 'O'), ('an', 'O'), ('easy', 'O'), (',', 'O'), ('elegant', 'O'), (',', 'O'), ('and', 'O'), ('light', 'O'), ('meal', 'O'), ('.', 'O'), ('I', 'O'), ('made', 'O'), ('this', 'O'), ('while', 'O'), ('on', 'O'), ('a', 'O'), ('phone', 'O'), ('meeting', 'O'), ('before', 'O'), ('heading', 'O'), ('out', 'O'), ('for', 'O'), ('the', 'O'), ('rest', 'O'), ('of', 'O'), ('the', 'O'), ('work', 'O'), ('day', 'O'), ('.', 'O'), ('I', 'O'), ('often', 'O'), ('alternate', 'O'), ('this', 'O'), ('with', 'O'), ('my', 'O'), ('other', 'O'), ('lunch', 'O'), ('staple', 'O'), (':', 'O'), ('a', 'O'), ('nori', 'O'), ('roll', 'O'), ('with', 'O'), ('umeboshi', 'O'), ('paste', 'O'), (',', 'O'), ('avocado', 'O'), (',', 'O'), ('cultured', 'O'), ('sea', 'O'), ('vegetables', 'O'), (',', 'O'), ('and', 'O'), ('pea', 'O'), ('sprouts', 'O'), ('.', 'O'), ('This', 'O'), ('is', 'O'), ('my', 'O'), ('version', 'O'), ('of', 'O'), ('a', 'O'), ('taco', 'O'), (',', 'O'), ('and', 'O'), ('it', 'O'), (\"'s\", 'O'), ('insanely', 'O'), ('delicious', 'O'), ('.', 'O'), ('These', 'O'), ('ingredients', 'O'), ('are', 'O'), ('all', 'O'), ('pantry', 'O'), ('staples', 'O'), (',', 'O'), ('so', 'O'), ('I', 'O'), ('eat', 'O'), ('some', 'O'), ('version', 'O'), ('of', 'O'), ('this', 'O'), ('everyday', 'O'), ('.', 'O'), ('It', 'O'), (\"'s\", 'O'), ('probiotic-rich', 'O'), ('with', 'O'), ('the', 'O'), ('cultured', 'O'), ('veggies', 'O'), (',', 'O'), ('and', 'O'), ('deeply', 'O'), ('mineralizing', 'O'), ('thanks', 'O'), ('to', 'O'), ('the', 'O'), ('sea', 'O'), ('vegetables', 'O'), (',', 'O'), ('and', 'O'), ('the', 'O'), ('avocado', 'O'), ('nourishes', 'O'), ('the', 'O'), ('brain', 'O'), ('and', 'O'), ('hormones', 'O'), ('.', 'O'), ('It', 'O'), (\"'s\", 'O'), ('awesomely', 'O'), ('satiating', 'O'), ('and', 'O'), ('takes', 'O'), ('45', 'O'), ('seconds', 'O'), ('to', 'O'), ('compile', 'O'), ('.', 'O'), ('I', 'O'), ('usually', 'O'), ('make', 'O'), ('this', 'O'), ('while', 'O'), ('standing', 'O'), (',', 'O'), ('working', 'O'), ('with', 'O'), ('someone', 'O'), (',', 'O'), ('simultaneously', 'O'), ('emailing', 'O'), ('and', 'O'), ('definitely', 'O'), ('texting', 'O'), ('.', 'O'), ('I', 'O'), ('know', 'O'), ('the', 'O'), ('right', 'O'), ('answer', 'O'), ('would', 'O'), ('be', 'O'), ('to', 'O'), ('sit', 'O'), ('down', 'O'), ('and', 'O'), ('take', 'O'), ('10', 'O'), ('minutes', 'O'), ('to', 'O'), ('eat', 'O'), (',', 'O'), ('but', 'O'), ('that', 'O'), ('does', 'O'), (\"n't\", 'O'), ('happen', 'O'), ('for', 'O'), ('lunch', 'O'), (',', 'O'), ('ever', 'O'), ('.', 'O'), (\"''\", 'O'), ('``', 'O'), ('If', 'O'), ('I', 'O'), (\"'m\", 'O'), ('home', 'O'), ('around', 'O'), ('3pm', 'O'), (',', 'O'), ('I', 'O'), ('always', 'O'), ('reach', 'O'), ('for', 'O'), ('coconut', 'O'), ('yogurt', 'O'), ('with', 'O'), ('cardamom', 'O'), (',', 'O'), ('dried', 'O'), ('figs', 'O'), (',', 'O'), ('walnuts', 'O'), (',', 'O'), ('and', 'O'), ('apricots', 'O'), ('from', 'O'), ('a', 'O'), ('weekend', 'O'), ('farm', 'O'), ('visit—and', 'O'), ('a', 'O'), ('chunk', 'O'), ('of', 'O'), ('raw', 'O'), ('dark', 'O'), ('chocolate', 'O'), ('.', 'O'), ('I', 'O'), ('ferment', 'O'), ('big', 'O'), ('batches', 'O'), ('of', 'O'), ('coconut', 'O'), ('yogurt', 'O'), ('and', 'O'), ('make', 'O'), ('big', 'O'), ('batches', 'O'), ('of', 'O'), ('raw', 'O'), ('chocolate', 'O'), ('spiked', 'O'), ('with', 'O'), ('maca', 'O'), ('and', 'O'), ('any', 'O'), ('other', 'O'), ('medicinal', 'O'), ('herb', 'O'), ('I', 'O'), (\"'m\", 'O'), ('focusing', 'O'), ('on', 'O'), ('.', 'O'), ('It', 'O'), (\"'s\", 'O'), ('easy', 'O'), ('to', 'O'), ('do', 'O'), (',', 'O'), ('and', 'O'), ('makes', 'O'), ('for', 'O'), ('potent', 'O'), (',', 'O'), ('fast', 'O'), ('snack', 'O'), ('food', 'O'), ('throughout', 'O'), ('the', 'O'), ('month', 'O'), ('.', 'O'), (\"''\", 'O'), ('``', 'O'), ('Today', 'O'), ('I', 'O'), ('also', 'O'), ('called', 'O'), ('into', 'O'), ('Moon', 'LOCATION'), ('Juice', 'LOCATION'), ('and', 'O'), ('got', 'O'), ('some', 'O'), (\"'drive\", 'O'), ('through', 'O'), ('.', 'O'), (\"'\", 'O'), ('Work', 'O'), ('does', 'O'), (\"n't\", 'O'), ('keep', 'O'), ('me', 'O'), ('in', 'O'), ('the', 'O'), ('shop', 'O'), ('like', 'O'), ('it', 'O'), ('used', 'O'), ('to', 'O'), ('.', 'O'), ('Sadly', 'O'), ('I', 'O'), (\"'m\", 'O'), ('always', 'O'), ('on', 'O'), ('the', 'O'), ('go', 'O'), ('and', 'O'), ('running', 'O'), ('late', 'O'), (',', 'O'), ('so', 'O'), ('I', 'O'), ('usually', 'O'), ('call', 'O'), ('in', 'O'), ('a', 'O'), ('mid-workday', 'O'), ('curbside', 'O'), ('pick-up', 'O'), ('.', 'O'), ('I', 'O'), ('grabbed', 'O'), ('a', 'O'), ('mint', 'O'), ('chip', 'O'), ('hemp', 'O'), ('milk', 'O'), ('with', 'O'), ('double', 'O'), ('servings', 'O'), ('of', 'O'), ('maca', 'O'), ('and', 'O'), ('sprouted', 'O'), ('brown', 'O'), ('rice', 'O'), ('protein', 'O'), (',', 'O'), ('sweetened', 'O'), ('with', 'O'), ('stevia', 'ORGANIZATION'), (',', 'O'), ('as', 'O'), ('well', 'O'), ('as', 'O'), ('two', 'O'), ('Goodness', 'O'), ('Greens', 'O'), ('juices', 'O'), ('.', 'O'), (\"''\", 'O'), ('``', 'O'), ('I', 'O'), ('had', 'O'), ('an', 'O'), ('early', 'O'), (',', 'O'), ('pre-yoga', 'O'), ('dinner', 'O'), ('at', 'O'), ('Shima', 'ORGANIZATION'), ('on', 'ORGANIZATION'), ('Abbot', 'ORGANIZATION'), ('Kinney', 'ORGANIZATION'), (',', 'O'), ('which', 'O'), ('is', 'O'), ('my', 'O'), ('3-year-old', 'O'), (\"'s\", 'O'), ('favorite', 'O'), ('restaurant', 'O'), ('.', 'O'), ('I', 'O'), ('had', 'O'), ('a', 'O'), ('seaweed', 'O'), ('salad', 'O'), ('with', 'O'), ('micro', 'O'), ('cilantro', 'O'), ('and', 'O'), ('daikon', 'O'), (',', 'O'), ('and', 'O'), ('a', 'O'), ('delicate', 'O'), ('broth', 'O'), ('of', 'O'), ('mushrooms', 'O'), ('and', 'O'), ('herbs', 'O'), ('.', 'O'), (\"''\", 'O'), ('``', 'O'), ('From', 'O'), ('7', 'O'), ('to', 'O'), ('9pm', 'O'), (',', 'O'), ('I', 'O'), ('went', 'O'), ('to', 'O'), ('my', 'O'), ('Kundalini', 'O'), ('yoga', 'O'), ('class', 'O'), ('at', 'O'), ('Rama', 'ORGANIZATION'), ('Yoga', 'ORGANIZATION'), ('in', 'O'), ('Venice', 'LOCATION'), (',', 'O'), ('with', 'O'), ('my', 'O'), ('go-to', 'O'), ('teacher', 'O'), (',', 'O'), ('Harijiwan', 'O'), ('.', 'O'), (\"''\", 'O'), ('``', 'O'), ('My', 'O'), ('son', 'O'), ('and', 'O'), ('I', 'O'), ('make', 'O'), ('a', 'O'), ('batch', 'O'), ('of', 'O'), ('almond', 'O'), ('milk', 'O'), ('and', 'O'), ('vanilla', 'O'), ('chia', 'O'), ('pudding', 'O'), ('for', 'O'), ('the', 'O'), ('next', 'O'), ('morning', 'O'), ('at', 'O'), ('bedtime', 'O'), ('.', 'O'), ('We', 'O'), ('like', 'O'), ('to', 'O'), ('have', 'O'), ('cups', 'O'), ('of', 'O'), ('it', 'O'), ('before', 'O'), ('it', 'O'), (\"'s\", 'O'), ('totally', 'O'), ('done', 'O'), (',', 'O'), ('when', 'O'), ('it', 'O'), (\"'s\", 'O'), ('more', 'O'), ('like', 'O'), ('chia', 'O'), ('milk', 'O'), ('.', 'O'), (\"''\", 'O'), ('``', 'O'), ('At', 'O'), ('11pm', 'O'), (',', 'O'), ('I', 'O'), ('had', 'O'), ('a', 'O'), ('nightcap', 'O'), ('of', 'O'), ('heart', 'O'), ('tonic', 'O'), ('and', 'O'), ('raw', 'O'), ('chocolate', 'O'), ('made', 'O'), ('from', 'O'), ('one', 'O'), ('of', 'O'), ('my', 'O'), ('big', 'O'), ('batches—this', 'O'), ('one', 'O'), ('was', 'O'), ('made', 'O'), ('with', 'O'), ('our', 'O'), ('Moon', 'O'), ('Pantry', 'O'), ('heirloom', 'O'), ('raw', 'O'), ('cacao', 'O'), (',', 'O'), ('reishi', 'O'), ('and', 'O'), ('Chaga', 'O'), ('mushroom', 'O'), (',', 'O'), ('sprouted', 'O'), ('brown', 'O'), ('rice', 'O'), ('protein', 'O'), (',', 'O'), ('and', 'O'), ('coconut', 'O'), ('oil', 'O'), ('.', 'O'), ('I', 'O'), ('love', 'O'), ('chocolate—and', 'O'), ('on', 'O'), ('some', 'O'), ('evenings', 'O'), (',', 'O'), ('I', 'O'), ('do', 'O'), (\"n't\", 'O'), ('want', 'O'), ('to', 'O'), ('deny', 'O'), ('the', 'O'), ('indulgence—so', 'O'), ('I', 'O'), (\"'ve\", 'O'), ('devised', 'O'), ('a', 'O'), ('million', 'O'), ('low', 'O'), ('glycemic', 'O'), ('recipes', 'O'), ('.', 'O'), (\"''\", 'O')]\n"
     ]
    }
   ],
   "source": [
    "arg1 = dir_ + 'classifiers/english.all.3class.distsim.crf.ser.gz'\n",
    "arg1 = dir_ + 'classifiers/english.muc.7class.distsim.crf.ser.gz'\n",
    "arg2 = dir_ + 'stanford-ner.jar'\n",
    "tagger = st.StanfordNERTagger(arg1, arg2)\n",
    "tokenized_text = nltk.word_tokenize(text) # the elle text\n",
    "result = tagger.tag(tokenized_text)\n",
    "print(result)"
   ]
  },
  {
   "cell_type": "code",
   "execution_count": 40,
   "metadata": {},
   "outputs": [
    {
     "name": "stdout",
     "output_type": "stream",
     "text": [
      "---  O\n",
      "precision: 0.967948717948718\n",
      "recall: 0.9977973568281938\n",
      "F-measure: 0.9826464208242949\n",
      "---  TIME\n",
      "precision: None\n",
      "recall: 0.0\n",
      "F-measure: None\n",
      "---  PERSON\n",
      "precision: 1.0\n",
      "recall: 0.45454545454545453\n",
      "F-measure: 0.625\n",
      "---  ORGANIZATION\n",
      "precision: 0.3333333333333333\n",
      "recall: 0.375\n",
      "F-measure: 0.35294117647058826\n",
      "---  LOCATION\n",
      "precision: 0.42857142857142855\n",
      "recall: 0.6\n",
      "F-measure: 0.5\n",
      "---  QUANTITY\n",
      "precision: None\n",
      "recall: 0.0\n",
      "F-measure: None\n"
     ]
    }
   ],
   "source": [
    "refsets = collections.defaultdict(set)\n",
    "testsets = collections.defaultdict(set)\n",
    "for entity, label in gold_standard.items():    \n",
    "    for e in entity.split():    \n",
    "        refsets[label].add(e)\n",
    "\n",
    "for i, (test_instance, label) in enumerate(result):\n",
    "    # print('test-set: ', label, test_instance)\n",
    "    testsets[label].add(test_instance)\n",
    "\n",
    "for label in refsets.keys():\n",
    "    print('--- ', label)\n",
    "    print('precision:', precision(refsets[label], testsets[label]))\n",
    "    print('recall:', recall(refsets[label], testsets[label]))\n",
    "    print('F-measure:', f_measure(refsets[label], testsets[label]))\n"
   ]
  },
  {
   "cell_type": "code",
   "execution_count": 37,
   "metadata": {},
   "outputs": [
    {
     "name": "stdout",
     "output_type": "stream",
     "text": [
      "precision: None\n"
     ]
    }
   ],
   "source": [
    "print('precision:', precision(refsets[label], testsets[label]))"
   ]
  },
  {
   "cell_type": "code",
   "execution_count": 36,
   "metadata": {},
   "outputs": [],
   "source": [
    "label = 'O'"
   ]
  },
  {
   "cell_type": "code",
   "execution_count": 39,
   "metadata": {},
   "outputs": [
    {
     "data": {
      "text/plain": [
       "set()"
      ]
     },
     "execution_count": 39,
     "metadata": {},
     "output_type": "execute_result"
    }
   ],
   "source": [
    "testsets[label]"
   ]
  },
  {
   "cell_type": "code",
   "execution_count": null,
   "metadata": {},
   "outputs": [],
   "source": []
  }
 ],
 "metadata": {
  "kernelspec": {
   "display_name": "Python 3",
   "language": "python",
   "name": "python3"
  },
  "language_info": {
   "codemirror_mode": {
    "name": "ipython",
    "version": 3
   },
   "file_extension": ".py",
   "mimetype": "text/x-python",
   "name": "python",
   "nbconvert_exporter": "python",
   "pygments_lexer": "ipython3",
   "version": "3.6.4"
  }
 },
 "nbformat": 4,
 "nbformat_minor": 2
}
