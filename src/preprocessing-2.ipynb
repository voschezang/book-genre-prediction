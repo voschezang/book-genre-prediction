{
 "cells": [
  {
   "cell_type": "code",
   "execution_count": 16,
   "metadata": {},
   "outputs": [
    {
     "data": {
      "text/plain": [
       "'/Users/mark/src/books/src'"
      ]
     },
     "execution_count": 16,
     "metadata": {},
     "output_type": "execute_result"
    }
   ],
   "source": [
    "import os, csv, time\n",
    "import config\n",
    "from SPARQLWrapper import SPARQLWrapper, JSON, XML, N3, RDF\n",
    "import json\n",
    "from collections import namedtuple\n",
    "os.getcwd()"
   ]
  },
  {
   "cell_type": "code",
   "execution_count": 1,
   "metadata": {},
   "outputs": [],
   "source": [
    "# local modules\n",
    "import sparql"
   ]
  },
  {
   "cell_type": "markdown",
   "metadata": {},
   "source": [
    "First we create an empty CSV file with the colums to fill."
   ]
  },
  {
   "cell_type": "markdown",
   "metadata": {},
   "source": [
    "We want to be able to extract the filename, title, author and release year from every book and save it to a CSV file. "
   ]
  },
  {
   "cell_type": "code",
   "execution_count": 13,
   "metadata": {},
   "outputs": [
    {
     "name": "stdout",
     "output_type": "stream",
     "text": [
      "['00053.txt', 'LOC Workshop on Electronic Texts', 'Library of Congress', 'February, 1993']\n",
      "['570.txt', 'The Moravians in Georgia', 'Adelaide L. Fries', 'June, 1996  ']\n",
      "['564.txt', 'The Mystery of Edwin Drood', 'Charles Dickens', 'December 25, 2010  ']\n",
      "['558.txt', 'The Thirty-nine Steps', 'John Buchan', 'June, 1996']\n",
      "['559.txt', 'Greenmantle', 'John Buchan', 'June, 1996']\n",
      "['561.txt', 'The Further Adventures of Robinson Crusoe', 'Daniel Defoe', 'January 18, 2007  ']\n",
      "['00055.txt', 'The Wonderful Wizard of Oz', 'L. Frank Baum', 'July 1, 2008 ']\n",
      "['00054.txt', 'The Marvellous Land of Oz', 'L. Frank Baum', 'February, 1993']\n",
      "['560.txt', 'Mr. Standfast', 'John Buchan', 'June, 1996']\n",
      "['562.txt', 'Go Ahead Boys and the Racing Motorboat', 'Ross Kay', 'June, 1996']\n",
      "['00056.txt', 'NREN for All: Insurmountable Opportunity', 'Jean Armour Polly', 'March, 1993']\n",
      "['00057.txt', 'Aladdin and the Magic Lamp', 'Unknown', 'June 12, 2008 ']\n",
      "['563.txt', 'The Planet Mars and its Inhabitants', 'Eros Urides and J. L. Kennon', 'September 27, 2008 ']\n",
      "['00059.txt', 'A Discourse on Method', 'Ren� Descartes', 'July 1, 2008 ']\n",
      "['00058.txt', 'Paradise Regained', 'John Milton', 'June 20, 2008 ']\n",
      "['00060.txt', 'The Scarlet Pimpernel', 'Baroness Orczy', 'March 7, 2006 ']\n",
      "['557.txt', \"Puck of Pook's Hill\", 'Rudyard Kipling', 'June, 1996']\n",
      "['556.txt', 'Rewards and Fairies', 'Rudyard Kipling', 'June, 1996 ']\n"
     ]
    }
   ],
   "source": [
    "def obtain_data_from_books(directory):\n",
    "    \n",
    "    # initiate CSV file \n",
    "    csvfile = open(config.dataset_dir + 'output/tard.csv', \"a\")\n",
    "    writer = csv.writer(csvfile)\n",
    "    result = []\n",
    "  \n",
    "    for book in os.listdir(directory):\n",
    "        if not book.startswith(\".\"):\n",
    "            with open(directory + book, errors='replace') as f:\n",
    "                text = f.read().splitlines()\n",
    "        \n",
    "        author = \"NULL\"\n",
    "        title = \"NULL\"\n",
    "        release_date = \"NULL\"\n",
    "        \n",
    "        # for line in text, check if title, author or release date are stored there\n",
    "        for i in range(80):\n",
    "            # error handling since some texts are <80 lines\n",
    "            try:\n",
    "                if \"Title: \" in text[i]:\n",
    "                    title = text[i][7:]\n",
    "                if \"Author: \" in text[i]:\n",
    "                    author = text[i][8:]\n",
    "                if \"Release Date: \" in text[i]:\n",
    "                    release_date = text[i][14:].split('[')[0]\n",
    "                # if they have both been found, do not waste extra time iterating \n",
    "                if title != \"NULL\" and author != \"NULL\" and release_date != \"NULL\":\n",
    "                    title_author_rd_triple = (title, author, release_date)\n",
    "                    pass\n",
    "            except:\n",
    "                pass\n",
    "            \n",
    "        data = [book, title, author, release_date]\n",
    "        result.append(data)\n",
    "        if not 'NULL' in data:\n",
    "            writer.writerow(data)\n",
    "            print (data)\n",
    "    return result\n",
    "\n",
    "    \n",
    "directory = config.dataset_dir + \"test/\"\n",
    "data = obtain_data_from_books(directory)"
   ]
  },
  {
   "cell_type": "code",
   "execution_count": 29,
   "metadata": {
    "scrolled": true
   },
   "outputs": [
    {
     "name": "stdout",
     "output_type": "stream",
     "text": [
      "LOC Workshop on Electronic Texts\n",
      "{'head': {'link': [], 'vars': ['book', 'title', 'author', 'date1', 'date', 'country']}, 'results': {'distinct': False, 'ordered': True, 'bindings': []}}\n",
      "NULL\n",
      "{'head': {'link': [], 'vars': ['book', 'title', 'author', 'date1', 'date', 'country']}, 'results': {'distinct': False, 'ordered': True, 'bindings': []}}\n",
      "The Moravians in Georgia\n",
      "{'head': {'link': [], 'vars': ['book', 'title', 'author', 'date1', 'date', 'country']}, 'results': {'distinct': False, 'ordered': True, 'bindings': []}}\n",
      "The Mystery of Edwin Drood\n",
      "{'head': {'link': [], 'vars': ['book', 'title', 'author', 'date1', 'date', 'country']}, 'results': {'distinct': False, 'ordered': True, 'bindings': [{'book': {'type': 'uri', 'value': 'http://dbpedia.org/resource/The_Mystery_of_Edwin_Drood'}, 'author': {'type': 'uri', 'value': 'http://dbpedia.org/resource/Charles_Dickens'}, 'date': {'type': 'typed-literal', 'datatype': 'http://www.w3.org/2001/XMLSchema#date', 'value': '1812-02-07'}}]}}\n",
      "The Thirty-nine Steps\n",
      "{'head': {'link': [], 'vars': ['book', 'title', 'author', 'date1', 'date', 'country']}, 'results': {'distinct': False, 'ordered': True, 'bindings': []}}\n",
      "Greenmantle\n",
      "{'head': {'link': [], 'vars': ['book', 'title', 'author', 'date1', 'date', 'country']}, 'results': {'distinct': False, 'ordered': True, 'bindings': [{'book': {'type': 'uri', 'value': 'http://dbpedia.org/resource/Greenmantle'}, 'author': {'type': 'uri', 'value': 'http://dbpedia.org/resource/John_Buchan'}, 'date': {'type': 'typed-literal', 'datatype': 'http://www.w3.org/2001/XMLSchema#date', 'value': '1875-08-26'}}]}}\n",
      "The Further Adventures of Robinson Crusoe\n",
      "{'head': {'link': [], 'vars': ['book', 'title', 'author', 'date1', 'date', 'country']}, 'results': {'distinct': False, 'ordered': True, 'bindings': []}}\n",
      "The Wonderful Wizard of Oz\n",
      "{'head': {'link': [], 'vars': ['book', 'title', 'author', 'date1', 'date', 'country']}, 'results': {'distinct': False, 'ordered': True, 'bindings': [{'book': {'type': 'uri', 'value': 'http://dbpedia.org/resource/The_Wonderful_Wizard_of_Oz'}, 'author': {'type': 'uri', 'value': 'http://dbpedia.org/resource/L._Frank_Baum'}, 'date1': {'type': 'typed-literal', 'datatype': 'http://www.w3.org/2001/XMLSchema#date', 'value': '1900-05-17'}, 'date': {'type': 'typed-literal', 'datatype': 'http://www.w3.org/2001/XMLSchema#date', 'value': '1856-05-15'}}]}}\n",
      "The Marvellous Land of Oz\n",
      "{'head': {'link': [], 'vars': ['book', 'title', 'author', 'date1', 'date', 'country']}, 'results': {'distinct': False, 'ordered': True, 'bindings': []}}\n",
      "Mr. Standfast\n",
      "{'head': {'link': [], 'vars': ['book', 'title', 'author', 'date1', 'date', 'country']}, 'results': {'distinct': False, 'ordered': True, 'bindings': []}}\n",
      "Go Ahead Boys and the Racing Motorboat\n",
      "{'head': {'link': [], 'vars': ['book', 'title', 'author', 'date1', 'date', 'country']}, 'results': {'distinct': False, 'ordered': True, 'bindings': []}}\n",
      "NREN for All: Insurmountable Opportunity\n",
      "{'head': {'link': [], 'vars': ['book', 'title', 'author', 'date1', 'date', 'country']}, 'results': {'distinct': False, 'ordered': True, 'bindings': []}}\n",
      "Aladdin and the Magic Lamp\n",
      "{'head': {'link': [], 'vars': ['book', 'title', 'author', 'date1', 'date', 'country']}, 'results': {'distinct': False, 'ordered': True, 'bindings': []}}\n",
      "The Planet Mars and its Inhabitants\n",
      "{'head': {'link': [], 'vars': ['book', 'title', 'author', 'date1', 'date', 'country']}, 'results': {'distinct': False, 'ordered': True, 'bindings': []}}\n",
      "A Discourse on Method\n",
      "{'head': {'link': [], 'vars': ['book', 'title', 'author', 'date1', 'date', 'country']}, 'results': {'distinct': False, 'ordered': True, 'bindings': []}}\n",
      "Paradise Regained\n",
      "{'head': {'link': [], 'vars': ['book', 'title', 'author', 'date1', 'date', 'country']}, 'results': {'distinct': False, 'ordered': True, 'bindings': []}}\n",
      "The Scarlet Pimpernel\n",
      "{'head': {'link': [], 'vars': ['book', 'title', 'author', 'date1', 'date', 'country']}, 'results': {'distinct': False, 'ordered': True, 'bindings': [{'book': {'type': 'uri', 'value': 'http://dbpedia.org/resource/The_Scarlet_Pimpernel'}, 'author': {'type': 'uri', 'value': 'http://dbpedia.org/resource/Emma_Orczy'}, 'date': {'type': 'typed-literal', 'datatype': 'http://www.w3.org/2001/XMLSchema#date', 'value': '1865-09-23'}}]}}\n",
      "Puck of Pook's Hill\n",
      "{'head': {'link': [], 'vars': ['book', 'title', 'author', 'date1', 'date', 'country']}, 'results': {'distinct': False, 'ordered': True, 'bindings': []}}\n",
      "Rewards and Fairies\n",
      "{'head': {'link': [], 'vars': ['book', 'title', 'author', 'date1', 'date', 'country']}, 'results': {'distinct': False, 'ordered': True, 'bindings': []}}\n"
     ]
    }
   ],
   "source": [
    "# for info in data:\n",
    "#     title = info[1]\n",
    "#     print(title)\n",
    "#     title = title.replace(' ','_')\n",
    "#     info = book_info_alt(title)\n",
    "#     print(info)"
   ]
  },
  {
   "cell_type": "code",
   "execution_count": null,
   "metadata": {},
   "outputs": [],
   "source": []
  },
  {
   "cell_type": "code",
   "execution_count": null,
   "metadata": {},
   "outputs": [],
   "source": []
  },
  {
   "cell_type": "code",
   "execution_count": null,
   "metadata": {},
   "outputs": [],
   "source": []
  },
  {
   "cell_type": "code",
   "execution_count": null,
   "metadata": {},
   "outputs": [],
   "source": []
  }
 ],
 "metadata": {
  "kernelspec": {
   "display_name": "Python 3",
   "language": "python",
   "name": "python3"
  },
  "language_info": {
   "codemirror_mode": {
    "name": "ipython",
    "version": 3
   },
   "file_extension": ".py",
   "mimetype": "text/x-python",
   "name": "python",
   "nbconvert_exporter": "python",
   "pygments_lexer": "ipython3",
   "version": "3.6.4"
  }
 },
 "nbformat": 4,
 "nbformat_minor": 2
}
