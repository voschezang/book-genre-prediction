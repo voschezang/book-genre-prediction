{
 "cells": [
  {
   "cell_type": "code",
   "execution_count": 1,
   "metadata": {},
   "outputs": [
    {
     "name": "stderr",
     "output_type": "stream",
     "text": [
      "/Library/Frameworks/Python.framework/Versions/3.6/lib/python3.6/site-packages/h5py/__init__.py:36: FutureWarning: Conversion of the second argument of issubdtype from `float` to `np.floating` is deprecated. In future, it will be treated as `np.float64 == np.dtype(float).type`.\n",
      "  from ._conv import register_converters as _register_converters\n",
      "Using TensorFlow backend.\n"
     ]
    }
   ],
   "source": [
    "import pandas, os, numpy as np, collections\n",
    "import config\n",
    "np.random.seed(config.seed)\n",
    "import os, sklearn, pandas, numpy as np\n",
    "from sklearn import svm\n",
    "import skimage\n",
    "from skimage import io, filters\n",
    "from utils import utils # custom functions, in local environment\n",
    "import matplotlib.pyplot as plt\n",
    "from keras.callbacks import TensorBoard\n",
    "%matplotlib inline"
   ]
  },
  {
   "cell_type": "code",
   "execution_count": 2,
   "metadata": {},
   "outputs": [],
   "source": [
    "## NN libs\n",
    "import keras\n",
    "from sklearn.decomposition import PCA\n",
    "from keras.utils import to_categorical\n",
    "from keras.layers import Dense, Activation\n",
    "from keras.optimizers import SGD, Adam\n",
    "from keras.models import Sequential\n",
    "from keras.layers import Dense, Activation, Conv2D, Conv3D, MaxPool2D, Dropout, Flatten"
   ]
  },
  {
   "cell_type": "code",
   "execution_count": 3,
   "metadata": {},
   "outputs": [
    {
     "name": "stdout",
     "output_type": "stream",
     "text": [
      " Dataset :: namedtuple(\n",
      "  'info': pandas.df\n",
      "  'labels': pandas.df('filename.txt': 'genre')\n",
      "  'genres': ['genre'] # unique genres\n",
      "  'label_dataset': SubDataset\n",
      "  'sentiment_dataset': SubDataset\n",
      "  'book_sentiment_words_list': ['filename']\n",
      "\n",
      " SubDataset :: namedtuple(\n",
      "   'dict_index_to_label' = dict to convert label_index -> label_name\n",
      "   'dict_label_to_index'= dict to convert label_name -> label_index\n",
      "   'word_list' = raw word list\n",
      "\n",
      "NP - - - [0.07630829 0.77991879]\n"
     ]
    }
   ],
   "source": [
    "import data, config, tfidf, models\n",
    "from utils import io"
   ]
  },
  {
   "cell_type": "code",
   "execution_count": 4,
   "metadata": {},
   "outputs": [
    {
     "name": "stdout",
     "output_type": "stream",
     "text": [
      ">>>>>>>>>>.\n",
      "['defeated', 'angry', 'jollities', 'loyalist', 'regretfully', 'respectable', 'radiancy', 'devastator', 'sappy', 'pardons', 'failures', 'compassionate', 'dissatisfactions', 'benevolently', 'gentler', 'true', 'growth', 'agreeably', 'manipulated', 'inspiration']\n"
     ]
    },
    {
     "data": {
      "text/plain": [
       "Index(['title', 'filename', 'title.1', 'author', 'release year', 'genre',\n",
       "       'pos score', 'neg score', 'neu score', 'comp score', 'amt pos',\n",
       "       'amt neg'],\n",
       "      dtype='object')"
      ]
     },
     "execution_count": 4,
     "metadata": {},
     "output_type": "execute_result"
    }
   ],
   "source": [
    "# info = pandas.read_csv(config.dataset_dir + 'final_data.csv')\n",
    "dataset = data.init_dataset()\n",
    "dataset.info.keys()"
   ]
  },
  {
   "cell_type": "code",
   "execution_count": 5,
   "metadata": {},
   "outputs": [
    {
     "data": {
      "text/plain": [
       "744"
      ]
     },
     "execution_count": 5,
     "metadata": {},
     "output_type": "execute_result"
    }
   ],
   "source": [
    "len(dataset.book_sentiment_words_list)"
   ]
  },
  {
   "cell_type": "code",
   "execution_count": 6,
   "metadata": {},
   "outputs": [],
   "source": [
    "amt = 600\n",
    "train = dataset.book_sentiment_words_list[:amt]\n",
    "test = dataset.book_sentiment_words_list[amt:]"
   ]
  },
  {
   "cell_type": "code",
   "execution_count": 7,
   "metadata": {},
   "outputs": [],
   "source": [
    "x_train, y_train = data.extract_all(dataset, train)\n",
    "x_test, y_test = data.extract_all(dataset, test)"
   ]
  },
  {
   "cell_type": "code",
   "execution_count": 8,
   "metadata": {
    "scrolled": true
   },
   "outputs": [
    {
     "data": {
      "text/plain": [
       "['christian',\n",
       " 'adventur',\n",
       " 'western',\n",
       " 'travel',\n",
       " 'comic',\n",
       " 'knstlerroman',\n",
       " 'adventur',\n",
       " 'children',\n",
       " 'satir',\n",
       " 'polit',\n",
       " 'children',\n",
       " 'children',\n",
       " 'young adult',\n",
       " 'science fiction',\n",
       " 'satir',\n",
       " 'detect',\n",
       " 'dystopian',\n",
       " 'horror',\n",
       " 'children',\n",
       " 'adventur',\n",
       " 'unknown',\n",
       " 'frame stori',\n",
       " 'histor',\n",
       " 'science',\n",
       " 'cryptozoolog',\n",
       " 'romance',\n",
       " 'histor',\n",
       " 'histor',\n",
       " 'histor',\n",
       " 'romantic',\n",
       " 'romantic',\n",
       " 'adventur',\n",
       " 'nonsens poetri',\n",
       " 'nonfict',\n",
       " 'adventur',\n",
       " 'adventur',\n",
       " 'science fiction',\n",
       " 'science fiction',\n",
       " 'short stori',\n",
       " 'lost world genr',\n",
       " 'lost world genr',\n",
       " 'fantasi',\n",
       " 'fantasi',\n",
       " 'science fiction',\n",
       " 'literari realism',\n",
       " 'literari realism',\n",
       " 'children',\n",
       " 'novel',\n",
       " 'novel',\n",
       " 'novel',\n",
       " 'histor',\n",
       " 'thriller',\n",
       " 'children',\n",
       " 'nonfict',\n",
       " 'fantasi',\n",
       " 'bildungsroman',\n",
       " 'nonprofit',\n",
       " 'biographi',\n",
       " 'autobiographi',\n",
       " 'fantasi',\n",
       " 'fantasi',\n",
       " 'novel',\n",
       " 'novel',\n",
       " 'literari realism',\n",
       " 'juvenil',\n",
       " 'novel of manner',\n",
       " 'black comedi',\n",
       " 'mysteri',\n",
       " 'science fiction',\n",
       " 'unknown',\n",
       " 'histor',\n",
       " 'romance',\n",
       " 'science fiction',\n",
       " 'mysteri',\n",
       " 'mysteri',\n",
       " 'novel',\n",
       " 'science fiction',\n",
       " 'science fiction',\n",
       " 'adventur',\n",
       " 'tragicomedi',\n",
       " 'mysteri',\n",
       " 'unknown',\n",
       " 'young adult',\n",
       " 'mysteri',\n",
       " 'thriller',\n",
       " 'detect stori',\n",
       " 'literari',\n",
       " 'histor',\n",
       " 'philosophi',\n",
       " 'gothic',\n",
       " 'selfhelp',\n",
       " 'apocalyptandpostapocalypt',\n",
       " 'satir',\n",
       " 'spi',\n",
       " 'unknown',\n",
       " 'novel',\n",
       " 'mysteri',\n",
       " 'children',\n",
       " 'travel',\n",
       " 'satir',\n",
       " 'war',\n",
       " 'war',\n",
       " 'mysteri',\n",
       " 'christian',\n",
       " 'dystopian',\n",
       " 'unknown',\n",
       " 'gothic',\n",
       " 'diariand',\n",
       " 'diariand',\n",
       " 'war',\n",
       " 'romantic',\n",
       " 'adventur',\n",
       " 'gothic',\n",
       " 'mysteri',\n",
       " 'crime',\n",
       " 'crime',\n",
       " 'novella',\n",
       " 'utopiananddystopian',\n",
       " 'bush poetri',\n",
       " 'adventur',\n",
       " 'novel',\n",
       " 'novel',\n",
       " 'novel',\n",
       " 'horror',\n",
       " 'autobiograph',\n",
       " 'novella',\n",
       " 'detect',\n",
       " 'biograph',\n",
       " 'biographi',\n",
       " 'biographi',\n",
       " 'mysteri',\n",
       " 'histor',\n",
       " 'histor',\n",
       " 'epistolari',\n",
       " 'fantasi',\n",
       " 'children',\n",
       " 'adventur',\n",
       " 'literari realism',\n",
       " 'biographi',\n",
       " 'christian',\n",
       " 'fiction',\n",
       " 'fiction',\n",
       " 'hindi',\n",
       " 'romance',\n",
       " 'literari realism',\n",
       " 'histor',\n",
       " 'altern histori',\n",
       " 'epistolari',\n",
       " 'fantasi',\n",
       " 'unknown',\n",
       " 'bildungsroman',\n",
       " 'unknown',\n",
       " 'unknown',\n",
       " 'dystopia',\n",
       " 'dystopia',\n",
       " 'histor',\n",
       " 'satir',\n",
       " 'romantic',\n",
       " 'unknown',\n",
       " 'unknown',\n",
       " 'unknown',\n",
       " 'unknown',\n",
       " 'histor',\n",
       " 'histor',\n",
       " 'unknown',\n",
       " 'black comedi',\n",
       " 'black comedi',\n",
       " 'frame stori',\n",
       " 'frame stori',\n",
       " 'juvenil',\n",
       " 'children',\n",
       " 'children',\n",
       " 'children',\n",
       " 'novel',\n",
       " 'utopian',\n",
       " 'novella',\n",
       " 'detect',\n",
       " 'histor',\n",
       " 'adventur',\n",
       " 'children',\n",
       " 'fantasi',\n",
       " 'children',\n",
       " 'folklor',\n",
       " 'fantasi',\n",
       " 'unknown',\n",
       " 'unknown',\n",
       " 'fantasi',\n",
       " 'detect',\n",
       " 'adventur',\n",
       " 'philosophi',\n",
       " 'children',\n",
       " 'histor',\n",
       " 'unknown',\n",
       " 'fantasi',\n",
       " 'gothic',\n",
       " 'adventur',\n",
       " 'adventur',\n",
       " 'short stori',\n",
       " 'children',\n",
       " 'fantasi',\n",
       " 'gothic',\n",
       " 'unknown',\n",
       " 'adventur',\n",
       " 'nonfict',\n",
       " 'children',\n",
       " 'histor',\n",
       " 'unknown',\n",
       " 'science fiction',\n",
       " 'sensat',\n",
       " 'sensat',\n",
       " 'ruritanian romanc',\n",
       " 'natur write',\n",
       " 'poetri',\n",
       " 'histor',\n",
       " 'novel',\n",
       " 'young adult',\n",
       " 'histor',\n",
       " 'detect',\n",
       " 'horror',\n",
       " 'histor',\n",
       " 'canadian',\n",
       " 'novel',\n",
       " 'novel',\n",
       " 'science fiction',\n",
       " 'science fiction',\n",
       " 'comic',\n",
       " 'adventur',\n",
       " 'children',\n",
       " 'children',\n",
       " 'horror',\n",
       " 'children',\n",
       " 'science fiction',\n",
       " 'thriller',\n",
       " 'thriller',\n",
       " 'mysteri',\n",
       " 'mysteri',\n",
       " 'histor',\n",
       " 'histor',\n",
       " 'nonfict',\n",
       " 'science fiction',\n",
       " 'syair',\n",
       " 'crime',\n",
       " 'textbook',\n",
       " 'textbook',\n",
       " 'thriller',\n",
       " 'histor',\n",
       " 'fantasi',\n",
       " 'polit',\n",
       " 'interior design',\n",
       " 'histor',\n",
       " 'young adult',\n",
       " 'fantasi',\n",
       " 'fantasi',\n",
       " 'novel',\n",
       " 'novel',\n",
       " 'novel',\n",
       " 'temper movement',\n",
       " 'temper movement',\n",
       " 'horror',\n",
       " 'philosophi',\n",
       " 'essay',\n",
       " 'short stori',\n",
       " 'short stori',\n",
       " 'roman clef',\n",
       " 'young adult',\n",
       " 'young adult',\n",
       " 'young adult',\n",
       " 'fantasi',\n",
       " 'fantasi',\n",
       " 'horror',\n",
       " 'children',\n",
       " 'children',\n",
       " 'histor',\n",
       " 'histor',\n",
       " 'travel',\n",
       " 'travel',\n",
       " 'fantasi',\n",
       " 'cookbook',\n",
       " 'cookbook',\n",
       " 'histor',\n",
       " 'histor',\n",
       " 'horror',\n",
       " 'horror',\n",
       " 'horror',\n",
       " 'biographi',\n",
       " 'biographi',\n",
       " 'science fiction',\n",
       " 'science fiction',\n",
       " 'unknown',\n",
       " 'science fiction',\n",
       " 'adventur',\n",
       " 'pictur book',\n",
       " 'pictur book',\n",
       " 'young adult',\n",
       " 'thriller',\n",
       " 'horror',\n",
       " 'horror',\n",
       " 'novella',\n",
       " 'histori of idea',\n",
       " 'refer work',\n",
       " 'refer work',\n",
       " 'fantasi',\n",
       " 'polit',\n",
       " 'polit',\n",
       " 'christian',\n",
       " 'christian',\n",
       " 'children',\n",
       " 'science fiction',\n",
       " 'nonfict',\n",
       " 'histor',\n",
       " 'histor',\n",
       " 'science fiction',\n",
       " 'science fiction',\n",
       " 'gothic',\n",
       " 'autobiograph',\n",
       " 'autobiograph',\n",
       " 'autobiograph',\n",
       " 'adventur',\n",
       " 'adventur',\n",
       " 'histor',\n",
       " 'fantasi',\n",
       " 'fantasi',\n",
       " 'fantasi',\n",
       " 'fantasi',\n",
       " 'fiction',\n",
       " 'fantasi',\n",
       " 'sword and sorceri',\n",
       " 'sword and sorceri',\n",
       " 'children',\n",
       " 'children',\n",
       " 'sword and sorceri',\n",
       " 'sword and sorceri',\n",
       " 'horror',\n",
       " 'horror',\n",
       " 'horror',\n",
       " 'detect',\n",
       " 'comedi',\n",
       " 'comedi',\n",
       " 'horror',\n",
       " 'gothic',\n",
       " 'autobiographi',\n",
       " 'biographi',\n",
       " 'detect',\n",
       " 'detect',\n",
       " 'horror',\n",
       " 'horror',\n",
       " 'fantasi',\n",
       " 'fantasi',\n",
       " 'children',\n",
       " 'children',\n",
       " 'children',\n",
       " 'crime',\n",
       " 'detect',\n",
       " 'novel',\n",
       " 'novel',\n",
       " 'novel',\n",
       " 'science fiction',\n",
       " 'fantasi',\n",
       " 'histor',\n",
       " 'histor',\n",
       " 'histor',\n",
       " 'novel',\n",
       " 'novel',\n",
       " 'histor',\n",
       " 'histor',\n",
       " 'histor',\n",
       " 'histor',\n",
       " 'nonfict',\n",
       " 'nonfict',\n",
       " 'encyclopedia',\n",
       " 'novella',\n",
       " 'novel',\n",
       " 'science fiction',\n",
       " 'western',\n",
       " 'western',\n",
       " 'detect',\n",
       " 'biograph',\n",
       " 'novel',\n",
       " 'children',\n",
       " 'nonfict',\n",
       " 'young adult',\n",
       " 'young adult',\n",
       " 'bildungsroman',\n",
       " 'fantasi',\n",
       " 'fantasi',\n",
       " 'fantasi',\n",
       " 'fantasi',\n",
       " 'fantasi',\n",
       " 'fantasi',\n",
       " 'children',\n",
       " 'fantasi',\n",
       " 'children',\n",
       " 'fantasi',\n",
       " 'fantasi',\n",
       " 'polit',\n",
       " 'crime',\n",
       " 'crime',\n",
       " 'crime',\n",
       " 'crime',\n",
       " 'science fiction',\n",
       " 'science fiction',\n",
       " 'science fiction',\n",
       " 'science fiction',\n",
       " 'novel',\n",
       " 'novel',\n",
       " 'bildungsroman',\n",
       " 'fantasi',\n",
       " 'utopiananddystopian',\n",
       " 'utopiananddystopian',\n",
       " 'poetri',\n",
       " 'fantasi',\n",
       " 'fantasi',\n",
       " 'science fiction',\n",
       " 'histor',\n",
       " 'histor',\n",
       " 'histor',\n",
       " 'novel',\n",
       " 'crime',\n",
       " 'children',\n",
       " 'children',\n",
       " 'romantic',\n",
       " 'detect',\n",
       " 'detect',\n",
       " 'nonprofit',\n",
       " 'polit',\n",
       " 'polit',\n",
       " 'polit',\n",
       " 'bildungsroman',\n",
       " 'bildungsroman',\n",
       " 'novel',\n",
       " 'novel',\n",
       " 'philosophi',\n",
       " 'novel',\n",
       " 'novel',\n",
       " 'fantasi',\n",
       " 'fantasi',\n",
       " 'christian',\n",
       " 'fiction',\n",
       " 'prose poetri',\n",
       " 'prose poetri',\n",
       " 'biographi',\n",
       " 'biographi',\n",
       " 'nonfict',\n",
       " 'fantasi',\n",
       " 'western',\n",
       " 'crime',\n",
       " 'crime',\n",
       " 'memoir',\n",
       " 'memoir',\n",
       " 'biographi',\n",
       " 'biographi',\n",
       " 'young adult',\n",
       " 'young adult',\n",
       " 'slave narr',\n",
       " 'slave narr',\n",
       " 'detect',\n",
       " 'detect',\n",
       " 'histor',\n",
       " 'horror',\n",
       " 'novella',\n",
       " 'novella',\n",
       " 'young adult',\n",
       " 'humor',\n",
       " 'war',\n",
       " 'war',\n",
       " 'feministscienc',\n",
       " 'science fiction',\n",
       " 'philosophi',\n",
       " 'histor',\n",
       " 'detect',\n",
       " 'fiction',\n",
       " 'adventur',\n",
       " 'travel',\n",
       " 'children',\n",
       " 'science fiction',\n",
       " 'militari histori',\n",
       " 'militari histori',\n",
       " 'histor',\n",
       " 'philosophi',\n",
       " 'histor',\n",
       " 'children',\n",
       " 'young adult',\n",
       " 'adventur',\n",
       " 'thriller',\n",
       " 'adventur',\n",
       " 'philosophi',\n",
       " 'satir',\n",
       " 'satir',\n",
       " 'horror',\n",
       " 'romance',\n",
       " 'bildungsroman',\n",
       " 'unknown',\n",
       " 'unknown',\n",
       " 'short stori',\n",
       " 'children',\n",
       " 'horror',\n",
       " 'horror',\n",
       " 'adventur',\n",
       " 'horror',\n",
       " 'social commentari',\n",
       " 'social commentari',\n",
       " 'children',\n",
       " 'short stori',\n",
       " 'short stori',\n",
       " 'romance',\n",
       " 'children',\n",
       " 'children',\n",
       " 'photographi',\n",
       " 'romance',\n",
       " 'unknown',\n",
       " 'children',\n",
       " 'lost world genr',\n",
       " 'unknown',\n",
       " 'thriller',\n",
       " 'thriller',\n",
       " 'fiction',\n",
       " 'christian',\n",
       " 'psycholog',\n",
       " 'science fiction',\n",
       " 'fantasi',\n",
       " 'fantasi',\n",
       " 'nonfict',\n",
       " 'travel',\n",
       " 'travel',\n",
       " 'travel',\n",
       " 'travel',\n",
       " 'travel',\n",
       " 'travel',\n",
       " 'travel',\n",
       " 'travel',\n",
       " 'travel',\n",
       " 'travel',\n",
       " 'novel',\n",
       " 'adventur',\n",
       " 'mysteri',\n",
       " 'mysteri',\n",
       " 'children',\n",
       " 'unknown',\n",
       " 'adventur',\n",
       " 'histor',\n",
       " 'histor',\n",
       " 'busi',\n",
       " 'histor',\n",
       " 'gaucho',\n",
       " 'fantasi',\n",
       " 'fantasi',\n",
       " 'mysteri',\n",
       " 'adventur',\n",
       " 'romance',\n",
       " 'thriller',\n",
       " 'science fiction',\n",
       " 'travel write',\n",
       " 'travel write',\n",
       " 'planetari romanc',\n",
       " 'histor',\n",
       " 'short stori',\n",
       " 'monograph',\n",
       " 'unknown',\n",
       " 'short stori',\n",
       " 'short stori',\n",
       " 'nonfict',\n",
       " 'theodici',\n",
       " 'spiritu autobiographi',\n",
       " 'thriller',\n",
       " 'thriller',\n",
       " 'contemporari romanc',\n",
       " 'autobiograph',\n",
       " 'autobiograph',\n",
       " 'fantasi',\n",
       " 'unknown',\n",
       " 'comic',\n",
       " 'science fiction',\n",
       " 'comic',\n",
       " 'horror',\n",
       " 'comedi',\n",
       " 'unknown',\n",
       " 'unknown',\n",
       " 'novel',\n",
       " 'novel',\n",
       " 'novel',\n",
       " 'fantasi',\n",
       " 'unknown',\n",
       " 'crime',\n",
       " 'fantasi',\n",
       " 'romance',\n",
       " 'romance',\n",
       " 'adventur',\n",
       " 'novel',\n",
       " 'adventur',\n",
       " 'adventur',\n",
       " 'adventur',\n",
       " 'adventur',\n",
       " 'unknown',\n",
       " 'biographi',\n",
       " 'war',\n",
       " 'comedi',\n",
       " 'comedi',\n",
       " 'western',\n",
       " 'nonfict',\n",
       " 'nonfict']"
      ]
     },
     "execution_count": 8,
     "metadata": {},
     "output_type": "execute_result"
    }
   ],
   "source": [
    "y_train"
   ]
  },
  {
   "cell_type": "markdown",
   "metadata": {},
   "source": [
    "### Prepare the labels\n",
    "\n",
    "Encode the labels to one-hot vectors"
   ]
  },
  {
   "cell_type": "code",
   "execution_count": 9,
   "metadata": {},
   "outputs": [
    {
     "data": {
      "text/plain": [
       "array([[0., 0., 0., ..., 0., 0., 0.],\n",
       "       [1., 0., 0., ..., 0., 0., 0.],\n",
       "       [0., 0., 0., ..., 0., 0., 0.],\n",
       "       ...,\n",
       "       [0., 0., 0., ..., 0., 0., 0.],\n",
       "       [0., 0., 0., ..., 0., 0., 0.],\n",
       "       [0., 0., 0., ..., 0., 0., 0.]])"
      ]
     },
     "execution_count": 9,
     "metadata": {},
     "output_type": "execute_result"
    }
   ],
   "source": [
    "y_train, y_test = data.labels_to_vectors(dataset.label_dataset,y_train, y_test)\n",
    "y_train"
   ]
  },
  {
   "cell_type": "markdown",
   "metadata": {},
   "source": [
    "# Convert tokenlist to vectors\n",
    "\n",
    "### Using sentiment-wordlist"
   ]
  },
  {
   "cell_type": "code",
   "execution_count": 10,
   "metadata": {},
   "outputs": [
    {
     "data": {
      "text/plain": [
       "array([0., 0., 0., ..., 0., 0., 0.])"
      ]
     },
     "execution_count": 10,
     "metadata": {},
     "output_type": "execute_result"
    }
   ],
   "source": [
    "b = dataset.sentiment_dataset\n",
    "a = 'a s d fp sks dk fsji sdf'.split(' ')\n",
    "data.tokenlist_to_vector(a,b)"
   ]
  },
  {
   "cell_type": "markdown",
   "metadata": {},
   "source": [
    "### Using polarization scores"
   ]
  },
  {
   "cell_type": "code",
   "execution_count": 11,
   "metadata": {},
   "outputs": [
    {
     "data": {
      "text/plain": [
       "array([0.05957593, 0.04597156, 0.66307096, 0.02651661])"
      ]
     },
     "execution_count": 11,
     "metadata": {},
     "output_type": "execute_result"
    }
   ],
   "source": [
    "data.polarization_scores_to_vector(dataset,'706.txt')"
   ]
  },
  {
   "cell_type": "markdown",
   "metadata": {},
   "source": [
    "### Using NER scores"
   ]
  },
  {
   "cell_type": "code",
   "execution_count": 12,
   "metadata": {},
   "outputs": [],
   "source": [
    "# ..."
   ]
  },
  {
   "cell_type": "markdown",
   "metadata": {},
   "source": [
    "## Train a model\n",
    "Although most of the input consists of classes, many classes will be correlated (e.g. related genres).\n",
    "Therefore a neural network is chosen to model the data"
   ]
  },
  {
   "cell_type": "code",
   "execution_count": 13,
   "metadata": {},
   "outputs": [
    {
     "data": {
      "text/plain": [
       "(600, 5095)"
      ]
     },
     "execution_count": 13,
     "metadata": {},
     "output_type": "execute_result"
    }
   ],
   "source": [
    "x_train2 = models.to_vector(x_train, dataset)\n",
    "x_train2.shape"
   ]
  },
  {
   "cell_type": "code",
   "execution_count": 14,
   "metadata": {},
   "outputs": [
    {
     "name": "stdout",
     "output_type": "stream",
     "text": [
      "600 (5095,)\n",
      "output length 113\n"
     ]
    }
   ],
   "source": [
    "n_samples = len(x_train2) # = length of the list of images (matrices)\n",
    "input_shape = x_train2.shape[1:] # = shape of an individual image (matrix)\n",
    "output_length = (y_train[0]).shape[0] # = length of an individual label\n",
    "print(n_samples, input_shape)\n",
    "print('output length', output_length)"
   ]
  },
  {
   "cell_type": "code",
   "execution_count": 34,
   "metadata": {},
   "outputs": [
    {
     "name": "stdout",
     "output_type": "stream",
     "text": [
      "_________________________________________________________________\n",
      "Layer (type)                 Output Shape              Param #   \n",
      "=================================================================\n",
      "dense_5 (Dense)              (None, 256)               1304576   \n",
      "_________________________________________________________________\n",
      "dropout_3 (Dropout)          (None, 256)               0         \n",
      "_________________________________________________________________\n",
      "dense_6 (Dense)              (None, 113)               29041     \n",
      "=================================================================\n",
      "Total params: 1,333,617\n",
      "Trainable params: 1,333,617\n",
      "Non-trainable params: 0\n",
      "_________________________________________________________________\n"
     ]
    }
   ],
   "source": [
    "# import models # src/models.py\n",
    "dropout = 0.20\n",
    "# model, summary = models.sequential(input_shape, output_length, dropout)\n",
    "def sequential(input_shape, output_length, dropout=0.10):\n",
    "    model = Sequential()\n",
    "    model.add(Dense(256, activation='relu', input_shape=input_shape))\n",
    "    #model.add(Dense(256, activation='relu'))\n",
    "    model.add(Dropout(dropout))\n",
    "    model.add(Dense(output_length, activation='softmax'))\n",
    "    # in addition, return a function that displays information about the model\n",
    "    return model, model.summary\n",
    "\n",
    "model, summary = sequential(input_shape, output_length, dropout)\n",
    "\n",
    "summary()"
   ]
  },
  {
   "cell_type": "markdown",
   "metadata": {},
   "source": [
    "## Loss function\n",
    "- Categorical cross-entropy loss"
   ]
  },
  {
   "cell_type": "code",
   "execution_count": 35,
   "metadata": {},
   "outputs": [],
   "source": [
    "learning_rate = 0.0001\n",
    "optimizer = Adam(lr=learning_rate)\n",
    "model.compile(optimizer=optimizer, loss='categorical_crossentropy', metrics=['accuracy'])"
   ]
  },
  {
   "cell_type": "markdown",
   "metadata": {},
   "source": [
    "## Finally train the model"
   ]
  },
  {
   "cell_type": "code",
   "execution_count": 36,
   "metadata": {},
   "outputs": [],
   "source": [
    "# Compute a batch size\n",
    "batch_size = round(16)\n",
    "# n epochs = n iterations over all the training data\n",
    "epochs = 220"
   ]
  },
  {
   "cell_type": "markdown",
   "metadata": {},
   "source": [
    ".\n",
    "\n",
    "### Show logs [here](http://localhost:6006/#scalars)\n",
    "\n",
    "When training a new model, close any _Tenserboard_ tab,\n",
    "\n",
    "then run ` make logs ` and start training.\n",
    "\n",
    "."
   ]
  },
  {
   "cell_type": "code",
   "execution_count": 37,
   "metadata": {
    "scrolled": true
   },
   "outputs": [
    {
     "name": "stdout",
     "output_type": "stream",
     "text": [
      "Epoch 1/220\n",
      "600/600 [==============================] - 2s 3ms/step - loss: 4.6978 - acc: 0.0633\n",
      "Epoch 2/220\n",
      "600/600 [==============================] - 1s 2ms/step - loss: 4.6208 - acc: 0.0900\n",
      "Epoch 3/220\n",
      "600/600 [==============================] - 1s 2ms/step - loss: 4.5101 - acc: 0.1067\n",
      "Epoch 4/220\n",
      "600/600 [==============================] - 1s 2ms/step - loss: 4.3685 - acc: 0.0967\n",
      "Epoch 5/220\n",
      "600/600 [==============================] - 1s 2ms/step - loss: 4.2175 - acc: 0.1033\n",
      "Epoch 6/220\n",
      "600/600 [==============================] - 1s 2ms/step - loss: 4.0894 - acc: 0.1183\n",
      "Epoch 7/220\n",
      "600/600 [==============================] - 1s 2ms/step - loss: 3.9844 - acc: 0.1000\n",
      "Epoch 8/220\n",
      "600/600 [==============================] - 1s 2ms/step - loss: 3.9151 - acc: 0.1150\n",
      "Epoch 9/220\n",
      "600/600 [==============================] - 1s 2ms/step - loss: 3.8580 - acc: 0.1250\n",
      "Epoch 10/220\n",
      "600/600 [==============================] - 1s 2ms/step - loss: 3.8298 - acc: 0.1433\n",
      "Epoch 11/220\n",
      "600/600 [==============================] - 1s 2ms/step - loss: 3.7982 - acc: 0.1517\n",
      "Epoch 12/220\n",
      "600/600 [==============================] - 1s 2ms/step - loss: 3.7678 - acc: 0.1550\n",
      "Epoch 13/220\n",
      "600/600 [==============================] - 1s 2ms/step - loss: 3.7261 - acc: 0.1683\n",
      "Epoch 14/220\n",
      "600/600 [==============================] - 1s 2ms/step - loss: 3.7136 - acc: 0.1733\n",
      "Epoch 15/220\n",
      "600/600 [==============================] - 1s 2ms/step - loss: 3.6808 - acc: 0.1733\n",
      "Epoch 16/220\n",
      "600/600 [==============================] - 1s 2ms/step - loss: 3.6614 - acc: 0.1983\n",
      "Epoch 17/220\n",
      "600/600 [==============================] - 1s 2ms/step - loss: 3.6343 - acc: 0.2117\n",
      "Epoch 18/220\n",
      "600/600 [==============================] - 1s 2ms/step - loss: 3.6268 - acc: 0.2033\n",
      "Epoch 19/220\n",
      "600/600 [==============================] - 1s 2ms/step - loss: 3.6022 - acc: 0.2117\n",
      "Epoch 20/220\n",
      "600/600 [==============================] - 1s 2ms/step - loss: 3.5840 - acc: 0.2183\n",
      "Epoch 21/220\n",
      "600/600 [==============================] - 1s 2ms/step - loss: 3.5605 - acc: 0.2450\n",
      "Epoch 22/220\n",
      "600/600 [==============================] - 1s 2ms/step - loss: 3.5213 - acc: 0.2450\n",
      "Epoch 23/220\n",
      "600/600 [==============================] - 1s 2ms/step - loss: 3.5134 - acc: 0.2400\n",
      "Epoch 24/220\n",
      "600/600 [==============================] - 1s 2ms/step - loss: 3.4898 - acc: 0.2400\n",
      "Epoch 25/220\n",
      "600/600 [==============================] - 1s 2ms/step - loss: 3.4750 - acc: 0.2650\n",
      "Epoch 26/220\n",
      "600/600 [==============================] - 1s 2ms/step - loss: 3.4425 - acc: 0.2817\n",
      "Epoch 27/220\n",
      "600/600 [==============================] - 1s 2ms/step - loss: 3.4231 - acc: 0.2583\n",
      "Epoch 28/220\n",
      "600/600 [==============================] - 1s 2ms/step - loss: 3.4071 - acc: 0.2867\n",
      "Epoch 29/220\n",
      "600/600 [==============================] - 1s 2ms/step - loss: 3.3932 - acc: 0.2733\n",
      "Epoch 30/220\n",
      "600/600 [==============================] - 1s 2ms/step - loss: 3.3755 - acc: 0.2867\n",
      "Epoch 31/220\n",
      "600/600 [==============================] - 1s 2ms/step - loss: 3.3418 - acc: 0.3033\n",
      "Epoch 32/220\n",
      "600/600 [==============================] - 1s 2ms/step - loss: 3.3329 - acc: 0.3100\n",
      "Epoch 33/220\n",
      "600/600 [==============================] - 1s 2ms/step - loss: 3.3119 - acc: 0.3233\n",
      "Epoch 34/220\n",
      "600/600 [==============================] - 1s 2ms/step - loss: 3.2767 - acc: 0.3250\n",
      "Epoch 35/220\n",
      "600/600 [==============================] - 1s 2ms/step - loss: 3.2667 - acc: 0.3083\n",
      "Epoch 36/220\n",
      "600/600 [==============================] - 1s 2ms/step - loss: 3.2334 - acc: 0.3100\n",
      "Epoch 37/220\n",
      "600/600 [==============================] - 1s 2ms/step - loss: 3.2199 - acc: 0.3233\n",
      "Epoch 38/220\n",
      "600/600 [==============================] - 1s 2ms/step - loss: 3.1974 - acc: 0.3133\n",
      "Epoch 39/220\n",
      "600/600 [==============================] - 1s 2ms/step - loss: 3.1722 - acc: 0.3317\n",
      "Epoch 40/220\n",
      "600/600 [==============================] - 1s 2ms/step - loss: 3.1533 - acc: 0.3483\n",
      "Epoch 41/220\n",
      "600/600 [==============================] - 1s 2ms/step - loss: 3.1339 - acc: 0.3367\n",
      "Epoch 42/220\n",
      "600/600 [==============================] - 1s 2ms/step - loss: 3.1042 - acc: 0.3367\n",
      "Epoch 43/220\n",
      "600/600 [==============================] - 1s 2ms/step - loss: 3.0995 - acc: 0.3300\n",
      "Epoch 44/220\n",
      "600/600 [==============================] - 1s 2ms/step - loss: 3.0783 - acc: 0.3550\n",
      "Epoch 45/220\n",
      "600/600 [==============================] - 1s 2ms/step - loss: 3.0554 - acc: 0.3617\n",
      "Epoch 46/220\n",
      "600/600 [==============================] - 1s 2ms/step - loss: 3.0359 - acc: 0.3617\n",
      "Epoch 47/220\n",
      "600/600 [==============================] - 1s 2ms/step - loss: 3.0048 - acc: 0.3633\n",
      "Epoch 48/220\n",
      "600/600 [==============================] - 1s 2ms/step - loss: 2.9941 - acc: 0.3633\n",
      "Epoch 49/220\n",
      "600/600 [==============================] - 1s 2ms/step - loss: 2.9724 - acc: 0.3783\n",
      "Epoch 50/220\n",
      "600/600 [==============================] - 1s 2ms/step - loss: 2.9545 - acc: 0.3817\n",
      "Epoch 51/220\n",
      "600/600 [==============================] - 1s 2ms/step - loss: 2.9163 - acc: 0.3950\n",
      "Epoch 52/220\n",
      "600/600 [==============================] - 1s 2ms/step - loss: 2.9104 - acc: 0.3967\n",
      "Epoch 53/220\n",
      "600/600 [==============================] - 1s 2ms/step - loss: 2.8862 - acc: 0.3833\n",
      "Epoch 54/220\n",
      "600/600 [==============================] - 1s 2ms/step - loss: 2.8598 - acc: 0.4000\n",
      "Epoch 55/220\n",
      "600/600 [==============================] - 1s 2ms/step - loss: 2.8342 - acc: 0.3950\n",
      "Epoch 56/220\n",
      "600/600 [==============================] - 1s 2ms/step - loss: 2.8243 - acc: 0.4100\n",
      "Epoch 57/220\n",
      "600/600 [==============================] - 1s 2ms/step - loss: 2.8020 - acc: 0.4183\n",
      "Epoch 58/220\n",
      "600/600 [==============================] - 1s 2ms/step - loss: 2.7848 - acc: 0.4083\n",
      "Epoch 59/220\n",
      "600/600 [==============================] - 1s 2ms/step - loss: 2.7557 - acc: 0.4250\n",
      "Epoch 60/220\n",
      "600/600 [==============================] - 1s 2ms/step - loss: 2.7357 - acc: 0.4167\n",
      "Epoch 61/220\n",
      "600/600 [==============================] - 1s 2ms/step - loss: 2.7149 - acc: 0.4283\n",
      "Epoch 62/220\n",
      "600/600 [==============================] - 1s 2ms/step - loss: 2.6898 - acc: 0.4167\n",
      "Epoch 63/220\n",
      "600/600 [==============================] - 1s 2ms/step - loss: 2.6877 - acc: 0.4333\n",
      "Epoch 64/220\n",
      "600/600 [==============================] - 1s 2ms/step - loss: 2.6576 - acc: 0.4333\n",
      "Epoch 65/220\n",
      "600/600 [==============================] - 1s 2ms/step - loss: 2.6456 - acc: 0.4483\n",
      "Epoch 66/220\n",
      "600/600 [==============================] - 1s 2ms/step - loss: 2.6084 - acc: 0.4567\n",
      "Epoch 67/220\n",
      "600/600 [==============================] - 1s 2ms/step - loss: 2.6075 - acc: 0.4533\n",
      "Epoch 68/220\n",
      "600/600 [==============================] - 1s 2ms/step - loss: 2.5743 - acc: 0.4533\n",
      "Epoch 69/220\n",
      "600/600 [==============================] - 1s 2ms/step - loss: 2.5713 - acc: 0.4517\n",
      "Epoch 70/220\n",
      "600/600 [==============================] - 1s 2ms/step - loss: 2.5440 - acc: 0.4817\n",
      "Epoch 71/220\n",
      "600/600 [==============================] - 1s 2ms/step - loss: 2.5173 - acc: 0.4833\n",
      "Epoch 72/220\n",
      "600/600 [==============================] - 1s 2ms/step - loss: 2.5084 - acc: 0.4733\n",
      "Epoch 73/220\n",
      "600/600 [==============================] - 1s 2ms/step - loss: 2.4709 - acc: 0.5017\n",
      "Epoch 74/220\n",
      "600/600 [==============================] - 1s 2ms/step - loss: 2.4569 - acc: 0.4933\n",
      "Epoch 75/220\n",
      "600/600 [==============================] - 1s 2ms/step - loss: 2.4541 - acc: 0.4750\n",
      "Epoch 76/220\n",
      "600/600 [==============================] - 1s 2ms/step - loss: 2.4183 - acc: 0.5067\n",
      "Epoch 77/220\n",
      "600/600 [==============================] - 1s 2ms/step - loss: 2.3966 - acc: 0.5117\n",
      "Epoch 78/220\n",
      "600/600 [==============================] - 1s 2ms/step - loss: 2.3750 - acc: 0.5133\n",
      "Epoch 79/220\n",
      "600/600 [==============================] - 1s 2ms/step - loss: 2.3600 - acc: 0.5317\n",
      "Epoch 80/220\n",
      "600/600 [==============================] - 1s 2ms/step - loss: 2.3352 - acc: 0.5250\n",
      "Epoch 81/220\n",
      "600/600 [==============================] - 1s 2ms/step - loss: 2.3271 - acc: 0.5233\n",
      "Epoch 82/220\n",
      "600/600 [==============================] - 1s 2ms/step - loss: 2.3057 - acc: 0.5267\n",
      "Epoch 83/220\n",
      "600/600 [==============================] - 1s 2ms/step - loss: 2.2913 - acc: 0.5317\n",
      "Epoch 84/220\n",
      "600/600 [==============================] - 1s 2ms/step - loss: 2.2731 - acc: 0.5417\n",
      "Epoch 85/220\n"
     ]
    },
    {
     "name": "stdout",
     "output_type": "stream",
     "text": [
      "600/600 [==============================] - 1s 2ms/step - loss: 2.2595 - acc: 0.5450\n",
      "Epoch 86/220\n",
      "600/600 [==============================] - 1s 2ms/step - loss: 2.2343 - acc: 0.5667\n",
      "Epoch 87/220\n",
      "600/600 [==============================] - 1s 2ms/step - loss: 2.2120 - acc: 0.5583\n",
      "Epoch 88/220\n",
      "600/600 [==============================] - 1s 2ms/step - loss: 2.1935 - acc: 0.5750\n",
      "Epoch 89/220\n",
      "600/600 [==============================] - 1s 2ms/step - loss: 2.1793 - acc: 0.5850\n",
      "Epoch 90/220\n",
      "600/600 [==============================] - 1s 2ms/step - loss: 2.1579 - acc: 0.5817\n",
      "Epoch 91/220\n",
      "600/600 [==============================] - 1s 2ms/step - loss: 2.1466 - acc: 0.5800\n",
      "Epoch 92/220\n",
      "600/600 [==============================] - 1s 2ms/step - loss: 2.1145 - acc: 0.5817\n",
      "Epoch 93/220\n",
      "600/600 [==============================] - 1s 2ms/step - loss: 2.1002 - acc: 0.5817\n",
      "Epoch 94/220\n",
      "600/600 [==============================] - 1s 2ms/step - loss: 2.0939 - acc: 0.5933\n",
      "Epoch 95/220\n",
      "600/600 [==============================] - 1s 2ms/step - loss: 2.0744 - acc: 0.6033A: 0s - loss: 2.1352 - acc\n",
      "Epoch 96/220\n",
      "600/600 [==============================] - 2s 3ms/step - loss: 2.0524 - acc: 0.6067\n",
      "Epoch 97/220\n",
      "600/600 [==============================] - 2s 3ms/step - loss: 2.0544 - acc: 0.6100\n",
      "Epoch 98/220\n",
      "600/600 [==============================] - 1s 2ms/step - loss: 2.0258 - acc: 0.6183\n",
      "Epoch 99/220\n",
      "600/600 [==============================] - 2s 3ms/step - loss: 2.0024 - acc: 0.6183\n",
      "Epoch 100/220\n",
      "600/600 [==============================] - 1s 2ms/step - loss: 1.9935 - acc: 0.6117\n",
      "Epoch 101/220\n",
      "600/600 [==============================] - 1s 2ms/step - loss: 1.9709 - acc: 0.6150\n",
      "Epoch 102/220\n",
      "600/600 [==============================] - 1s 2ms/step - loss: 1.9435 - acc: 0.6217\n",
      "Epoch 103/220\n",
      "600/600 [==============================] - 1s 2ms/step - loss: 1.9414 - acc: 0.6283\n",
      "Epoch 104/220\n",
      "600/600 [==============================] - 1s 2ms/step - loss: 1.9228 - acc: 0.6400\n",
      "Epoch 105/220\n",
      "600/600 [==============================] - 1s 2ms/step - loss: 1.8941 - acc: 0.6400\n",
      "Epoch 106/220\n",
      "600/600 [==============================] - 1s 2ms/step - loss: 1.8781 - acc: 0.6433\n",
      "Epoch 107/220\n",
      "600/600 [==============================] - 1s 2ms/step - loss: 1.8637 - acc: 0.6517\n",
      "Epoch 108/220\n",
      "600/600 [==============================] - 1s 2ms/step - loss: 1.8558 - acc: 0.6367\n",
      "Epoch 109/220\n",
      "600/600 [==============================] - 1s 2ms/step - loss: 1.8321 - acc: 0.6433\n",
      "Epoch 110/220\n",
      "600/600 [==============================] - 1s 2ms/step - loss: 1.8204 - acc: 0.6583\n",
      "Epoch 111/220\n",
      "600/600 [==============================] - 1s 2ms/step - loss: 1.8202 - acc: 0.6533\n",
      "Epoch 112/220\n",
      "600/600 [==============================] - 1s 2ms/step - loss: 1.7941 - acc: 0.6733\n",
      "Epoch 113/220\n",
      "600/600 [==============================] - 1s 2ms/step - loss: 1.7691 - acc: 0.6817\n",
      "Epoch 114/220\n",
      "600/600 [==============================] - 1s 2ms/step - loss: 1.7625 - acc: 0.6650\n",
      "Epoch 115/220\n",
      "600/600 [==============================] - 1s 2ms/step - loss: 1.7459 - acc: 0.6767\n",
      "Epoch 116/220\n",
      "600/600 [==============================] - 1s 2ms/step - loss: 1.7297 - acc: 0.6883\n",
      "Epoch 117/220\n",
      "600/600 [==============================] - 1s 2ms/step - loss: 1.6927 - acc: 0.6867\n",
      "Epoch 118/220\n",
      "600/600 [==============================] - 1s 2ms/step - loss: 1.6912 - acc: 0.7000\n",
      "Epoch 119/220\n",
      "600/600 [==============================] - 1s 2ms/step - loss: 1.6732 - acc: 0.7017\n",
      "Epoch 120/220\n",
      "600/600 [==============================] - 1s 2ms/step - loss: 1.6604 - acc: 0.7067\n",
      "Epoch 121/220\n",
      "600/600 [==============================] - 1s 2ms/step - loss: 1.6459 - acc: 0.6983\n",
      "Epoch 122/220\n",
      "600/600 [==============================] - 1s 2ms/step - loss: 1.6353 - acc: 0.6967\n",
      "Epoch 123/220\n",
      "600/600 [==============================] - 1s 2ms/step - loss: 1.6132 - acc: 0.7217\n",
      "Epoch 124/220\n",
      "600/600 [==============================] - 1s 2ms/step - loss: 1.6057 - acc: 0.7167\n",
      "Epoch 125/220\n",
      "600/600 [==============================] - 1s 2ms/step - loss: 1.5922 - acc: 0.7200\n",
      "Epoch 126/220\n",
      "600/600 [==============================] - 1s 2ms/step - loss: 1.5748 - acc: 0.7333\n",
      "Epoch 127/220\n",
      "600/600 [==============================] - 1s 2ms/step - loss: 1.5550 - acc: 0.7233\n",
      "Epoch 128/220\n",
      "600/600 [==============================] - 1s 2ms/step - loss: 1.5551 - acc: 0.7333\n",
      "Epoch 129/220\n",
      "600/600 [==============================] - 1s 2ms/step - loss: 1.5360 - acc: 0.7317\n",
      "Epoch 130/220\n",
      "600/600 [==============================] - 1s 2ms/step - loss: 1.5106 - acc: 0.7333\n",
      "Epoch 131/220\n",
      "600/600 [==============================] - 1s 2ms/step - loss: 1.5210 - acc: 0.7333\n",
      "Epoch 132/220\n",
      "600/600 [==============================] - 1s 2ms/step - loss: 1.4933 - acc: 0.7317\n",
      "Epoch 133/220\n",
      "600/600 [==============================] - 1s 2ms/step - loss: 1.4815 - acc: 0.7317\n",
      "Epoch 134/220\n",
      "600/600 [==============================] - 1s 2ms/step - loss: 1.4585 - acc: 0.7400\n",
      "Epoch 135/220\n",
      "600/600 [==============================] - 1s 2ms/step - loss: 1.4465 - acc: 0.7533\n",
      "Epoch 136/220\n",
      "600/600 [==============================] - 1s 2ms/step - loss: 1.4427 - acc: 0.7450\n",
      "Epoch 137/220\n",
      "600/600 [==============================] - 1s 2ms/step - loss: 1.4155 - acc: 0.7633\n",
      "Epoch 138/220\n",
      "600/600 [==============================] - 1s 2ms/step - loss: 1.4075 - acc: 0.7533\n",
      "Epoch 139/220\n",
      "600/600 [==============================] - 1s 2ms/step - loss: 1.3889 - acc: 0.7567\n",
      "Epoch 140/220\n",
      "600/600 [==============================] - 1s 2ms/step - loss: 1.3898 - acc: 0.7600\n",
      "Epoch 141/220\n",
      "600/600 [==============================] - 1s 2ms/step - loss: 1.3678 - acc: 0.7567\n",
      "Epoch 142/220\n",
      "600/600 [==============================] - 1s 2ms/step - loss: 1.3502 - acc: 0.7717\n",
      "Epoch 143/220\n",
      "600/600 [==============================] - 1s 2ms/step - loss: 1.3330 - acc: 0.7783\n",
      "Epoch 144/220\n",
      "600/600 [==============================] - 1s 2ms/step - loss: 1.3294 - acc: 0.7750\n",
      "Epoch 145/220\n",
      "600/600 [==============================] - 1s 2ms/step - loss: 1.3048 - acc: 0.7733\n",
      "Epoch 146/220\n",
      "600/600 [==============================] - 1s 2ms/step - loss: 1.3023 - acc: 0.7783\n",
      "Epoch 147/220\n",
      "600/600 [==============================] - 1s 2ms/step - loss: 1.2925 - acc: 0.7833\n",
      "Epoch 148/220\n",
      "600/600 [==============================] - 1s 2ms/step - loss: 1.2834 - acc: 0.7900\n",
      "Epoch 149/220\n",
      "600/600 [==============================] - 1s 2ms/step - loss: 1.2531 - acc: 0.7967\n",
      "Epoch 150/220\n",
      "600/600 [==============================] - 1s 2ms/step - loss: 1.2468 - acc: 0.7900\n",
      "Epoch 151/220\n",
      "600/600 [==============================] - 1s 2ms/step - loss: 1.2439 - acc: 0.7917\n",
      "Epoch 152/220\n",
      "600/600 [==============================] - 1s 2ms/step - loss: 1.2330 - acc: 0.7933\n",
      "Epoch 153/220\n",
      "600/600 [==============================] - 1s 2ms/step - loss: 1.2250 - acc: 0.7933\n",
      "Epoch 154/220\n",
      "600/600 [==============================] - 1s 2ms/step - loss: 1.1882 - acc: 0.7950\n",
      "Epoch 155/220\n",
      "600/600 [==============================] - 1s 2ms/step - loss: 1.1889 - acc: 0.8100\n",
      "Epoch 156/220\n",
      "600/600 [==============================] - 1s 2ms/step - loss: 1.1871 - acc: 0.8050\n",
      "Epoch 157/220\n",
      "600/600 [==============================] - 1s 2ms/step - loss: 1.1812 - acc: 0.8083\n",
      "Epoch 158/220\n",
      "600/600 [==============================] - 1s 2ms/step - loss: 1.1698 - acc: 0.8083\n",
      "Epoch 159/220\n",
      "600/600 [==============================] - 1s 2ms/step - loss: 1.1482 - acc: 0.8167\n",
      "Epoch 160/220\n",
      "600/600 [==============================] - 1s 2ms/step - loss: 1.1360 - acc: 0.8200\n",
      "Epoch 161/220\n",
      "600/600 [==============================] - 1s 2ms/step - loss: 1.1227 - acc: 0.8250\n",
      "Epoch 162/220\n",
      "600/600 [==============================] - 1s 2ms/step - loss: 1.1124 - acc: 0.8167\n",
      "Epoch 163/220\n",
      "600/600 [==============================] - 1s 2ms/step - loss: 1.0976 - acc: 0.8300\n",
      "Epoch 164/220\n",
      "600/600 [==============================] - 1s 2ms/step - loss: 1.0825 - acc: 0.8200\n",
      "Epoch 165/220\n",
      "600/600 [==============================] - 1s 2ms/step - loss: 1.0694 - acc: 0.8267\n",
      "Epoch 166/220\n",
      "600/600 [==============================] - 1s 2ms/step - loss: 1.0788 - acc: 0.8283\n",
      "Epoch 167/220\n",
      "600/600 [==============================] - 1s 2ms/step - loss: 1.0574 - acc: 0.8317\n",
      "Epoch 168/220\n"
     ]
    },
    {
     "name": "stdout",
     "output_type": "stream",
     "text": [
      "600/600 [==============================] - 1s 2ms/step - loss: 1.0349 - acc: 0.8350\n",
      "Epoch 169/220\n",
      "600/600 [==============================] - 1s 2ms/step - loss: 1.0409 - acc: 0.8417\n",
      "Epoch 170/220\n",
      "600/600 [==============================] - 1s 2ms/step - loss: 1.0168 - acc: 0.8467\n",
      "Epoch 171/220\n",
      "600/600 [==============================] - 1s 2ms/step - loss: 1.0199 - acc: 0.8467\n",
      "Epoch 172/220\n",
      "600/600 [==============================] - 1s 2ms/step - loss: 1.0084 - acc: 0.8383\n",
      "Epoch 173/220\n",
      "600/600 [==============================] - 1s 2ms/step - loss: 0.9871 - acc: 0.8550\n",
      "Epoch 174/220\n",
      "600/600 [==============================] - 1s 2ms/step - loss: 0.9859 - acc: 0.8517\n",
      "Epoch 175/220\n",
      "600/600 [==============================] - 1s 2ms/step - loss: 0.9609 - acc: 0.8683\n",
      "Epoch 176/220\n",
      "600/600 [==============================] - 1s 2ms/step - loss: 0.9696 - acc: 0.8550\n",
      "Epoch 177/220\n",
      "600/600 [==============================] - 1s 2ms/step - loss: 0.9571 - acc: 0.8567\n",
      "Epoch 178/220\n",
      "600/600 [==============================] - 1s 2ms/step - loss: 0.9207 - acc: 0.8650\n",
      "Epoch 179/220\n",
      "600/600 [==============================] - 1s 2ms/step - loss: 0.9351 - acc: 0.8583\n",
      "Epoch 180/220\n",
      "600/600 [==============================] - 1s 2ms/step - loss: 0.9158 - acc: 0.8667\n",
      "Epoch 181/220\n",
      "600/600 [==============================] - 1s 2ms/step - loss: 0.9101 - acc: 0.8650\n",
      "Epoch 182/220\n",
      "600/600 [==============================] - 1s 2ms/step - loss: 0.8996 - acc: 0.8717\n",
      "Epoch 183/220\n",
      "600/600 [==============================] - 1s 2ms/step - loss: 0.8845 - acc: 0.8683\n",
      "Epoch 184/220\n",
      "600/600 [==============================] - 1s 2ms/step - loss: 0.8795 - acc: 0.8833\n",
      "Epoch 185/220\n",
      "600/600 [==============================] - 1s 2ms/step - loss: 0.8691 - acc: 0.8767\n",
      "Epoch 186/220\n",
      "600/600 [==============================] - 1s 2ms/step - loss: 0.8561 - acc: 0.8833\n",
      "Epoch 187/220\n",
      "600/600 [==============================] - 1s 2ms/step - loss: 0.8475 - acc: 0.8833\n",
      "Epoch 188/220\n",
      "600/600 [==============================] - 1s 2ms/step - loss: 0.8463 - acc: 0.8850\n",
      "Epoch 189/220\n",
      "600/600 [==============================] - 1s 2ms/step - loss: 0.8294 - acc: 0.8850\n",
      "Epoch 190/220\n",
      "600/600 [==============================] - 1s 2ms/step - loss: 0.8096 - acc: 0.8967\n",
      "Epoch 191/220\n",
      "600/600 [==============================] - 1s 2ms/step - loss: 0.8174 - acc: 0.8850\n",
      "Epoch 192/220\n",
      "600/600 [==============================] - 1s 2ms/step - loss: 0.8061 - acc: 0.8967\n",
      "Epoch 193/220\n",
      "600/600 [==============================] - 1s 2ms/step - loss: 0.7993 - acc: 0.8883\n",
      "Epoch 194/220\n",
      "600/600 [==============================] - 1s 2ms/step - loss: 0.7779 - acc: 0.8900\n",
      "Epoch 195/220\n",
      "600/600 [==============================] - 1s 2ms/step - loss: 0.7939 - acc: 0.8900\n",
      "Epoch 196/220\n",
      "600/600 [==============================] - 1s 2ms/step - loss: 0.7665 - acc: 0.8983\n",
      "Epoch 197/220\n",
      "600/600 [==============================] - 1s 2ms/step - loss: 0.7543 - acc: 0.8817\n",
      "Epoch 198/220\n",
      "600/600 [==============================] - 1s 2ms/step - loss: 0.7475 - acc: 0.8933\n",
      "Epoch 199/220\n",
      "600/600 [==============================] - 2s 3ms/step - loss: 0.7458 - acc: 0.8967\n",
      "Epoch 200/220\n",
      "600/600 [==============================] - 1s 2ms/step - loss: 0.7394 - acc: 0.8983\n",
      "Epoch 201/220\n",
      "600/600 [==============================] - 1s 2ms/step - loss: 0.7391 - acc: 0.9083\n",
      "Epoch 202/220\n",
      "600/600 [==============================] - 1s 2ms/step - loss: 0.7208 - acc: 0.9067\n",
      "Epoch 203/220\n",
      "600/600 [==============================] - 1s 2ms/step - loss: 0.7122 - acc: 0.9067\n",
      "Epoch 204/220\n",
      "600/600 [==============================] - 1s 2ms/step - loss: 0.7012 - acc: 0.9017\n",
      "Epoch 205/220\n",
      "600/600 [==============================] - 1s 2ms/step - loss: 0.6940 - acc: 0.9133\n",
      "Epoch 206/220\n",
      "600/600 [==============================] - 1s 2ms/step - loss: 0.6845 - acc: 0.9133\n",
      "Epoch 207/220\n",
      "600/600 [==============================] - 1s 2ms/step - loss: 0.6859 - acc: 0.9217\n",
      "Epoch 208/220\n",
      "600/600 [==============================] - 1s 2ms/step - loss: 0.6662 - acc: 0.9117\n",
      "Epoch 209/220\n",
      "600/600 [==============================] - 1s 2ms/step - loss: 0.6672 - acc: 0.9167\n",
      "Epoch 210/220\n",
      "600/600 [==============================] - 1s 2ms/step - loss: 0.6543 - acc: 0.9250A: 1s - loss: 0.57\n",
      "Epoch 211/220\n",
      "600/600 [==============================] - 1s 2ms/step - loss: 0.6482 - acc: 0.9167\n",
      "Epoch 212/220\n",
      "600/600 [==============================] - 1s 2ms/step - loss: 0.6368 - acc: 0.9267\n",
      "Epoch 213/220\n",
      "600/600 [==============================] - 1s 2ms/step - loss: 0.6252 - acc: 0.9167\n",
      "Epoch 214/220\n",
      "600/600 [==============================] - 1s 2ms/step - loss: 0.6231 - acc: 0.9233\n",
      "Epoch 215/220\n",
      "600/600 [==============================] - 1s 2ms/step - loss: 0.6075 - acc: 0.9233\n",
      "Epoch 216/220\n",
      "600/600 [==============================] - 1s 2ms/step - loss: 0.6055 - acc: 0.9283\n",
      "Epoch 217/220\n",
      "600/600 [==============================] - 1s 2ms/step - loss: 0.5936 - acc: 0.9283\n",
      "Epoch 218/220\n",
      "600/600 [==============================] - 1s 2ms/step - loss: 0.6006 - acc: 0.9250\n",
      "Epoch 219/220\n",
      "600/600 [==============================] - 1s 2ms/step - loss: 0.5949 - acc: 0.9333\n",
      "Epoch 220/220\n",
      "600/600 [==============================] - 1s 2ms/step - loss: 0.5791 - acc: 0.9350\n"
     ]
    }
   ],
   "source": [
    "use_validation_split = True\n",
    "use_validation_split = False\n",
    "\n",
    "if use_validation_split:\n",
    "    model.fit(x_train2, y_train, epochs=epochs, batch_size=batch_size, validation_split=1/6, callbacks=[TensorBoard(log_dir=config.tmp_model_dir)])\n",
    "else:    \n",
    "    model.fit(x_train2, y_train, epochs=epochs, batch_size=batch_size)"
   ]
  },
  {
   "cell_type": "code",
   "execution_count": null,
   "metadata": {},
   "outputs": [],
   "source": []
  },
  {
   "cell_type": "markdown",
   "metadata": {},
   "source": [
    "## (optional) Train an SVM\n",
    "This SVM requires y :: [ int ]"
   ]
  },
  {
   "cell_type": "code",
   "execution_count": 38,
   "metadata": {},
   "outputs": [],
   "source": [
    "n = 400\n",
    "n_classes = 20"
   ]
  },
  {
   "cell_type": "code",
   "execution_count": 39,
   "metadata": {},
   "outputs": [
    {
     "name": "stdout",
     "output_type": "stream",
     "text": [
      "400\n",
      "[17, 1, 110, 102, 19, 52, 1, 15, 83, 75, 15, 15, 113, 85, 83, 25, 30, 48, 15, 1]\n"
     ]
    }
   ],
   "source": [
    "# convert y to [int]\n",
    "y_train3 = [y.argmax() + 1 for y in y_train[:n]]\n",
    "# exclude classes\n",
    "# y_train3 = [y.argmax() for y in y_train[:n] if (y.argmax() < n_classes and not y.argmax() in [8,2])]\n",
    "n = len(y_train3)\n",
    "print(n)\n",
    "print(y_train3[:20])"
   ]
  },
  {
   "cell_type": "code",
   "execution_count": 40,
   "metadata": {},
   "outputs": [],
   "source": [
    "# # SVM\n",
    "# clf = svm.SVC()\n",
    "# clf.fit(x_train2[:n], y_train3[:n])\n",
    "# print('done')\n",
    "# result = clf.predict(x_train2[:n])"
   ]
  },
  {
   "cell_type": "code",
   "execution_count": 41,
   "metadata": {},
   "outputs": [],
   "source": [
    "# x = np.array([[1,2],[3,4],[1,1],[4,3]])\n",
    "# y = np.array([3,2,1,2])\n",
    "# clf = svm.SVC()\n",
    "# clf.fit(x,y)\n",
    "# xx = np.array([[2,1]])\n",
    "# clf.predict(xx)"
   ]
  },
  {
   "cell_type": "code",
   "execution_count": null,
   "metadata": {},
   "outputs": [],
   "source": []
  },
  {
   "cell_type": "markdown",
   "metadata": {},
   "source": [
    "## Save model to disk"
   ]
  },
  {
   "cell_type": "code",
   "execution_count": 42,
   "metadata": {},
   "outputs": [],
   "source": [
    "def save_model(model, model_name, weight_name):\n",
    "    # serialize model to JSON\n",
    "    model_json = model.to_json()\n",
    "    with open(config.dataset_dir + 'models/' + model_name + '.json', \"w\") as json_file:\n",
    "        json_file.write(model_json)\n",
    "    # serialize weights to HDF5\n",
    "    model.save_weights(config.dataset_dir + 'models/' + weight_name + '.h5', \"w\")\n",
    "    print(\"Saved model to disk\")\n",
    "    "
   ]
  },
  {
   "cell_type": "code",
   "execution_count": 43,
   "metadata": {},
   "outputs": [
    {
     "name": "stdout",
     "output_type": "stream",
     "text": [
      "Saved model to disk\n"
     ]
    }
   ],
   "source": [
    "save_model(model, \"default_model\",\"default_model_w\")"
   ]
  },
  {
   "cell_type": "markdown",
   "metadata": {},
   "source": [
    "# Test"
   ]
  },
  {
   "cell_type": "code",
   "execution_count": 51,
   "metadata": {},
   "outputs": [
    {
     "data": {
      "text/plain": [
       "array([[False, False, False, ..., False, False, False],\n",
       "       [False, False, False, ..., False, False, False],\n",
       "       [False, False, False, ..., False, False, False],\n",
       "       ...,\n",
       "       [False, False, False, ..., False, False, False],\n",
       "       [False, False, False, ..., False, False, False],\n",
       "       [False, False, False, ..., False, False, False]])"
      ]
     },
     "execution_count": 51,
     "metadata": {},
     "output_type": "execute_result"
    }
   ],
   "source": [
    "result_known_data = model.predict(x_train2)\n",
    "result_known_data == y_train"
   ]
  },
  {
   "cell_type": "code",
   "execution_count": 52,
   "metadata": {},
   "outputs": [
    {
     "data": {
      "text/plain": [
       "0.5535803"
      ]
     },
     "execution_count": 52,
     "metadata": {},
     "output_type": "execute_result"
    }
   ],
   "source": [
    "i = result_known_data[0].argmax()\n",
    "result_known_data[0][i]"
   ]
  },
  {
   "cell_type": "code",
   "execution_count": 46,
   "metadata": {},
   "outputs": [],
   "source": [
    "# data.y_to_label_dict(dataset,result_known_data[0])"
   ]
  },
  {
   "cell_type": "code",
   "execution_count": 53,
   "metadata": {},
   "outputs": [
    {
     "data": {
      "text/plain": [
       "['christian']"
      ]
     },
     "execution_count": 53,
     "metadata": {},
     "output_type": "execute_result"
    }
   ],
   "source": [
    "all_, best = data.decode_y(dataset, result_known_data[0])\n",
    "best"
   ]
  },
  {
   "cell_type": "code",
   "execution_count": 48,
   "metadata": {
    "scrolled": true
   },
   "outputs": [
    {
     "name": "stdout",
     "output_type": "stream",
     "text": [
      "0.9433333333333334 566 34 600\n"
     ]
    }
   ],
   "source": [
    "correct, incorrect,_,_ = data.analyse_ml_result(dataset, y_train, result_known_data)\n",
    "print(correct/float(incorrect + correct), correct, incorrect, correct+incorrect)"
   ]
  },
  {
   "cell_type": "code",
   "execution_count": 49,
   "metadata": {
    "scrolled": true
   },
   "outputs": [
    {
     "name": "stdout",
     "output_type": "stream",
     "text": [
      "0.3611111111111111 52 92 144\n"
     ]
    }
   ],
   "source": [
    "r = model.predict(models.to_vector(x_test, dataset))\n",
    "correct, incorrect,_,_ = data.analyse_ml_result(dataset, y_test, r, 1)\n",
    "print(correct/float(incorrect + correct), correct, incorrect, correct+incorrect)"
   ]
  },
  {
   "cell_type": "code",
   "execution_count": 50,
   "metadata": {},
   "outputs": [
    {
     "name": "stdout",
     "output_type": "stream",
     "text": [
      "0.5486111111111112 79 65 144\n"
     ]
    }
   ],
   "source": [
    "r = model.predict(models.to_vector(x_test, dataset))\n",
    "correct, incorrect, c, ic = data.analyse_ml_result(dataset, y_test, r, 5)\n",
    "print(correct/float(incorrect + correct), correct, incorrect, correct+incorrect)"
   ]
  },
  {
   "cell_type": "code",
   "execution_count": 32,
   "metadata": {},
   "outputs": [
    {
     "data": {
      "text/plain": [
       "80"
      ]
     },
     "execution_count": 32,
     "metadata": {},
     "output_type": "execute_result"
    }
   ],
   "source": [
    "len(c)"
   ]
  },
  {
   "cell_type": "code",
   "execution_count": 33,
   "metadata": {},
   "outputs": [
    {
     "data": {
      "text/plain": [
       "7"
      ]
     },
     "execution_count": 33,
     "metadata": {},
     "output_type": "execute_result"
    }
   ],
   "source": [
    "len(set(c))"
   ]
  },
  {
   "cell_type": "code",
   "execution_count": 71,
   "metadata": {},
   "outputs": [
    {
     "data": {
      "text/plain": [
       "Counter({'adventur': 6,\n",
       "         'children': 16,\n",
       "         'detect': 2,\n",
       "         'epistolari': 2,\n",
       "         'fantasi': 17,\n",
       "         'fiction': 2,\n",
       "         'gothic': 2,\n",
       "         'histor': 13,\n",
       "         'horror': 3,\n",
       "         'nonfict': 2,\n",
       "         'novel': 10,\n",
       "         'novella': 1,\n",
       "         'science fiction': 4,\n",
       "         'short stori': 1,\n",
       "         'unknown': 12})"
      ]
     },
     "execution_count": 71,
     "metadata": {},
     "output_type": "execute_result"
    }
   ],
   "source": [
    "counter = collections.Counter(c)\n",
    "counter"
   ]
  },
  {
   "cell_type": "code",
   "execution_count": 72,
   "metadata": {},
   "outputs": [
    {
     "data": {
      "text/plain": [
       "15"
      ]
     },
     "execution_count": 72,
     "metadata": {},
     "output_type": "execute_result"
    }
   ],
   "source": [
    "len(counter.keys())"
   ]
  },
  {
   "cell_type": "code",
   "execution_count": 73,
   "metadata": {},
   "outputs": [],
   "source": [
    "def sf(string):\n",
    "    if string == 'Science Fiction':\n",
    "        string = 'SF'\n",
    "    return string"
   ]
  },
  {
   "cell_type": "code",
   "execution_count": 74,
   "metadata": {},
   "outputs": [
    {
     "data": {
      "text/plain": [
       "OrderedDict([('Fantasi', 17),\n",
       "             ('Children', 16),\n",
       "             ('Histor', 13),\n",
       "             ('Unknown', 12),\n",
       "             ('Novel', 10),\n",
       "             ('Adventur', 6),\n",
       "             ('SF', 4),\n",
       "             ('Horror', 3),\n",
       "             ('Gothic', 2),\n",
       "             ('Detect', 2),\n",
       "             ('Nonfict', 2),\n",
       "             ('Fiction', 2),\n",
       "             ('Epistolari', 2),\n",
       "             ('Novella', 1),\n",
       "             ('Short Stori', 1)])"
      ]
     },
     "execution_count": 74,
     "metadata": {},
     "output_type": "execute_result"
    }
   ],
   "source": [
    "amt = 30\n",
    "ls = list(counter.items())\n",
    "ls.sort(key=lambda x: x[1], reverse=True)\n",
    "names = []\n",
    "values = []\n",
    "for k,v in ls:\n",
    "        names.append(k)\n",
    "        values.append(v)\n",
    "data = {sf(k.title()):v for k,v in ls[:amt] } \n",
    "data = collections.OrderedDict(data) # override alfabetical sorting\n",
    "data"
   ]
  },
  {
   "cell_type": "code",
   "execution_count": 75,
   "metadata": {},
   "outputs": [],
   "source": [
    "font_path = config.dataset_dir + 'Open_Sans_Condensed/OpenSansCondensed-Light.ttf'"
   ]
  },
  {
   "cell_type": "code",
   "execution_count": 76,
   "metadata": {},
   "outputs": [],
   "source": [
    "# # reduce len(data)\n",
    "# amt = 60\n",
    "# # sort by value\n",
    "# ls = list(counted.items())\n",
    "# ls.sort(key=lambda x: x[1], reverse=True)\n",
    "# data = collections.OrderedDict(ls[:amt])\n",
    "\n",
    "# fig, axs = plt.subplots(1, 1, figsize=(15, 6))#, figsize=(9, 3), sharey=True)\n",
    "\n",
    "# axs.bar(range(len(data)), list(data.values()), align='center')\n",
    "# plt.xticks(range(len(data)), list(data.keys()))\n",
    "# plt.xticks(rotation=90)\n",
    "# plt.show()"
   ]
  },
  {
   "cell_type": "code",
   "execution_count": 77,
   "metadata": {},
   "outputs": [
    {
     "data": {
      "image/png": "[encoded data removed]",
      "text/plain": [
       "<matplotlib.figure.Figure at 0x129581b70>"
      ]
     },
     "metadata": {},
     "output_type": "display_data"
    }
   ],
   "source": [
    "import matplotlib.pyplot as plt\n",
    "import matplotlib.font_manager as fm\n",
    "from matplotlib import rcParams\n",
    "rcParams['font.family'] = 'sans-serif'\n",
    "rcParams['font.sans-serif'] = [\n",
    "    'Times New Roman', 'Tahoma', 'DejaVu Sans', 'Lucida Grande', 'Verdana'\n",
    "]\n",
    "# rcParams['font'] = font_path\n",
    "\n",
    "rcParams['font.size'] = 18\n",
    "\n",
    "prop = fm.FontProperties(fname=font_path)\n",
    "# ax.set_title('This is some random font', fontproperties=prop, size=32)\n",
    "\n",
    "# data = {'apples': 10, 'oranges': 15, 'lemons': 5, 'limes': 20}\n",
    "# names = list(data.keys())\n",
    "# values = list(data.values())\n",
    "\n",
    "fig, axs = plt.subplots(1, 1, figsize=(12, 3))#, figsize=(9, 3), sharey=True)\n",
    "# axs.bar(names, values)\n",
    "axs.bar(range(len(data)), list(data.values()), align='center')\n",
    "plt.xticks(range(len(data)), list(data.keys()))\n",
    "plt.xticks(rotation=90)\n",
    "plt.fontproperties = prop\n",
    "plt.savefig('../plot/correct_labels.png')\n",
    "# fig.suptitle('Categorical Plotting')"
   ]
  },
  {
   "cell_type": "code",
   "execution_count": null,
   "metadata": {},
   "outputs": [],
   "source": []
  },
  {
   "cell_type": "code",
   "execution_count": null,
   "metadata": {},
   "outputs": [],
   "source": []
  },
  {
   "cell_type": "code",
   "execution_count": null,
   "metadata": {},
   "outputs": [],
   "source": []
  },
  {
   "cell_type": "code",
   "execution_count": null,
   "metadata": {},
   "outputs": [],
   "source": []
  }
 ],
 "metadata": {
  "kernelspec": {
   "display_name": "Python 3",
   "language": "python",
   "name": "python3"
  },
  "language_info": {
   "codemirror_mode": {
    "name": "ipython",
    "version": 3
   },
   "file_extension": ".py",
   "mimetype": "text/x-python",
   "name": "python",
   "nbconvert_exporter": "python",
   "pygments_lexer": "ipython3",
   "version": "3.6.4"
  }
 },
 "nbformat": 4,
 "nbformat_minor": 2
}
