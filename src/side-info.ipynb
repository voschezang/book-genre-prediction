{
 "cells": [
  {
   "cell_type": "code",
   "execution_count": 1,
   "metadata": {},
   "outputs": [
    {
     "data": {
      "text/plain": [
       "'/Users/Tristan/books/src'"
      ]
     },
     "execution_count": 1,
     "metadata": {},
     "output_type": "execute_result"
    }
   ],
   "source": [
    "import os, csv, time\n",
    "import pandas as pd\n",
    "import sparql\n",
    "from collections import Counter\n",
    "os.getcwd()"
   ]
  },
  {
   "cell_type": "code",
   "execution_count": 2,
   "metadata": {
    "collapsed": true
   },
   "outputs": [],
   "source": [
    "# local modules\n",
    "import config\n",
    "import sparql\n"
   ]
  },
  {
   "cell_type": "markdown",
   "metadata": {},
   "source": [
    "First we create an empty CSV file with the colums to fill."
   ]
  },
  {
   "cell_type": "markdown",
   "metadata": {},
   "source": [
    "## Find additional info"
   ]
  },
  {
   "cell_type": "markdown",
   "metadata": {},
   "source": [
    "setup the data from the csv file to a pd dataframe and set the index of the dataframe to the titles of the books. The latter will be useful later."
   ]
  },
  {
   "cell_type": "code",
   "execution_count": 3,
   "metadata": {},
   "outputs": [],
   "source": [
    "filename = config.dataset_dir + '/output/bookdata_alt.csv'\n",
    "info = pd.read_csv(filename)\n",
    "info.index = info['title']\n"
   ]
  },
  {
   "cell_type": "code",
   "execution_count": 4,
   "metadata": {},
   "outputs": [],
   "source": [
    "keys, _ = sparql.book_info()"
   ]
  },
  {
   "cell_type": "code",
   "execution_count": 5,
   "metadata": {
    "scrolled": true
   },
   "outputs": [],
   "source": [
    "def books_info(title_list=[], verbose=False):\n",
    "    \n",
    "    print('searching %i titles' % len(title_list))\n",
    "    data_per_book = []\n",
    "    unknown_titles = []\n",
    "    # keys, _ = sparql.book_info()\n",
    "    for title in title_list:\n",
    "        # TODO try a couple of times\n",
    "        # book info returns     \n",
    "        #  ('ok', (keys, [info_dict]) ) | ('error', 'http_error')\n",
    "        (success, result) = sparql.book_info(title)\n",
    "        if verbose: print(success, len(result[1]))\n",
    "        if success == 'ok':\n",
    "            _, results = result\n",
    "            if not results == []:\n",
    "                # ignore all but the first result\n",
    "                # TODO save results that have an author\n",
    "                data_per_book.append(results[0])\n",
    "            else: # 'http_error'\n",
    "                if verbose: print('error', title)\n",
    "                unknown_titles.append(title)\n",
    "        else:\n",
    "            unknown_titles.append(title)\n",
    "        \n",
    " \n",
    "    return data_per_book, unknown_titles\n",
    "\n"
   ]
  },
  {
   "cell_type": "markdown",
   "metadata": {},
   "source": [
    "Run the function books_info to get the data for the books found in dbpedia and the books that where not found in dbpedia"
   ]
  },
  {
   "cell_type": "code",
   "execution_count": 6,
   "metadata": {
    "scrolled": true
   },
   "outputs": [
    {
     "name": "stdout",
     "output_type": "stream",
     "text": [
      "searching 698 titles\n",
      "n results 285\n",
      "n failed (not found) 413\n"
     ]
    }
   ],
   "source": [
    "v = False\n",
    "results, unknown_titles = books_info(info['title'], verbose=v)\n",
    "\n",
    "print('n results',len(results))\n",
    "print('n failed (not found)',len(unknown_titles))\n"
   ]
  },
  {
   "cell_type": "markdown",
   "metadata": {},
   "source": [
    "Delete rows from the dataframe where the book is not found in dbpedia. Without this data, the row is useless."
   ]
  },
  {
   "cell_type": "code",
   "execution_count": 7,
   "metadata": {},
   "outputs": [],
   "source": [
    "for title in unknown_titles:\n",
    "    info = info.drop(title)\n",
    "    \n"
   ]
  },
  {
   "cell_type": "markdown",
   "metadata": {},
   "source": [
    "Next, we want to find the genres for all books"
   ]
  },
  {
   "cell_type": "code",
   "execution_count": 8,
   "metadata": {},
   "outputs": [
    {
     "name": "stdout",
     "output_type": "stream",
     "text": [
      "152\n",
      "Counter({'unknown': 133, \"Children's literature\": 17, 'Novel': 15, 'Adventure novel': 11, 'Fantasy novel': 8, 'Science fiction': 6, 'Historical novel': 6, 'Novella': 6, 'Short story': 5, 'Fiction': 3, 'War novel': 3, 'Bildungsroman': 3, 'Thriller (genre)': 3, 'Essay': 3, 'Short stories': 3, \"Children's novel\": 2, 'Horror fiction': 2, 'Bush poetry': 2, 'Adventure fiction': 2, 'Gothic fiction': 2, 'Historical fiction': 2, 'Autobiographical novel': 2, 'Science fantasy': 2, 'Lost World (genre)': 2, 'Detective fiction': 2, \"Children's book\": 2, 'Christian mythology': 2, 'Comedy novel': 2, 'Crime fiction': 1, 'History': 1, 'Horror novel': 1, 'Spiritual autobiography': 1, 'Travel literature': 1, 'Young adult novel': 1, 'Nonsense poetry': 1, 'Non-Fiction': 1, \"Children's fiction\": 1, 'Fantasy': 1, 'Theodicy': 1, 'Science Fantasy': 1, 'Philosophical fiction': 1, 'Autobiography': 1, 'Gothic novel': 1, 'Romance novel': 1, 'Non-fiction': 1, 'Planetary romance': 1, 'Novel of manners': 1, 'Short story cycle': 1, 'Ruritanian romance': 1, 'Nature writing': 1, 'Poetry': 1, 'Juvenile literature': 1, 'Chivalric romance': 1, 'Literary realism': 1, 'Biographical novel': 1, 'Mystery novel': 1, 'Satire': 1, 'Photography': 1, 'Utopian novel': 1, 'Fairy tale': 1, 'Historical Novel': 1, 'Christian Apologetics': 1})\n"
     ]
    }
   ],
   "source": [
    "def find_genres(dic):\n",
    "    to_strip = 'http://dbpedia.org/resource/'\n",
    "    genre_list = []\n",
    "    title_list = []\n",
    "   \n",
    "    for result in dic:\n",
    "        try:\n",
    "            genre = (result['genre']['value'])\n",
    "            genre = genre.replace(to_strip, '')\n",
    "            genre = genre.replace('_', ' ')\n",
    "            genre_list.append(genre)\n",
    "            \n",
    "        except KeyError as error:\n",
    "            genre = 'unknown'\n",
    "            genre_list.append(genre)\n",
    "            # Output expected KeyErrors.\n",
    "            continue\n",
    "            \n",
    "  \n",
    "    # COMMENTED CODE DOES NOT WORK YET  \n",
    "    genres = pd.Series(genre_list)\n",
    "    info['genre'] = genres.values\n",
    "    unique_genres = set(genre_list)\n",
    "    genre_distribution = Counter(genre_list)\n",
    "    print(len([genre for genre in genres if genre != \"unknown\"]))\n",
    "    return unique_genres, genre_distribution, info\n",
    "\n",
    "unique_genres, genre_distribution, info = find_genres(results)\n",
    "print(genre_distribution)\n",
    "info = info[info.genre != 'unknown']\n",
    "\n",
    "info.to_csv(config.dataset_dir + '/output/final_data.csv')"
   ]
  },
  {
   "cell_type": "code",
   "execution_count": 9,
   "metadata": {},
   "outputs": [
    {
     "name": "stdout",
     "output_type": "stream",
     "text": [
      "{'Fairy tale', 'Historical Novel', 'Bush poetry', 'Science Fantasy', 'Thriller (genre)', 'Utopian novel', 'Romance novel', 'Nonsense poetry', \"Children's fiction\", 'Bildungsroman', 'Gothic fiction', 'Literary realism', 'Gothic novel', 'Fantasy', 'Biographical novel', 'Spiritual autobiography', 'Short story cycle', 'Novel', 'Ruritanian romance', 'Detective fiction', 'War novel', 'Horror novel', 'Essay', 'Adventure novel', 'Mystery novel', 'Nature writing', 'Non-Fiction', 'Historical novel', 'Fiction', 'Short stories', 'Adventure fiction', 'Science fiction', 'Short story', 'unknown', 'Poetry', 'Comedy novel', 'Autobiography', \"Children's literature\", 'Juvenile literature', 'Science fantasy', 'Novel of manners', 'Autobiographical novel', 'Christian mythology', 'Satire', 'Fantasy novel', \"Children's book\", 'Christian Apologetics', 'Theodicy', 'Chivalric romance', 'Travel literature', 'Planetary romance', 'Photography', \"Children's novel\", 'Historical fiction', 'Lost World (genre)', 'Philosophical fiction', 'Young adult novel', 'Non-fiction', 'Crime fiction', 'History', 'Novella', 'Horror fiction'}\n"
     ]
    }
   ],
   "source": [
    "print(unique_genres)"
   ]
  },
  {
   "cell_type": "code",
   "execution_count": 10,
   "metadata": {
    "scrolled": true
   },
   "outputs": [
    {
     "name": "stdout",
     "output_type": "stream",
     "text": [
      "searching 413 titles\n",
      "n results 0\n",
      "n failed (not found) 413\n"
     ]
    }
   ],
   "source": [
    "sanitized = [sparql.sanitize(t) for t in unknown_titles]\n",
    "results, unknown_titles = books_info(sanitized, verbose=v)\n",
    "print('n results',len(results))\n",
    "print('n failed (not found)',len(unknown_titles))"
   ]
  },
  {
   "cell_type": "code",
   "execution_count": 11,
   "metadata": {},
   "outputs": [
    {
     "data": {
      "text/plain": [
       "\"sdf ' df\""
      ]
     },
     "execution_count": 11,
     "metadata": {},
     "output_type": "execute_result"
    }
   ],
   "source": [
    "# TODO string.strip\n",
    "string = \"sdf ' df\"\n",
    "string = string.strip('\"`')\n",
    "string = string.strip(\"'\")\n",
    "string"
   ]
  },
  {
   "cell_type": "code",
   "execution_count": 12,
   "metadata": {},
   "outputs": [
    {
     "data": {
      "text/plain": [
       "title\n",
       "The Wind in the Willows              The Wind in the Willows\n",
       "The Amateur Cracksman                  The Amateur Cracksman\n",
       "A Child's History of England    A Child's History of England\n",
       "Heretics                                            Heretics\n",
       "The Golden Road                              The Golden Road\n",
       "The White People                            The White People\n",
       "The Castle of Otranto                  The Castle of Otranto\n",
       "Bride of Lammermoor                      Bride of Lammermoor\n",
       "St. Ives                                            St. Ives\n",
       "Allan Quatermain                            Allan Quatermain\n",
       "Name: title, dtype: object"
      ]
     },
     "execution_count": 12,
     "metadata": {},
     "output_type": "execute_result"
    }
   ],
   "source": [
    "info['title'][0:10]"
   ]
  },
  {
   "cell_type": "code",
   "execution_count": null,
   "metadata": {
    "collapsed": true
   },
   "outputs": [],
   "source": []
  },
  {
   "cell_type": "code",
   "execution_count": null,
   "metadata": {
    "collapsed": true
   },
   "outputs": [],
   "source": []
  },
  {
   "cell_type": "code",
   "execution_count": null,
   "metadata": {
    "collapsed": true
   },
   "outputs": [],
   "source": []
  },
  {
   "cell_type": "code",
   "execution_count": null,
   "metadata": {
    "collapsed": true
   },
   "outputs": [],
   "source": []
  },
  {
   "cell_type": "code",
   "execution_count": null,
   "metadata": {
    "collapsed": true
   },
   "outputs": [],
   "source": []
  }
 ],
 "metadata": {
  "kernelspec": {
   "display_name": "Python 3",
   "language": "python",
   "name": "python3"
  },
  "language_info": {
   "codemirror_mode": {
    "name": "ipython",
    "version": 3
   },
   "file_extension": ".py",
   "mimetype": "text/x-python",
   "name": "python",
   "nbconvert_exporter": "python",
   "pygments_lexer": "ipython3",
   "version": "3.6.3"
  }
 },
 "nbformat": 4,
 "nbformat_minor": 2
}
